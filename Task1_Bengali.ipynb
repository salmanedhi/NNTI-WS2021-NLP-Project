{
 "cells": [
  {
   "cell_type": "markdown",
   "metadata": {
    "id": "_VZXi_KGi0UR"
   },
   "source": [
    "# Task 1: Word Embeddings (10 points)\n",
    "\n",
    "This notebook will guide you through all steps necessary to train a word2vec model (Detailed description in the PDF)."
   ]
  },
  {
   "cell_type": "markdown",
   "metadata": {
    "id": "48t-II1vkuau"
   },
   "source": [
    "## Imports\n",
    "\n",
    "This code block is reserved for your imports. \n",
    "\n",
    "You are free to use the following packages: \n",
    "\n",
    "(List of packages)"
   ]
  },
  {
   "cell_type": "code",
   "execution_count": 1,
   "metadata": {
    "id": "4kh6nh84-AOL"
   },
   "outputs": [
    {
     "name": "stdout",
     "output_type": "stream",
     "text": [
      "Done\n"
     ]
    }
   ],
   "source": [
    "# Imports\n",
    "import numpy as np\n",
    "import pandas as pd\n",
    "import nltk\n",
    "from nltk.corpus import stopwords\n",
    "import torch as torch\n",
    "from torch import nn\n",
    "from nltk.tokenize import word_tokenize\n",
    "import math as mt\n",
    "import time\n",
    "import random\n",
    "from joblib import Parallel, delayed\n",
    "from torch.autograd import Variable\n",
    "import matplotlib.pyplot as plt\n",
    "from sklearn.utils import shuffle\n",
    "import torch.utils.data as data_utils\n",
    "from torch.utils.data import DataLoader\n",
    "print(\"Done\")"
   ]
  },
  {
   "cell_type": "markdown",
   "metadata": {
    "id": "NWmk3hVllEcU"
   },
   "source": [
    "# 1.1 Get the data (0.5 points)\n",
    "\n",
    "The Hindi portion HASOC corpus from [github.io](https://hasocfire.github.io/hasoc/2019/dataset.html) is already available in the repo, at data/hindi_hatespeech.tsv . Load it into a data structure of your choice. Then, split off a small part of the corpus as a development set (~100 data points).\n",
    "\n",
    "If you are using Colab the first two lines will let you upload folders or files from your local file system."
   ]
  },
  {
   "cell_type": "code",
   "execution_count": 2,
   "metadata": {
    "id": "XtI7DJ-0-AOP"
   },
   "outputs": [
    {
     "name": "stdout",
     "output_type": "stream",
     "text": [
      "                                                    text  hate       category\n",
      "1106   জার্সি পরা মাগীর ছেলেকে ঘন্টা পিটানো হক সাকিব ...     1         sports\n",
      "1904   মোমো এবং ফারিয়া দুইটাই উন্নত মানের দুধেল গাভী ...     1  entertainment\n",
      "11066  এইভাবে ছেলেটাকে হেনস্থা করা ঠিক না।যারা ওকে ধর...     0         sports\n",
      "577         পাপন একটা খানকির ছেলে অর পদত্যাগ চাই চাই চাই     1         sports\n",
      "2322                                                 বাল     1  entertainment\n",
      "...                                                  ...   ...            ...\n",
      "729                        তুই মারাজাছ না কেন মাগীর পুলা     1         sports\n",
      "1348             আওয়ামী লীগের সালারা সব পারে এটাই প্রমান     1         sports\n",
      "10704  মহানবি হযরত মুহাম্মদ সাঃ এর ভক্ত আছো কে কে সাড...     0         sports\n",
      "11680  রুবেল সৈই চালাক । মেয়েটি লোভী ছিল । উল্টা ঠকছে...     0         sports\n",
      "63     রফিক আমার চেটের বাল🐸মুশি রিয়াদ টাকা দে তাই হেত...     1         sports\n",
      "\n",
      "[4665 rows x 3 columns]\n"
     ]
    }
   ],
   "source": [
    "\n",
    "if torch.cuda.is_available():\n",
    "    dev = \"cuda:0\"\n",
    "else:\n",
    "    dev = \"cpu\"\n",
    "    \n",
    "bengali_data = pd.read_csv('data/bengali_hatespeech.csv')\n",
    "\n",
    "bengali_data_hate = bengali_data.loc[bengali_data['hate'] == 1]\n",
    "bengali_data_not_hate = bengali_data.loc[bengali_data['hate'] == 0]\n",
    "\n",
    "bengali_data_hate = bengali_data_hate.iloc[0:2332] \n",
    "bengali_data_not_hate = bengali_data_not_hate.iloc[0:2333]\n",
    "\n",
    "data_development = pd.concat([bengali_data_hate, bengali_data_not_hate])\n",
    "data_development = shuffle(data_development)\n",
    "data_development.columns = [\"text\", \"hate\", \"category\"]\n",
    "\n",
    "labels = data_development['hate']\n",
    "labels = np.array(labels)\n",
    "print(data_development)"
   ]
  },
  {
   "cell_type": "markdown",
   "metadata": {
    "id": "D-mSJ8nUlupB"
   },
   "source": [
    "## 1.2 Data preparation (0.5 + 0.5 points)\n",
    "\n",
    "* Prepare the data by removing everything that does not contain information. \n",
    "User names (starting with '@') and punctuation symbols clearly do not convey information, but we also want to get rid of so-called [stopwords](https://en.wikipedia.org/wiki/Stop_word), i. e. words that have little to no semantic content (and, but, yes, the...). Hindi stopwords can be found [here](https://github.com/stopwords-iso/stopwords-hi/blob/master/stopwords-hi.txt) Then, standardize the spelling by lowercasing all words.\n",
    "Do this for the development section of the corpus for now.\n",
    "\n",
    "* What about hashtags (starting with '#') and emojis? Should they be removed too? Justify your answer in the report, and explain how you accounted for this in your implementation."
   ]
  },
  {
   "cell_type": "code",
   "execution_count": 4,
   "metadata": {
    "id": "CHcNeyKi-AOQ"
   },
   "outputs": [
    {
     "name": "stdout",
     "output_type": "stream",
     "text": [
      "Done 4665\n"
     ]
    }
   ],
   "source": [
    "#TODO: implement!\n",
    "# file = '/content/drive/My Drive/stopwords-hi.txt'\n",
    "\n",
    "# with open(file, 'r', encoding=\"utf8\") as f2:\n",
    "#     hindi_stopword_file = f2.read()\n",
    "    \n",
    "    \n",
    "hindi_stopword_file = open('data/stopwords-hi.txt', encoding=\"utf8\")\n",
    "\n",
    "sw_list = ['#', '?', '!', ';', ',', ':', \"\\'\", '-', '=', '(', ')', '[', ']' , '{', '}', '\"', '*', '@', '  ', '\\\\', '/', '..', '...', '....', '%'\n",
    "          ,'0', '1', '2', '3', '4', '5', '6', '7', '8', '9', '\\t']\n",
    "sw_list_string = ''\n",
    "for i in sw_list:\n",
    "    sw_list_string+=i\n",
    "hindi_stopwords = []\n",
    "for x in hindi_stopword_file:\n",
    "    hindi_stopwords.append(x.rstrip())\n",
    "\n",
    "hindi_stopwords.extend(sw_list)\n",
    "sentences = []\n",
    "for text in data_development['text']:\n",
    "    text_array = text.split(' ')\n",
    "    new_array = []\n",
    "    for j in text_array:\n",
    "        if '@' not in j and len(j) < 20:\n",
    "            for char in sw_list:\n",
    "                j = j.replace(char, '')\n",
    "            new_array.append(j.lower())\n",
    "    sentences.append(' '.join(new_array))\n",
    "\n",
    "print(\"Done\", len(sentences))"
   ]
  },
  {
   "cell_type": "markdown",
   "metadata": {
    "id": "Je09nozLmmMm"
   },
   "source": [
    "## 1.3 Build the vocabulary (0.5 + 0.5 points)\n",
    "\n",
    "The input to the first layer of word2vec is an one-hot encoding of the current word. The output od the model is then compared to a numeric class label of the words within the size of the skip-gram window. Now\n",
    "\n",
    "* Compile a list of all words in the development section of your corpus and save it in a variable ```V```."
   ]
  },
  {
   "cell_type": "code",
   "execution_count": 5,
   "metadata": {
    "id": "VpoGmTKx-AOQ"
   },
   "outputs": [
    {
     "name": "stdout",
     "output_type": "stream",
     "text": [
      "Total words: 64027\n",
      "Unique words: 14482\n"
     ]
    }
   ],
   "source": [
    "#TODO: implement!\n",
    "temp_unique = [] # For unique words\n",
    "temp_nounique = []\n",
    "for j in sentences:\n",
    "    temp2 = j.split(' ')\n",
    "    for k in temp2:\n",
    "        if k not in temp_unique:\n",
    "            temp_unique.append(k)\n",
    "        temp_nounique.append(k)\n",
    "V = temp_unique\n",
    "non_unique = temp_nounique\n",
    "print('Total words:', len(non_unique))\n",
    "print('Unique words:', len(V))"
   ]
  },
  {
   "cell_type": "markdown",
   "metadata": {
    "id": "WiaVglVNoENY"
   },
   "source": [
    "* Then, write a function ```word_to_one_hot``` that returns a one-hot encoding of an arbitrary word in the vocabulary. The size of the one-hot encoding should be ```len(v)```."
   ]
  },
  {
   "cell_type": "code",
   "execution_count": 6,
   "metadata": {
    "id": "yqPNw6IT-AOQ"
   },
   "outputs": [],
   "source": [
    "#TODO: implement!\n",
    "def word_to_one_hot(word, features):\n",
    "    if word in V:\n",
    "        index = V.index(word)\n",
    "        encoding = np.zeros(features)\n",
    "        encoding[index]= 1\n",
    "        return encoding.astype(np.uint8)\n",
    "    return False\n",
    "\n",
    "def not_word_to_one_hot(word, features):\n",
    "    if word in V:\n",
    "        index = V.index(word)\n",
    "#         encoding = np.zeros(features)\n",
    "#         encoding[index]= 1\n",
    "        return index\n",
    "    return False\n",
    "#   pass\n",
    "\n",
    "def index_to_onehot(X_batch):\n",
    "    X_batch_new = []\n",
    "    y_batch_new = []\n",
    "    encodingX = np.eye(4)[X_batch]\n",
    "    return type(encodingX)"
   ]
  },
  {
   "cell_type": "markdown",
   "metadata": {
    "id": "gKD8zBlxVclh"
   },
   "source": [
    "## 1.4 Subsampling (0.5 points)\n",
    "\n",
    "The probability to keep a word in a context is given by:\n",
    "\n",
    "$P_{keep}(w_i) = \\Big(\\sqrt{\\frac{z(w_i)}{0.001}}+1\\Big) \\cdot \\frac{0.001}{z(w_i)}$\n",
    "\n",
    "Where $z(w_i)$ is the relative frequency of the word $w_i$ in the corpus. Now,\n",
    "* Calculate word frequencies\n",
    "* Define a function ```sampling_prob``` that takes a word (string) as input and returns the probabiliy to **keep** the word in a context."
   ]
  },
  {
   "cell_type": "code",
   "execution_count": 7,
   "metadata": {
    "id": "Mj4sDOVMMr0b"
   },
   "outputs": [],
   "source": [
    "#TODO: implement!\n",
    "def sampling_prob(word):\n",
    "    z_wi = non_unique.count(word) / len(non_unique)\n",
    "    try:\n",
    "        p_wi = (mt.sqrt(z_wi / 0.001) + 1) * (0.001 / z_wi)\n",
    "        return p_wi\n",
    "    except ZeroDivisionError:\n",
    "        print(\"Word doesn't exist in corpus\")\n",
    "    pass"
   ]
  },
  {
   "cell_type": "markdown",
   "metadata": {
    "id": "kxV1P90zplxu"
   },
   "source": [
    "# 1.5 Skip-Grams (1 point)\n",
    "\n",
    "Now that you have the vocabulary and one-hot encodings at hand, you can start to do the actual work. The skip gram model requires training data of the shape ```(current_word, context)```, with ```context``` being the words before and/or after ```current_word``` within ```window_size```. \n",
    "\n",
    "* Have closer look on the original paper. If you feel to understand how skip-gram works, implement a function ```get_target_context``` that takes a sentence as input and [yield](https://docs.python.org/3.9/reference/simple_stmts.html#the-yield-statement)s a ```(current_word, context)```.\n",
    "\n",
    "* Use your ```sampling_prob``` function to drop words from contexts as you sample them. "
   ]
  },
  {
   "cell_type": "code",
   "execution_count": 9,
   "metadata": {
    "id": "r8CCTpVy-AOR"
   },
   "outputs": [
    {
     "name": "stdout",
     "output_type": "stream",
     "text": [
      "Done\n"
     ]
    }
   ],
   "source": [
    "#TODO: implement!\n",
    "def get_target_context(sentence, window_size):\n",
    "    word = ''\n",
    "    words_in_sentence = sentence.split(' ')\n",
    "    for i in range(len(words_in_sentence)):\n",
    "        context = []\n",
    "        randd = random.random()\n",
    "#         print('1st: ', words_in_sentence[i], sampling_prob(words_in_sentence[i]), randd)\n",
    "        if randd <= sampling_prob(words_in_sentence[i]):\n",
    "            word = words_in_sentence[i]\n",
    "            upper_bound = i + window_size + 1\n",
    "            lower_bound = i - window_size\n",
    "            for j in range(lower_bound, upper_bound):\n",
    "                rand2 = random.random()\n",
    "                if i != j and j>=0 and j<len(words_in_sentence):\n",
    "                    if rand2 <= sampling_prob(words_in_sentence[j]):\n",
    "#                     print('2nd: ', words_in_sentence[i], words_in_sentence[j],sampling_prob(words_in_sentence[j]), rand2)\n",
    "                        context.append(words_in_sentence[j])\n",
    "        if len(word) > 0 and len(context) > 0:\n",
    "            yield(word, context)\n",
    "            \n",
    "hello = get_target_context(sentences[22], 4)\n",
    "\n",
    "print(\"Done\")"
   ]
  },
  {
   "cell_type": "markdown",
   "metadata": {
    "id": "gfEFgtkmuDjL"
   },
   "source": [
    "# 1.6 Hyperparameters (0.5 points)\n",
    "\n",
    "According to the word2vec paper, what would be a good choice for the following hyperparameters? \n",
    "\n",
    "* Embedding dimension\n",
    "* Window size\n",
    "\n",
    "Initialize them in a dictionary or as independent variables in the code block below. "
   ]
  },
  {
   "cell_type": "code",
   "execution_count": 10,
   "metadata": {
    "id": "d7xSKuFJcYoD"
   },
   "outputs": [],
   "source": [
    "# Set hyperparameters\n",
    "# window_size = from 1 to 10\n",
    "# window_size = from 500 to 1000 (640 used in paper)\n",
    "window_size = 4\n",
    "embedding_size = 600\n",
    "\n",
    "# More hyperparameters\n",
    "learning_rate = 0.05\n",
    "epochs =100"
   ]
  },
  {
   "cell_type": "markdown",
   "metadata": {
    "id": "xiM2zq-YunPx"
   },
   "source": [
    "# 1.7 Pytorch Module (0.5 + 0.5 + 0.5 points)\n",
    "\n",
    "Pytorch provides a wrapper for your fancy and super-complex models: [torch.nn.Module](https://pytorch.org/docs/stable/generated/torch.nn.Module.html). The code block below contains a skeleton for such a wrapper. Now,\n",
    "\n",
    "* Initialize the two weight matrices of word2vec as fields of the class.\n",
    "\n",
    "* Override the ```forward``` method of this class. It should take a one-hot encoding as input, perform the matrix multiplications, and finally apply a log softmax on the output layer.\n",
    "\n",
    "* Initialize the model and save its weights in a variable. The Pytorch documentation will tell you how to do that."
   ]
  },
  {
   "cell_type": "code",
   "execution_count": 11,
   "metadata": {
    "colab": {
     "base_uri": "https://localhost:8080/"
    },
    "id": "D9sGNytYhwxS",
    "outputId": "41645b64-e4ed-4e6a-e10f-74cb39b92230"
   },
   "outputs": [
    {
     "name": "stdout",
     "output_type": "stream",
     "text": [
      "Done\n"
     ]
    }
   ],
   "source": [
    "# Create model \n",
    "\n",
    "class Word2Vec(nn.Module):\n",
    "    def __init__(self, features, embedding_size):\n",
    "        super().__init__()\n",
    "        self.fc1 = nn.Linear(features, embedding_size)\n",
    "        self.fc2 = nn.Linear(embedding_size, features)\n",
    "\n",
    "\n",
    "    def forward(self, one_hot):\n",
    "        x = self.fc1(one_hot.float())\n",
    "        x = self.fc2(x)\n",
    "        log_softmax = torch.nn.functional.log_softmax(x, dim=1)\n",
    "        return log_softmax\n",
    "#     pass\n",
    "\n",
    "print(\"Done\")"
   ]
  },
  {
   "cell_type": "markdown",
   "metadata": {
    "id": "XefIDMMHv5zJ"
   },
   "source": [
    "# 1.8 Loss function and optimizer (0.5 points)\n",
    "\n",
    "Initialize variables with [optimizer](https://pytorch.org/docs/stable/optim.html#module-torch.optim) and loss function. You can take what is used in the word2vec paper, but you can use alternative optimizers/loss functions if you explain your choice in the report."
   ]
  },
  {
   "cell_type": "markdown",
   "metadata": {},
   "source": [
    "### Creating target, context tuple"
   ]
  },
  {
   "cell_type": "code",
   "execution_count": 13,
   "metadata": {},
   "outputs": [
    {
     "name": "stdout",
     "output_type": "stream",
     "text": [
      "4665\n",
      "started\n",
      "INDEX: 49 Length: 3964\n",
      "INDEX: 99 Length: 8219\n",
      "INDEX: 149 Length: 13079\n",
      "INDEX: 199 Length: 19076\n",
      "INDEX: 249 Length: 22783\n",
      "INDEX: 299 Length: 27994\n",
      "INDEX: 349 Length: 33054\n",
      "INDEX: 399 Length: 38911\n",
      "INDEX: 449 Length: 43817\n",
      "INDEX: 499 Length: 48700\n",
      "INDEX: 549 Length: 53380\n",
      "INDEX: 599 Length: 58307\n",
      "INDEX: 649 Length: 61126\n",
      "INDEX: 699 Length: 66529\n",
      "INDEX: 749 Length: 72041\n",
      "INDEX: 799 Length: 77451\n",
      "INDEX: 849 Length: 81580\n",
      "INDEX: 899 Length: 87969\n",
      "INDEX: 949 Length: 94249\n",
      "INDEX: 999 Length: 98067\n",
      "INDEX: 1049 Length: 104398\n",
      "INDEX: 1099 Length: 108887\n",
      "INDEX: 1149 Length: 112096\n",
      "INDEX: 1199 Length: 119305\n",
      "INDEX: 1249 Length: 122001\n",
      "INDEX: 1299 Length: 126109\n",
      "INDEX: 1349 Length: 132447\n",
      "INDEX: 1399 Length: 136978\n",
      "INDEX: 1449 Length: 140960\n",
      "INDEX: 1499 Length: 145652\n",
      "INDEX: 1549 Length: 150723\n",
      "INDEX: 1599 Length: 154219\n",
      "INDEX: 1649 Length: 160630\n",
      "INDEX: 1699 Length: 166198\n",
      "INDEX: 1749 Length: 171669\n",
      "INDEX: 1799 Length: 175663\n",
      "INDEX: 1849 Length: 179497\n",
      "INDEX: 1899 Length: 183058\n",
      "INDEX: 1949 Length: 187335\n",
      "INDEX: 1999 Length: 192033\n",
      "INDEX: 2049 Length: 196002\n",
      "INDEX: 2099 Length: 205711\n",
      "INDEX: 2149 Length: 211212\n",
      "INDEX: 2199 Length: 214501\n",
      "INDEX: 2249 Length: 221740\n",
      "INDEX: 2299 Length: 226211\n",
      "INDEX: 2349 Length: 230855\n",
      "INDEX: 2399 Length: 236059\n",
      "INDEX: 2449 Length: 239573\n",
      "INDEX: 2499 Length: 243150\n",
      "INDEX: 2549 Length: 247267\n",
      "INDEX: 2599 Length: 253209\n",
      "INDEX: 2649 Length: 257520\n",
      "INDEX: 2699 Length: 262323\n",
      "INDEX: 2749 Length: 266280\n",
      "INDEX: 2799 Length: 269730\n",
      "INDEX: 2849 Length: 272837\n",
      "INDEX: 2899 Length: 277609\n",
      "INDEX: 2949 Length: 282472\n",
      "INDEX: 2999 Length: 286823\n",
      "INDEX: 3049 Length: 289832\n",
      "INDEX: 3099 Length: 295301\n",
      "INDEX: 3149 Length: 305596\n",
      "INDEX: 3199 Length: 312050\n",
      "INDEX: 3249 Length: 315034\n",
      "INDEX: 3299 Length: 320074\n",
      "INDEX: 3349 Length: 323379\n",
      "INDEX: 3399 Length: 327947\n",
      "INDEX: 3449 Length: 330795\n",
      "INDEX: 3499 Length: 336286\n",
      "INDEX: 3549 Length: 341911\n",
      "INDEX: 3599 Length: 345740\n",
      "INDEX: 3649 Length: 353109\n",
      "INDEX: 3699 Length: 357679\n",
      "INDEX: 3749 Length: 362176\n",
      "INDEX: 3799 Length: 368719\n",
      "INDEX: 3849 Length: 373628\n",
      "INDEX: 3899 Length: 377518\n",
      "INDEX: 3949 Length: 381374\n",
      "INDEX: 3999 Length: 386372\n",
      "INDEX: 4049 Length: 391139\n",
      "INDEX: 4099 Length: 395772\n",
      "INDEX: 4149 Length: 401077\n",
      "INDEX: 4199 Length: 405580\n",
      "INDEX: 4249 Length: 410395\n",
      "INDEX: 4299 Length: 413468\n",
      "INDEX: 4349 Length: 419226\n",
      "INDEX: 4399 Length: 422300\n",
      "INDEX: 4449 Length: 428404\n",
      "INDEX: 4499 Length: 432478\n",
      "INDEX: 4549 Length: 437681\n",
      "INDEX: 4599 Length: 441447\n",
      "INDEX: 4649 Length: 447407\n",
      "(448854,)\n"
     ]
    }
   ],
   "source": [
    "def create_dataset(sentences):\n",
    "    x_train = []\n",
    "    y_train = []\n",
    "    count = 0\n",
    "    print(\"started\")\n",
    "    for j, i in enumerate(sentences):\n",
    "        if (j + 1) % 50 == 0:\n",
    "            print(\"INDEX:\", j, \"Length:\",len(x_train))\n",
    "        word_context = get_target_context(i, random.randint(1,10))\n",
    "        for word, context in word_context:\n",
    "            input_vec = not_word_to_one_hot(word, len(V))\n",
    "            for j in context:\n",
    "                output_vec = not_word_to_one_hot(j, len(V))\n",
    "                x_train.append(input_vec)\n",
    "                y_train.append(output_vec)\n",
    "    x_train = np.array(x_train)\n",
    "    y_train = np.array(y_train)\n",
    "    np.save('x_train_bengali', x_train)\n",
    "    np.save('y_train_bengali', y_train)\n",
    "    return x_train, y_train\n",
    "print(len(sentences))\n",
    "x_train, y_train = create_dataset(sentences)\n",
    "print(x_train.shape)"
   ]
  },
  {
   "cell_type": "markdown",
   "metadata": {},
   "source": [
    "### Loading to dataloader"
   ]
  },
  {
   "cell_type": "code",
   "execution_count": 14,
   "metadata": {},
   "outputs": [
    {
     "name": "stdout",
     "output_type": "stream",
     "text": [
      "1\n",
      "448854\n"
     ]
    }
   ],
   "source": [
    "print(y_train[0])\n",
    "batch_size = 1000\n",
    "x_train = torch.from_numpy(x_train)\n",
    "y_train = torch.from_numpy(y_train)\n",
    "x_train = data_utils.TensorDataset(x_train, y_train)\n",
    "train_dl = DataLoader(x_train, batch_size=batch_size, shuffle=True)\n",
    "# del x_train\n",
    "# print(len(V))\n",
    "features = len(V)\n",
    "total_rows = len(y_train)\n",
    "print(total_rows)\n",
    "# del y_train"
   ]
  },
  {
   "cell_type": "code",
   "execution_count": null,
   "metadata": {},
   "outputs": [],
   "source": []
  },
  {
   "cell_type": "markdown",
   "metadata": {
    "id": "ckTfK78Ew8wI"
   },
   "source": [
    "# 1.9 Training the model (3 points)\n",
    "\n",
    "As everything is prepared, implement a training loop that performs several passes of the data set through the model. You are free to do this as you please, but your code should:\n",
    "\n",
    "* Load the weights saved in 1.6 at the start of every execution of the code block\n",
    "* Print the accumulated loss at least after every epoch (the accumulate loss should be reset after every epoch)\n",
    "* Define a criterion for the training procedure to terminate if a certain loss value is reached. You can find the threshold by observing the loss for the development set.\n",
    "\n",
    "You can play around with the number of epochs and the learning rate."
   ]
  },
  {
   "cell_type": "code",
   "execution_count": 15,
   "metadata": {},
   "outputs": [
    {
     "name": "stdout",
     "output_type": "stream",
     "text": [
      "Started:\n"
     ]
    },
    {
     "name": "stderr",
     "output_type": "stream",
     "text": [
      "<ipython-input-15-d75c1c675acc>:28: UserWarning: To copy construct from a tensor, it is recommended to use sourceTensor.clone().detach() or sourceTensor.clone().detach().requires_grad_(True), rather than torch.tensor(sourceTensor).\n",
      "  loss = criterion(y_pred_torch, torch.max(torch.tensor(y_batch), 1)[1])\n"
     ]
    },
    {
     "name": "stdout",
     "output_type": "stream",
     "text": [
      "Epoch: 0 \tLoss: 8.06457371701111\n",
      "Epoch: 1 \tLoss: 7.097379783214068\n",
      "Epoch: 2 \tLoss: 6.841117040086164\n",
      "Epoch: 3 \tLoss: 6.7123113698046035\n",
      "Epoch: 4 \tLoss: 6.622108471154635\n",
      "Epoch: 5 \tLoss: 6.556159672599062\n",
      "Epoch: 6 \tLoss: 6.503734928462447\n",
      "Epoch: 7 \tLoss: 6.467378518629181\n",
      "Epoch: 8 \tLoss: 6.440557552074271\n",
      "Epoch: 9 \tLoss: 6.416795361015473\n",
      "Epoch: 10 \tLoss: 6.393877284298496\n",
      "Epoch: 11 \tLoss: 6.370895241310443\n",
      "Epoch: 12 \tLoss: 6.349754609615606\n",
      "Epoch: 13 \tLoss: 6.336859772093843\n",
      "Epoch: 14 \tLoss: 6.32120620753027\n",
      "Epoch: 15 \tLoss: 6.302735242652468\n",
      "Epoch: 16 \tLoss: 6.292469624687143\n",
      "Epoch: 17 \tLoss: 6.281074477197864\n",
      "Epoch: 18 \tLoss: 6.26736055663009\n",
      "Epoch: 19 \tLoss: 6.256652884069158\n",
      "Epoch: 20 \tLoss: 6.2483494255218845\n",
      "Epoch: 21 \tLoss: 6.240326163497959\n",
      "Epoch: 22 \tLoss: 6.229096388232734\n",
      "Epoch: 23 \tLoss: 6.219747252347474\n",
      "Epoch: 24 \tLoss: 6.211229831975924\n",
      "Epoch: 25 \tLoss: 6.207000768529811\n",
      "Epoch: 26 \tLoss: 6.201535836625471\n",
      "Epoch: 27 \tLoss: 6.194525578505212\n",
      "Epoch: 28 \tLoss: 6.186886371111286\n",
      "Epoch: 29 \tLoss: 6.183425065403791\n",
      "Epoch: 30 \tLoss: 6.176030401132155\n",
      "Epoch: 31 \tLoss: 6.176558468017918\n",
      "Epoch: 32 \tLoss: 6.1698179956533865\n",
      "Epoch: 33 \tLoss: 6.164473750277988\n",
      "Epoch: 34 \tLoss: 6.163950958336913\n",
      "Epoch: 35 \tLoss: 6.1600479357492155\n",
      "Epoch: 36 \tLoss: 6.1567992537483605\n",
      "Epoch: 37 \tLoss: 6.1537291276162875\n",
      "Epoch: 38 \tLoss: 6.150364309748456\n",
      "Epoch: 39 \tLoss: 6.151065195589129\n",
      "Epoch: 40 \tLoss: 6.1492573742346135\n",
      "Epoch: 41 \tLoss: 6.144496297517704\n",
      "Epoch: 42 \tLoss: 6.140000609884283\n",
      "Epoch: 43 \tLoss: 6.136648404306187\n",
      "Epoch: 44 \tLoss: 6.137196791464077\n",
      "Epoch: 45 \tLoss: 6.1394526103557086\n",
      "Epoch: 46 \tLoss: 6.135341214177869\n",
      "Epoch: 47 \tLoss: 6.132907010399154\n",
      "Epoch: 48 \tLoss: 6.128359469645273\n",
      "Epoch: 49 \tLoss: 6.129084260001745\n",
      "Epoch: 50 \tLoss: 6.126660390526786\n",
      "Epoch: 51 \tLoss: 6.127140623954994\n",
      "Epoch: 52 \tLoss: 6.123772788950489\n",
      "Epoch: 53 \tLoss: 6.1221436116106\n",
      "Epoch: 54 \tLoss: 6.120678162521668\n",
      "Epoch: 55 \tLoss: 6.120343478060512\n",
      "Epoch: 56 \tLoss: 6.120463026127465\n",
      "Epoch: 57 \tLoss: 6.116889191098627\n",
      "Epoch: 58 \tLoss: 6.113628613656773\n",
      "Epoch: 59 \tLoss: 6.115213582138707\n",
      "Epoch: 60 \tLoss: 6.114967606380947\n",
      "Epoch: 61 \tLoss: 6.113208709156062\n",
      "Epoch: 62 \tLoss: 6.1092294882028835\n",
      "Epoch: 63 \tLoss: 6.107369229628939\n",
      "Epoch: 64 \tLoss: 6.109932259090228\n",
      "Epoch: 65 \tLoss: 6.107452143008565\n",
      "Epoch: 66 \tLoss: 6.105928463500433\n",
      "Epoch: 67 \tLoss: 6.1061296144413255\n",
      "Epoch: 68 \tLoss: 6.106142951013782\n",
      "Epoch: 69 \tLoss: 6.104353816578277\n",
      "Epoch: 70 \tLoss: 6.102942328676083\n",
      "Epoch: 71 \tLoss: 6.102360484329258\n",
      "Epoch: 72 \tLoss: 6.100992738005844\n",
      "Epoch: 73 \tLoss: 6.103803320292109\n",
      "Epoch: 74 \tLoss: 6.097265635407582\n",
      "Epoch: 75 \tLoss: 6.094948914109466\n",
      "Epoch: 76 \tLoss: 6.098868989201059\n",
      "Epoch: 77 \tLoss: 6.100938396623777\n",
      "Epoch: 78 \tLoss: 6.094505024381098\n",
      "Epoch: 79 \tLoss: 6.093169380137012\n",
      "Epoch: 80 \tLoss: 6.096713532318251\n",
      "Epoch: 81 \tLoss: 6.091886310110113\n",
      "Epoch: 82 \tLoss: 6.092613185168906\n",
      "Epoch: 83 \tLoss: 6.089927683959825\n",
      "Epoch: 84 \tLoss: 6.094035965297164\n",
      "Epoch: 85 \tLoss: 6.087804885643362\n",
      "Epoch: 86 \tLoss: 6.088638056094503\n",
      "Epoch: 87 \tLoss: 6.087467727788573\n",
      "Epoch: 88 \tLoss: 6.093532328616272\n",
      "Epoch: 89 \tLoss: 6.086129780070554\n",
      "Epoch: 90 \tLoss: 6.081913253512308\n",
      "Epoch: 91 \tLoss: 6.084737853111828\n",
      "Epoch: 92 \tLoss: 6.08492399377122\n",
      "Epoch: 93 \tLoss: 6.086414785321412\n",
      "Epoch: 94 \tLoss: 6.084669353170756\n",
      "Epoch: 95 \tLoss: 6.080585487170315\n",
      "Epoch: 96 \tLoss: 6.082640932503681\n",
      "Epoch: 97 \tLoss: 6.084292744209613\n",
      "Epoch: 98 \tLoss: 6.083142610860031\n",
      "Epoch: 99 \tLoss: 6.080892964301502\n",
      "Training finished\n"
     ]
    },
    {
     "data": {
      "image/png": "[encoded data removed]",
      "text/plain": [
       "<Figure size 432x288 with 1 Axes>"
      ]
     },
     "metadata": {
      "needs_background": "light"
     },
     "output_type": "display_data"
    }
   ],
   "source": [
    "# Define optimizer and loss\n",
    "\n",
    "net = Word2Vec(len(V), embedding_size)\n",
    "# net.load_state_dict(torch.load('model_param'))\n",
    "net.to(dev)\n",
    "optimizer = torch.optim.Adam(net.parameters(), lr=0.01)\n",
    "criterion = nn.NLLLoss()\n",
    "\n",
    "def train():\n",
    "    print(\"Started:\")\n",
    "    loss_vals=  []\n",
    "    for e in range(epochs):\n",
    "        epoch_loss= []\n",
    "        for i, (X_batch, y_batch) in enumerate(train_dl):\n",
    "            X_batch = np.eye(len(V))[X_batch]\n",
    "            y_batch = np.eye(len(V))[y_batch]\n",
    "            X_batch = torch.Tensor(X_batch).to(dev)\n",
    "            y_batch = torch.Tensor(y_batch).to(dev)\n",
    "            y_pred_torch = net(X_batch)\n",
    "            loss = criterion(y_pred_torch, torch.max(torch.tensor(y_batch), 1)[1])\n",
    "            optimizer.zero_grad()\n",
    "            loss.backward()\n",
    "            epoch_loss.append(loss.item())\n",
    "            optimizer.step()\n",
    "        loss_vals.append(sum(epoch_loss)/len(epoch_loss))\n",
    "        print('Epoch:', e,'\\tLoss:',loss_vals[e])\n",
    "#         break\n",
    "    plt.plot(np.linspace(1, 100, 100).astype(int), loss_vals)\n",
    "    plt.savefig('Task1_benali.png') \n",
    "train()\n",
    "\n",
    "print(\"Training finished\")"
   ]
  },
  {
   "cell_type": "code",
   "execution_count": 16,
   "metadata": {},
   "outputs": [
    {
     "name": "stdout",
     "output_type": "stream",
     "text": [
      "torch.Size([448854])\n"
     ]
    }
   ],
   "source": [
    "print(y_train.shape)"
   ]
  },
  {
   "cell_type": "markdown",
   "metadata": {
    "id": "BgQkaYstyj0Q"
   },
   "source": [
    "# 1.10 Train on the full dataset (0.5 points)\n",
    "\n",
    "Now, go back to 1.1 and remove the restriction on the number of sentences in your corpus. Then, reexecute code blocks 1.2, 1.3 and 1.6 (or those relevant if you created additional ones). \n",
    "\n",
    "* Then, retrain your model on the complete dataset.\n",
    "\n",
    "* Now, the input weights of the model contain the desired word embeddings! Save them together with the corresponding vocabulary items (Pytorch provides a nice [functionality](https://pytorch.org/tutorials/beginner/saving_loading_models.html) for this)."
   ]
  },
  {
   "cell_type": "markdown",
   "metadata": {},
   "source": [
    "###### "
   ]
  }
 ],
 "metadata": {
  "accelerator": "GPU",
  "colab": {
   "collapsed_sections": [],
   "name": "NNTI_final_project_task_1.ipynb",
   "provenance": []
  },
  "kernelspec": {
   "display_name": "Python 3",
   "language": "python",
   "name": "python3"
  },
  "language_info": {
   "codemirror_mode": {
    "name": "ipython",
    "version": 3
   },
   "file_extension": ".py",
   "mimetype": "text/x-python",
   "name": "python",
   "nbconvert_exporter": "python",
   "pygments_lexer": "ipython3",
   "version": "3.8.5"
  }
 },
 "nbformat": 4,
 "nbformat_minor": 4
}
