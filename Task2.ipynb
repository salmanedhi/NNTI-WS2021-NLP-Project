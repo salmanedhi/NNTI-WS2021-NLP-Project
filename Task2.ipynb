{
 "cells": [
  {
   "cell_type": "code",
   "execution_count": 9,
   "metadata": {},
   "outputs": [
    {
     "name": "stdout",
     "output_type": "stream",
     "text": [
      "Done\n"
     ]
    }
   ],
   "source": [
    "# Imports\n",
    "import numpy as np\n",
    "import pandas as pd\n",
    "import nltk\n",
    "from nltk.corpus import stopwords\n",
    "import torch as torch\n",
    "from torch import nn\n",
    "from nltk.tokenize import word_tokenize\n",
    "import math as mt\n",
    "import time\n",
    "import random\n",
    "from joblib import Parallel, delayed\n",
    "from torch.autograd import Variable\n",
    "import matplotlib.pyplot as plt\n",
    "import torch.utils.data as data_utils\n",
    "from torch.utils.data import TensorDataset, DataLoader\n",
    "from sklearn.utils import shuffle\n",
    "import helper\n",
    "print(\"Done\")"
   ]
  },
  {
   "cell_type": "markdown",
   "metadata": {},
   "source": [
    "# Task 2.1: Classifier on Hindi Data"
   ]
  },
  {
   "cell_type": "code",
   "execution_count": 10,
   "metadata": {},
   "outputs": [
    {
     "name": "stdout",
     "output_type": "stream",
     "text": [
      "Done cuda:0\n"
     ]
    }
   ],
   "source": [
    "# Reading Hindi Data\n",
    "\n",
    "if torch.cuda.is_available():\n",
    "    device = \"cuda:0\"\n",
    "    dev = \"cuda:0\"\n",
    "else:\n",
    "    device = \"cpu\"\n",
    "    dev = \"cpu\"\n",
    "    \n",
    "url = 'data/hindi_hatespeech.tsv'\n",
    "data = pd.read_csv(url, sep='\\t')\n",
    "    \n",
    "data_development = shuffle(data)\n",
    "labels = data_development['task_2']\n",
    "type(data_development['task_1'])\n",
    "\n",
    "print(\"Done\", device)"
   ]
  },
  {
   "cell_type": "code",
   "execution_count": 11,
   "metadata": {},
   "outputs": [
    {
     "name": "stdout",
     "output_type": "stream",
     "text": [
      "Number of sentences:  4665\n",
      "Total words: 141550\n",
      "Unique words: 19836\n"
     ]
    }
   ],
   "source": [
    "#Removing stop words\n",
    "sentences = helper.apply_stopword_removal(data_development)\n",
    "print(\"Number of sentences: \" , len(sentences))\n",
    "\n",
    "#Building Vocabulary\n",
    "V, non_unique = helper.build_vocabulary(sentences)\n",
    "print('Total words:', len(non_unique))\n",
    "print('Unique words:', len(V))\n",
    "\n",
    "embedding_size = 640"
   ]
  },
  {
   "cell_type": "code",
   "execution_count": 12,
   "metadata": {},
   "outputs": [
    {
     "name": "stdout",
     "output_type": "stream",
     "text": [
      "Word2Vec(\n",
      "  (fc1): Linear(in_features=19836, out_features=640, bias=True)\n",
      "  (fc2): Linear(in_features=640, out_features=19836, bias=True)\n",
      ")\n",
      "torch.Size([19837, 640]) torch.Size([640, 19836])\n"
     ]
    }
   ],
   "source": [
    "#Load Word2Vec Hindi embeddings module\n",
    "weights1, weights2 = helper.load_word2vec_embeddings('model_param_hindi', device, len(V), embedding_size)\n",
    "#weights1 contain the trained embedding weights from task1\n",
    "\n",
    "print(weights1.shape, weights2.shape)"
   ]
  },
  {
   "cell_type": "markdown",
   "metadata": {},
   "source": [
    "### Create Dataset"
   ]
  },
  {
   "cell_type": "code",
   "execution_count": 13,
   "metadata": {},
   "outputs": [
    {
     "name": "stdout",
     "output_type": "stream",
     "text": [
      "Padded Data Shape:  (4665, 132)\n",
      "Encoded Labels Shape:  (4665,)\n"
     ]
    }
   ],
   "source": [
    "## create number array of sentences (replace each word with each numeric value)\n",
    "x_data, max_len_curr = helper.sentence_to_numeric_arr(sentences, V)\n",
    "\n",
    "## apply padding\n",
    "padded = np.array(helper.padding(x_data, max_len_curr))\n",
    "\n",
    "print(\"Padded Data Shape: \", padded.shape)\n",
    "encoded_labels = [0 if label == \"NONE\" else 1 for label in labels]\n",
    "encoded_labels = np.array(encoded_labels)\n",
    "print(\"Encoded Labels Shape: \",encoded_labels.shape)"
   ]
  },
  {
   "cell_type": "code",
   "execution_count": 14,
   "metadata": {},
   "outputs": [
    {
     "name": "stdout",
     "output_type": "stream",
     "text": [
      "Done\n"
     ]
    }
   ],
   "source": [
    "#split data into train & test set\n",
    "batch_size = 64\n",
    "train_loader, test_loader = helper.split_data_train_valid_test(padded, encoded_labels, batch_size)\n",
    "print(\"Done\")"
   ]
  },
  {
   "cell_type": "markdown",
   "metadata": {},
   "source": [
    "## Training Hindi Classfier"
   ]
  },
  {
   "cell_type": "code",
   "execution_count": 15,
   "metadata": {},
   "outputs": [
    {
     "name": "stderr",
     "output_type": "stream",
     "text": [
      "<ipython-input-15-9228b31dd9b6>:24: UserWarning: torch.nn.utils.clip_grad_norm is now deprecated in favor of torch.nn.utils.clip_grad_norm_.\n",
      "  nn.utils.clip_grad_norm(net.parameters(), clip)\n"
     ]
    },
    {
     "name": "stdout",
     "output_type": "stream",
     "text": [
      "Epoch: 1/80 Training Loss: 0.6851\n",
      "Epoch: 2/80 Training Loss: 0.6396\n",
      "Epoch: 3/80 Training Loss: 0.5659\n",
      "Epoch: 4/80 Training Loss: 0.4809\n",
      "Epoch: 5/80 Training Loss: 0.4221\n",
      "Epoch: 6/80 Training Loss: 0.3585\n",
      "Epoch: 7/80 Training Loss: 0.3038\n",
      "Epoch: 8/80 Training Loss: 0.2496\n",
      "Epoch: 9/80 Training Loss: 0.2120\n",
      "Epoch: 10/80 Training Loss: 0.1820\n",
      "Epoch: 11/80 Training Loss: 0.1540\n",
      "Epoch: 12/80 Training Loss: 0.1251\n",
      "Epoch: 13/80 Training Loss: 0.1104\n",
      "Epoch: 14/80 Training Loss: 0.0915\n",
      "Epoch: 15/80 Training Loss: 0.0929\n",
      "Epoch: 16/80 Training Loss: 0.0766\n",
      "Epoch: 17/80 Training Loss: 0.0715\n",
      "Epoch: 18/80 Training Loss: 0.0687\n",
      "Epoch: 19/80 Training Loss: 0.0642\n",
      "Epoch: 20/80 Training Loss: 0.0540\n",
      "Epoch: 21/80 Training Loss: 0.0632\n",
      "Epoch: 22/80 Training Loss: 0.0491\n",
      "Epoch: 23/80 Training Loss: 0.0428\n",
      "Epoch: 24/80 Training Loss: 0.0373\n",
      "Epoch: 25/80 Training Loss: 0.0438\n",
      "Epoch: 26/80 Training Loss: 0.0341\n",
      "Epoch: 27/80 Training Loss: 0.0320\n",
      "Epoch: 28/80 Training Loss: 0.0385\n",
      "Epoch: 29/80 Training Loss: 0.0358\n",
      "Epoch: 30/80 Training Loss: 0.0339\n",
      "Epoch: 31/80 Training Loss: 0.0348\n",
      "Epoch: 32/80 Training Loss: 0.0302\n",
      "Epoch: 33/80 Training Loss: 0.0287\n",
      "Epoch: 34/80 Training Loss: 0.0280\n",
      "Epoch: 35/80 Training Loss: 0.0242\n",
      "Epoch: 36/80 Training Loss: 0.0298\n",
      "Epoch: 37/80 Training Loss: 0.0425\n",
      "Epoch: 38/80 Training Loss: 0.0326\n",
      "Epoch: 39/80 Training Loss: 0.0241\n",
      "Epoch: 40/80 Training Loss: 0.0229\n",
      "Epoch: 41/80 Training Loss: 0.0243\n",
      "Epoch: 42/80 Training Loss: 0.0241\n",
      "Epoch: 43/80 Training Loss: 0.0213\n",
      "Epoch: 44/80 Training Loss: 0.0218\n",
      "Epoch: 45/80 Training Loss: 0.0217\n",
      "Epoch: 46/80 Training Loss: 0.0194\n",
      "Epoch: 47/80 Training Loss: 0.0335\n",
      "Epoch: 48/80 Training Loss: 0.0422\n",
      "Epoch: 49/80 Training Loss: 0.0277\n",
      "Epoch: 50/80 Training Loss: 0.0159\n",
      "Epoch: 51/80 Training Loss: 0.0192\n",
      "Epoch: 52/80 Training Loss: 0.0152\n",
      "Epoch: 53/80 Training Loss: 0.0120\n",
      "Epoch: 54/80 Training Loss: 0.0141\n",
      "Epoch: 55/80 Training Loss: 0.0124\n",
      "Epoch: 56/80 Training Loss: 0.0121\n",
      "Epoch: 57/80 Training Loss: 0.0099\n",
      "Epoch: 58/80 Training Loss: 0.0131\n",
      "Epoch: 59/80 Training Loss: 0.0125\n",
      "Epoch: 60/80 Training Loss: 0.0134\n",
      "Epoch: 61/80 Training Loss: 0.0180\n",
      "Epoch: 62/80 Training Loss: 0.0190\n",
      "Epoch: 63/80 Training Loss: 0.0206\n",
      "Epoch: 64/80 Training Loss: 0.0304\n",
      "Epoch: 65/80 Training Loss: 0.0236\n",
      "Epoch: 66/80 Training Loss: 0.0208\n",
      "Epoch: 67/80 Training Loss: 0.0223\n",
      "Epoch: 68/80 Training Loss: 0.0247\n",
      "Epoch: 69/80 Training Loss: 0.0156\n",
      "Epoch: 70/80 Training Loss: 0.0115\n",
      "Epoch: 71/80 Training Loss: 0.0107\n",
      "Epoch: 72/80 Training Loss: 0.0122\n",
      "Epoch: 73/80 Training Loss: 0.0098\n",
      "Epoch: 74/80 Training Loss: 0.0103\n",
      "Epoch: 75/80 Training Loss: 0.0194\n",
      "Epoch: 76/80 Training Loss: 0.0105\n",
      "Epoch: 77/80 Training Loss: 0.0109\n",
      "Epoch: 78/80 Training Loss: 0.0100\n",
      "Epoch: 79/80 Training Loss: 0.0097\n",
      "Epoch: 80/80 Training Loss: 0.0098\n",
      "Done\n"
     ]
    },
    {
     "data": {
      "image/png": "[encoded data removed]",
      "text/plain": [
       "<Figure size 432x288 with 1 Axes>"
      ]
     },
     "metadata": {
      "needs_background": "light"
     },
     "output_type": "display_data"
    }
   ],
   "source": [
    "# Initialize LSTM Model\n",
    "net, criterion= helper.initialize_SentimentLSTM_model(len(V) + 1, embedding_size, 32, 1, 2, device, weights1)\n",
    "\n",
    "learning_rate = 0.001\n",
    "optimizer = torch.optim.Adam(net.parameters(), lr = learning_rate, amsgrad=True)\n",
    "print_every = 100\n",
    "step = 0\n",
    "n_epochs = 80\n",
    "clip = 5\n",
    "\n",
    "training_loss_epoches = []\n",
    "for epoch in range(n_epochs):\n",
    "    h = net.init_hidden(batch_size, device)\n",
    "    training_loss = []\n",
    "    for i, (inputs, labels) in enumerate(train_loader):\n",
    "        step += 1\n",
    "        inputs, labels = inputs.to(device), labels.to(device)\n",
    "        h = tuple([each.data for each in h])\n",
    "        net.zero_grad()\n",
    "        output, h = net(inputs, batch_size)\n",
    "        loss = criterion(output.squeeze(), labels.float())\n",
    "        loss.backward()\n",
    "        training_loss.append(loss.item())\n",
    "        nn.utils.clip_grad_norm(net.parameters(), clip)\n",
    "        optimizer.step()\n",
    "    training_loss_epoches.append(np.mean(training_loss))\n",
    "    print(\"Epoch: {}/{}\".format((epoch+1), n_epochs),\n",
    "          \"Training Loss: {:.4f}\".format(np.mean(training_loss)))\n",
    "plt.plot(np.linspace(1, len(training_loss_epoches), len(training_loss_epoches)).astype(int), training_loss_epoches)\n",
    "plt.savefig('Task2_hindi.png')\n",
    "print(\"Done\")"
   ]
  },
  {
   "cell_type": "markdown",
   "metadata": {},
   "source": [
    "## Testing Hindi Classifier"
   ]
  },
  {
   "cell_type": "code",
   "execution_count": 12,
   "metadata": {},
   "outputs": [
    {
     "name": "stdout",
     "output_type": "stream",
     "text": [
      "Test Loss: 1.7563\n",
      "Test Accuracy: 0.71\n"
     ]
    }
   ],
   "source": [
    "net.eval()\n",
    "test_losses = []\n",
    "num_correct = 0\n",
    "test_h = net.init_hidden(batch_size, device)\n",
    "\n",
    "for i, (inputs, labels) in enumerate(test_loader):\n",
    "    test_h = tuple([each.data for each in test_h])\n",
    "    try:\n",
    "        test_output, test_h = net(inputs.to(device), batch_size)\n",
    "    except IndexError:\n",
    "        print(inputs)\n",
    "    loss = criterion(test_output.detach().to(device), labels.float().to(device))\n",
    "    test_losses.append(loss.item())\n",
    "    \n",
    "    preds = torch.round(test_output.squeeze())\n",
    "    correct_tensor = preds.eq(labels.float().view_as(preds).to(device))\n",
    "    correct = np.squeeze(correct_tensor.cpu().detach().numpy())\n",
    "    num_correct += np.sum(correct)\n",
    "    \n",
    "print(\"Test Loss: {:.4f}\".format(np.mean(test_losses)))\n",
    "print(\"Test Accuracy: {:.2f}\".format(num_correct/len(test_loader.dataset)))"
   ]
  },
  {
   "cell_type": "markdown",
   "metadata": {},
   "source": [
    "# Task 2.2: Testing Bengali Data on Hindi Classifier (Transfer Learning)"
   ]
  },
  {
   "cell_type": "code",
   "execution_count": 16,
   "metadata": {},
   "outputs": [
    {
     "name": "stdout",
     "output_type": "stream",
     "text": [
      "(4665, 3) (4665,)\n",
      "Number of sentences:  4665\n",
      "Total words: 64027\n",
      "Unique words: 14482\n",
      "Done\n"
     ]
    }
   ],
   "source": [
    "#Reading Bengali data\n",
    "bengali_data, labels = helper.get_bengali_data('data/bengali_hatespeech.csv')\n",
    "# print(bengali_data)\n",
    "print(bengali_data.shape, labels.shape)\n",
    "\n",
    "## Stopwords Removal of Bengali Data\n",
    "bengali_sentences = helper.apply_stopword_removal(bengali_data)\n",
    "print(\"Number of sentences: \" , len(bengali_sentences))\n",
    "\n",
    "## Building Vocabulary\n",
    "bengali_V, bengali_non_unique = helper.build_vocabulary(bengali_sentences)\n",
    "print('Total words:', len(bengali_non_unique))\n",
    "print('Unique words:', len(bengali_V))\n",
    "\n",
    "## Sentence to numeric array\n",
    "x_data_bengali, max_len_curr = helper.sentence_to_numeric_arr(bengali_sentences, bengali_V)\n",
    "\n",
    "## Apply Padding\n",
    "padded = np.array(helper.padding(x_data_bengali, max_len_curr))\n",
    "\n",
    "## Splitting data into train and test\n",
    "train_loader, test_loader = helper.split_data_train_valid_test(padded, labels, 64)\n",
    "\n",
    "print(\"Done\")"
   ]
  },
  {
   "cell_type": "markdown",
   "metadata": {},
   "source": [
    "### Training Classifier on Bengali data with trained Hindi embeddings (Transfer Learning)"
   ]
  },
  {
   "cell_type": "code",
   "execution_count": 16,
   "metadata": {},
   "outputs": [
    {
     "name": "stderr",
     "output_type": "stream",
     "text": [
      "<ipython-input-16-66faedab04df>:23: UserWarning: torch.nn.utils.clip_grad_norm is now deprecated in favor of torch.nn.utils.clip_grad_norm_.\n",
      "  nn.utils.clip_grad_norm(net.parameters(), clip)\n"
     ]
    },
    {
     "name": "stdout",
     "output_type": "stream",
     "text": [
      "Epoch: 1/20 Training Loss: 0.6856\n",
      "Epoch: 2/20 Training Loss: 0.4768\n",
      "Epoch: 3/20 Training Loss: 0.2224\n",
      "Epoch: 4/20 Training Loss: 0.1052\n",
      "Epoch: 5/20 Training Loss: 0.0654\n",
      "Epoch: 6/20 Training Loss: 0.0454\n",
      "Epoch: 7/20 Training Loss: 0.0296\n",
      "Epoch: 8/20 Training Loss: 0.0278\n",
      "Epoch: 9/20 Training Loss: 0.0226\n",
      "Epoch: 10/20 Training Loss: 0.0231\n",
      "Epoch: 11/20 Training Loss: 0.0257\n",
      "Epoch: 12/20 Training Loss: 0.0147\n",
      "Epoch: 13/20 Training Loss: 0.0105\n",
      "Epoch: 14/20 Training Loss: 0.0099\n",
      "Epoch: 15/20 Training Loss: 0.0061\n",
      "Epoch: 16/20 Training Loss: 0.0061\n",
      "Epoch: 17/20 Training Loss: 0.0068\n",
      "Epoch: 18/20 Training Loss: 0.0048\n",
      "Epoch: 19/20 Training Loss: 0.0055\n",
      "Epoch: 20/20 Training Loss: 0.0039\n",
      "Done\n"
     ]
    },
    {
     "data": {
      "image/png": "[encoded data removed]",
      "text/plain": [
       "<Figure size 432x288 with 1 Axes>"
      ]
     },
     "metadata": {
      "needs_background": "light"
     },
     "output_type": "display_data"
    }
   ],
   "source": [
    "net, criterion= helper.initialize_SentimentLSTM_model_bengali(len(V) + 1, embedding_size, 32, 1, 2, device, weights1)\n",
    "\n",
    "optimizer = torch.optim.Adam(net.parameters(), lr = learning_rate, amsgrad=True)\n",
    "n_epochs = 20\n",
    "clip = 5\n",
    "\n",
    "training_loss_epoches = []\n",
    "for epoch in range(n_epochs):\n",
    "    h = net.init_hidden(batch_size, device)\n",
    "    training_loss = []\n",
    "    for i, (inputs, labels) in enumerate(train_loader):\n",
    "        inputs, labels = inputs.to(device), labels.to(device)\n",
    "        h = tuple([each.data for each in h])   \n",
    "        \n",
    "        net.zero_grad()\n",
    "        output, h = net(inputs, batch_size)\n",
    "        loss = criterion(output.squeeze(), labels.float())\n",
    "        loss.backward()\n",
    "        training_loss.append(loss.item())\n",
    "        nn.utils.clip_grad_norm(net.parameters(), clip)\n",
    "        optimizer.step()\n",
    "    training_loss_epoches.append(np.mean(training_loss))\n",
    "    print(\"Epoch: {}/{}\".format((epoch+1), n_epochs),\n",
    "          \"Training Loss: {:.4f}\".format(np.mean(training_loss)))\n",
    "plt.plot(np.linspace(1, len(training_loss_epoches), len(training_loss_epoches)).astype(int), training_loss_epoches)\n",
    "plt.savefig('Task2_transferlearning.png')    \n",
    "print(\"Done\")"
   ]
  },
  {
   "cell_type": "markdown",
   "metadata": {},
   "source": [
    "### Testing Classifier"
   ]
  },
  {
   "cell_type": "code",
   "execution_count": 17,
   "metadata": {},
   "outputs": [
    {
     "name": "stdout",
     "output_type": "stream",
     "text": [
      "Test Loss: 1.4164\n",
      "Test Accuracy: 0.75\n"
     ]
    }
   ],
   "source": [
    "net.eval()\n",
    "\n",
    "test_losses = []\n",
    "num_correct = 0\n",
    "test_h = net.init_hidden(batch_size, device)\n",
    "\n",
    "for i, (inputs, labels) in enumerate(test_loader):\n",
    "    test_h = tuple([each.data for each in test_h])\n",
    "    try:\n",
    "        test_output, test_h = net(inputs.to(device), batch_size)\n",
    "    except IndexError:\n",
    "        print(inputs)\n",
    "    loss = criterion(test_output.detach().to(device), labels.float().to(device))\n",
    "    test_losses.append(loss.item())\n",
    "    \n",
    "    preds = torch.round(test_output.squeeze())\n",
    "    correct_tensor = preds.eq(labels.float().view_as(preds).to(device))\n",
    "    correct = np.squeeze(correct_tensor.cpu().detach().numpy())\n",
    "    num_correct += np.sum(correct)\n",
    "    \n",
    "print(\"Test Loss: {:.4f}\".format(np.mean(test_losses)))\n",
    "print(\"Test Accuracy: {:.2f}\".format(num_correct/len(test_loader.dataset)))"
   ]
  },
  {
   "cell_type": "markdown",
   "metadata": {},
   "source": [
    "# Task 2.3: Training classifier on Bengali embeddings"
   ]
  },
  {
   "cell_type": "code",
   "execution_count": 17,
   "metadata": {},
   "outputs": [
    {
     "name": "stdout",
     "output_type": "stream",
     "text": [
      "Number of sentences:  4665\n",
      "Total words: 64027\n",
      "Unique words: 14482\n"
     ]
    }
   ],
   "source": [
    "#Reading Bengali Data\n",
    "bengali_data = pd.read_csv('data/bengali_hatespeech.csv')\n",
    "\n",
    "bengali_data_hate = bengali_data.loc[bengali_data['hate'] == 1]\n",
    "bengali_data_not_hate = bengali_data.loc[bengali_data['hate'] == 0]\n",
    "\n",
    "bengali_data_hate = bengali_data_hate.iloc[0:2332] \n",
    "bengali_data_not_hate = bengali_data_not_hate.iloc[0:2333]\n",
    "\n",
    "data_development = pd.concat([bengali_data_hate, bengali_data_not_hate])\n",
    "data_development = shuffle(data_development)\n",
    "data_development.columns = [\"text\", \"hate\", \"category\"]\n",
    "\n",
    "labels = data_development['hate']\n",
    "labels = np.array(labels)\n",
    "\n",
    "#Removing stop words\n",
    "sentences = helper.apply_stopword_removal(data_development)\n",
    "print(\"Number of sentences: \" , len(sentences))\n",
    "\n",
    "#Building Vocabulary\n",
    "V, non_unique = helper.build_vocabulary(sentences)\n",
    "print('Total words:', len(non_unique))\n",
    "print('Unique words:', len(V))"
   ]
  },
  {
   "cell_type": "code",
   "execution_count": 19,
   "metadata": {},
   "outputs": [],
   "source": [
    "# Hyperparameters\n",
    "window_size = 4\n",
    "embedding_size = 640\n",
    "learning_rate = 0.01\n",
    "epochs =1"
   ]
  },
  {
   "cell_type": "code",
   "execution_count": 20,
   "metadata": {},
   "outputs": [
    {
     "name": "stdout",
     "output_type": "stream",
     "text": [
      "Done\n"
     ]
    }
   ],
   "source": [
    "# Create model \n",
    "\n",
    "class Word2Vec(nn.Module):\n",
    "    def __init__(self, features, embedding_size):\n",
    "        super().__init__()\n",
    "        self.fc1 = nn.Linear(features, embedding_size)\n",
    "        self.fc2 = nn.Linear(embedding_size, features)\n",
    "\n",
    "\n",
    "    def forward(self, one_hot):\n",
    "        x = self.fc1(one_hot.float())\n",
    "        x = self.fc2(x)\n",
    "        log_softmax = torch.nn.functional.log_softmax(x, dim=1)\n",
    "        return log_softmax\n",
    "\n",
    "print(\"Done\")"
   ]
  },
  {
   "cell_type": "code",
   "execution_count": null,
   "metadata": {},
   "outputs": [],
   "source": [
    "#Creating target, context tuple\n",
    "x_train, y_train = helper.create_dataset(sentences, non_unique, V, window_size)\n",
    "print(x_train.shape)"
   ]
  },
  {
   "cell_type": "code",
   "execution_count": 21,
   "metadata": {},
   "outputs": [],
   "source": [
    "x_train = np.load('x_train_bengali.npy')\n",
    "y_train = np.load('y_train_bengali.npy')"
   ]
  },
  {
   "cell_type": "code",
   "execution_count": 22,
   "metadata": {},
   "outputs": [
    {
     "name": "stdout",
     "output_type": "stream",
     "text": [
      "442454\n"
     ]
    }
   ],
   "source": [
    "batch_size = 1000\n",
    "x_train = torch.from_numpy(x_train)\n",
    "y_train = torch.from_numpy(y_train)\n",
    "x_train = data_utils.TensorDataset(x_train, y_train)\n",
    "train_dl = DataLoader(x_train, batch_size=batch_size, shuffle=True)\n",
    "features = len(V)\n",
    "total_rows = len(y_train)\n",
    "print(total_rows)"
   ]
  },
  {
   "cell_type": "markdown",
   "metadata": {},
   "source": [
    "### Training Bengali Embeddings"
   ]
  },
  {
   "cell_type": "code",
   "execution_count": 23,
   "metadata": {},
   "outputs": [
    {
     "name": "stdout",
     "output_type": "stream",
     "text": [
      "Started:\n"
     ]
    },
    {
     "name": "stderr",
     "output_type": "stream",
     "text": [
      "<ipython-input-15-d75c1c675acc>:28: UserWarning: To copy construct from a tensor, it is recommended to use sourceTensor.clone().detach() or sourceTensor.clone().detach().requires_grad_(True), rather than torch.tensor(sourceTensor).\n",
      "  loss = criterion(y_pred_torch, torch.max(torch.tensor(y_batch), 1)[1])\n"
     ]
    },
    {
     "name": "stdout",
     "output_type": "stream",
     "text": [
      "Epoch: 0 \tLoss: 8.06457371701111\n",
      "Epoch: 1 \tLoss: 7.097379783214068\n",
      "Epoch: 2 \tLoss: 6.841117040086164\n",
      "Epoch: 3 \tLoss: 6.7123113698046035\n",
      "Epoch: 4 \tLoss: 6.622108471154635\n",
      "Epoch: 5 \tLoss: 6.556159672599062\n",
      "Epoch: 6 \tLoss: 6.503734928462447\n",
      "Epoch: 7 \tLoss: 6.467378518629181\n",
      "Epoch: 8 \tLoss: 6.440557552074271\n",
      "Epoch: 9 \tLoss: 6.416795361015473\n",
      "Epoch: 10 \tLoss: 6.393877284298496\n",
      "Epoch: 11 \tLoss: 6.370895241310443\n",
      "Epoch: 12 \tLoss: 6.349754609615606\n",
      "Epoch: 13 \tLoss: 6.336859772093843\n",
      "Epoch: 14 \tLoss: 6.32120620753027\n",
      "Epoch: 15 \tLoss: 6.302735242652468\n",
      "Epoch: 16 \tLoss: 6.292469624687143\n",
      "Epoch: 17 \tLoss: 6.281074477197864\n",
      "Epoch: 18 \tLoss: 6.26736055663009\n",
      "Epoch: 19 \tLoss: 6.256652884069158\n",
      "Epoch: 20 \tLoss: 6.2483494255218845\n",
      "Epoch: 21 \tLoss: 6.240326163497959\n",
      "Epoch: 22 \tLoss: 6.229096388232734\n",
      "Epoch: 23 \tLoss: 6.219747252347474\n",
      "Epoch: 24 \tLoss: 6.211229831975924\n",
      "Epoch: 25 \tLoss: 6.207000768529811\n",
      "Epoch: 26 \tLoss: 6.201535836625471\n",
      "Epoch: 27 \tLoss: 6.194525578505212\n",
      "Epoch: 28 \tLoss: 6.186886371111286\n",
      "Epoch: 29 \tLoss: 6.183425065403791\n",
      "Epoch: 30 \tLoss: 6.176030401132155\n",
      "Epoch: 31 \tLoss: 6.176558468017918\n",
      "Epoch: 32 \tLoss: 6.1698179956533865\n",
      "Epoch: 33 \tLoss: 6.164473750277988\n",
      "Epoch: 34 \tLoss: 6.163950958336913\n",
      "Epoch: 35 \tLoss: 6.1600479357492155\n",
      "Epoch: 36 \tLoss: 6.1567992537483605\n",
      "Epoch: 37 \tLoss: 6.1537291276162875\n",
      "Epoch: 38 \tLoss: 6.150364309748456\n",
      "Epoch: 39 \tLoss: 6.151065195589129\n",
      "Epoch: 40 \tLoss: 6.1492573742346135\n",
      "Epoch: 41 \tLoss: 6.144496297517704\n",
      "Epoch: 42 \tLoss: 6.140000609884283\n",
      "Epoch: 43 \tLoss: 6.136648404306187\n",
      "Epoch: 44 \tLoss: 6.137196791464077\n",
      "Epoch: 45 \tLoss: 6.1394526103557086\n",
      "Epoch: 46 \tLoss: 6.135341214177869\n",
      "Epoch: 47 \tLoss: 6.132907010399154\n",
      "Epoch: 48 \tLoss: 6.128359469645273\n",
      "Epoch: 49 \tLoss: 6.129084260001745\n",
      "Epoch: 50 \tLoss: 6.126660390526786\n",
      "Epoch: 51 \tLoss: 6.127140623954994\n",
      "Epoch: 52 \tLoss: 6.123772788950489\n",
      "Epoch: 53 \tLoss: 6.1221436116106\n",
      "Epoch: 54 \tLoss: 6.120678162521668\n",
      "Epoch: 55 \tLoss: 6.120343478060512\n",
      "Epoch: 56 \tLoss: 6.120463026127465\n",
      "Epoch: 57 \tLoss: 6.116889191098627\n",
      "Epoch: 58 \tLoss: 6.113628613656773\n",
      "Epoch: 59 \tLoss: 6.115213582138707\n",
      "Epoch: 60 \tLoss: 6.114967606380947\n",
      "Epoch: 61 \tLoss: 6.113208709156062\n",
      "Epoch: 62 \tLoss: 6.1092294882028835\n",
      "Epoch: 63 \tLoss: 6.107369229628939\n",
      "Epoch: 64 \tLoss: 6.109932259090228\n",
      "Epoch: 65 \tLoss: 6.107452143008565\n",
      "Epoch: 66 \tLoss: 6.105928463500433\n",
      "Epoch: 67 \tLoss: 6.1061296144413255\n",
      "Epoch: 68 \tLoss: 6.106142951013782\n",
      "Epoch: 69 \tLoss: 6.104353816578277\n",
      "Epoch: 70 \tLoss: 6.102942328676083\n",
      "Epoch: 71 \tLoss: 6.102360484329258\n",
      "Epoch: 72 \tLoss: 6.100992738005844\n",
      "Epoch: 73 \tLoss: 6.103803320292109\n",
      "Epoch: 74 \tLoss: 6.097265635407582\n",
      "Epoch: 75 \tLoss: 6.094948914109466\n",
      "Epoch: 76 \tLoss: 6.098868989201059\n",
      "Epoch: 77 \tLoss: 6.100938396623777\n",
      "Epoch: 78 \tLoss: 6.094505024381098\n",
      "Epoch: 79 \tLoss: 6.093169380137012\n",
      "Epoch: 80 \tLoss: 6.096713532318251\n",
      "Epoch: 81 \tLoss: 6.091886310110113\n",
      "Epoch: 82 \tLoss: 6.092613185168906\n",
      "Epoch: 83 \tLoss: 6.089927683959825\n",
      "Epoch: 84 \tLoss: 6.094035965297164\n",
      "Epoch: 85 \tLoss: 6.087804885643362\n",
      "Epoch: 86 \tLoss: 6.088638056094503\n",
      "Epoch: 87 \tLoss: 6.087467727788573\n",
      "Epoch: 88 \tLoss: 6.093532328616272\n",
      "Epoch: 89 \tLoss: 6.086129780070554\n",
      "Epoch: 90 \tLoss: 6.081913253512308\n",
      "Epoch: 91 \tLoss: 6.084737853111828\n",
      "Epoch: 92 \tLoss: 6.08492399377122\n",
      "Epoch: 93 \tLoss: 6.086414785321412\n",
      "Epoch: 94 \tLoss: 6.084669353170756\n",
      "Epoch: 95 \tLoss: 6.080585487170315\n",
      "Epoch: 96 \tLoss: 6.082640932503681\n",
      "Epoch: 97 \tLoss: 6.084292744209613\n",
      "Epoch: 98 \tLoss: 6.083142610860031\n",
      "Epoch: 99 \tLoss: 6.080892964301502\n",
      "Training finished\n"
     ]
    },
    {
     "data": {
      "image/png": "[encoded data removed]",
      "text/plain": [
       "<Figure size 432x288 with 1 Axes>"
      ]
     },
     "metadata": {
      "needs_background": "light"
     },
     "output_type": "display_data"
    }
   ],
   "source": [
    "# Define optimizer and loss\n",
    "net = Word2Vec(len(V), embedding_size)\n",
    "net.to(dev)\n",
    "optimizer = torch.optim.Adam(net.parameters(), lr=0.01)\n",
    "criterion = nn.NLLLoss()\n",
    "\n",
    "def train():\n",
    "    print(\"Started:\")\n",
    "    loss_vals=  []\n",
    "    for e in range(epochs):\n",
    "        epoch_loss= []\n",
    "        for i, (X_batch, y_batch) in enumerate(train_dl):\n",
    "            X_batch = np.eye(len(V))[X_batch]\n",
    "            y_batch = np.eye(len(V))[y_batch]\n",
    "            X_batch = torch.Tensor(X_batch).to(dev)\n",
    "            y_batch = torch.Tensor(y_batch).to(dev)\n",
    "            y_pred_torch = net(X_batch)\n",
    "            loss = criterion(y_pred_torch, torch.max(torch.tensor(y_batch), 1)[1])\n",
    "            optimizer.zero_grad()\n",
    "            loss.backward()\n",
    "            epoch_loss.append(loss.item())\n",
    "            optimizer.step()\n",
    "        loss_vals.append(sum(epoch_loss)/len(epoch_loss))\n",
    "        print('Epoch:', e,'\\tLoss:',loss_vals[e])\n",
    "#         break\n",
    "    plt.plot(np.linspace(1, epochs, epochs).astype(int), loss_vals)\n",
    "    plt.savefig('Task1_benali.png')\n",
    "    torch.save(net.state_dict(), 'model_param_bengali_temp')\n",
    "train()\n",
    "\n",
    "print(\"Training finished\")"
   ]
  },
  {
   "cell_type": "code",
   "execution_count": 12,
   "metadata": {},
   "outputs": [
    {
     "name": "stdout",
     "output_type": "stream",
     "text": [
      "Word2Vec(\n",
      "  (fc1): Linear(in_features=14482, out_features=640, bias=True)\n",
      "  (fc2): Linear(in_features=640, out_features=14482, bias=True)\n",
      ")\n",
      "torch.Size([14483, 640]) torch.Size([640, 14482])\n"
     ]
    }
   ],
   "source": [
    "#Load Word2Vec embeddings module\n",
    "weights1, weights2 = helper.load_word2vec_embeddings('model_param_bengali', device, len(bengali_V), embedding_size)\n",
    "#weights1 contain the trained embedding weights from task1\n",
    "print(weights1.shape, weights2.shape)"
   ]
  },
  {
   "cell_type": "markdown",
   "metadata": {},
   "source": [
    "### Training Classifier"
   ]
  },
  {
   "cell_type": "code",
   "execution_count": 24,
   "metadata": {},
   "outputs": [
    {
     "name": "stderr",
     "output_type": "stream",
     "text": [
      "<ipython-input-24-67b170ed25d8>:23: UserWarning: torch.nn.utils.clip_grad_norm is now deprecated in favor of torch.nn.utils.clip_grad_norm_.\n",
      "  nn.utils.clip_grad_norm(net.parameters(), clip)\n"
     ]
    },
    {
     "name": "stdout",
     "output_type": "stream",
     "text": [
      "Epoch: 1/30 Training Loss: 0.6930\n",
      "Epoch: 2/30 Training Loss: 0.6671\n",
      "Epoch: 3/30 Training Loss: 0.5985\n",
      "Epoch: 4/30 Training Loss: 0.5194\n",
      "Epoch: 5/30 Training Loss: 0.4552\n",
      "Epoch: 6/30 Training Loss: 0.4153\n",
      "Epoch: 7/30 Training Loss: 0.3673\n",
      "Epoch: 8/30 Training Loss: 0.3184\n",
      "Epoch: 9/30 Training Loss: 0.2733\n",
      "Epoch: 10/30 Training Loss: 0.2336\n",
      "Epoch: 11/30 Training Loss: 0.2108\n",
      "Epoch: 12/30 Training Loss: 0.1895\n",
      "Epoch: 13/30 Training Loss: 0.1757\n",
      "Epoch: 14/30 Training Loss: 0.1628\n",
      "Epoch: 15/30 Training Loss: 0.1282\n",
      "Epoch: 16/30 Training Loss: 0.1196\n",
      "Epoch: 17/30 Training Loss: 0.1142\n",
      "Epoch: 18/30 Training Loss: 0.1006\n",
      "Epoch: 19/30 Training Loss: 0.1010\n",
      "Epoch: 20/30 Training Loss: 0.0818\n",
      "Epoch: 21/30 Training Loss: 0.0694\n",
      "Epoch: 22/30 Training Loss: 0.0808\n",
      "Epoch: 23/30 Training Loss: 0.0750\n",
      "Epoch: 24/30 Training Loss: 0.0719\n",
      "Epoch: 25/30 Training Loss: 0.0583\n",
      "Epoch: 26/30 Training Loss: 0.0746\n",
      "Epoch: 27/30 Training Loss: 0.0597\n",
      "Epoch: 28/30 Training Loss: 0.0562\n",
      "Epoch: 29/30 Training Loss: 0.0619\n",
      "Epoch: 30/30 Training Loss: 0.0454\n",
      "Done\n"
     ]
    },
    {
     "data": {
      "image/png": "[encoded data removed]",
      "text/plain": [
       "<Figure size 432x288 with 1 Axes>"
      ]
     },
     "metadata": {
      "needs_background": "light"
     },
     "output_type": "display_data"
    }
   ],
   "source": [
    "net, criterion = helper.initialize_SentimentLSTM_model(len(bengali_V) + 1, embedding_size, 32, 1, 2, device, weights1)\n",
    "\n",
    "optimizer = torch.optim.Adam(net.parameters(), lr = learning_rate, amsgrad=True)\n",
    "print_every = 100\n",
    "step = 0\n",
    "n_epochs = 30\n",
    "clip = 5\n",
    "\n",
    "\n",
    "training_loss_epoches = []\n",
    "for epoch in range(n_epochs):\n",
    "    h = net.init_hidden(batch_size, device)\n",
    "    training_loss = []\n",
    "    for i, (inputs, labels) in enumerate(train_loader):\n",
    "        step += 1\n",
    "        inputs, labels = inputs.to(device), labels.to(device)\n",
    "        h = tuple([each.data for each in h])   \n",
    "        \n",
    "        net.zero_grad()\n",
    "        output, h = net(inputs, batch_size)\n",
    "        loss = criterion(output.squeeze(), labels.float())\n",
    "        loss.backward()\n",
    "        training_loss.append(loss.item())\n",
    "        nn.utils.clip_grad_norm(net.parameters(), clip)\n",
    "        optimizer.step()\n",
    "    training_loss_epoches.append(np.mean(training_loss))\n",
    "    print(\"Epoch: {}/{}\".format((epoch+1), n_epochs),\n",
    "          \"Training Loss: {:.4f}\".format(np.mean(training_loss)))\n",
    "plt.plot(np.linspace(1, len(training_loss_epoches), len(training_loss_epoches)).astype(int), training_loss_epoches)\n",
    "plt.savefig('Task2_bengali.png')   \n",
    "print(\"Done\")"
   ]
  },
  {
   "cell_type": "markdown",
   "metadata": {},
   "source": [
    "### Testing Classifier"
   ]
  },
  {
   "cell_type": "code",
   "execution_count": 25,
   "metadata": {},
   "outputs": [
    {
     "name": "stdout",
     "output_type": "stream",
     "text": [
      "Test Loss: 1.2797\n",
      "Test Accuracy: 0.73\n"
     ]
    }
   ],
   "source": [
    "net.eval()\n",
    "test_losses = []\n",
    "num_correct = 0\n",
    "test_h = net.init_hidden(batch_size, device)\n",
    "\n",
    "for i, (inputs, labels) in enumerate(test_loader):\n",
    "    test_h = tuple([each.data for each in test_h])\n",
    "    try:\n",
    "        test_output, test_h = net(inputs.to(device), batch_size)\n",
    "    except IndexError:\n",
    "        print(inputs)\n",
    "#     print(labels.dtype, test_output.dtype)\n",
    "#     print(inputs)\n",
    "    loss = criterion(test_output.detach().to(device), labels.float().to(device))\n",
    "    test_losses.append(loss.item())\n",
    "    \n",
    "    preds = torch.round(test_output.squeeze())\n",
    "    \n",
    "    \n",
    "    correct_tensor = preds.eq(labels.float().view_as(preds).to(device))\n",
    "    correct = np.squeeze(correct_tensor.cpu().detach().numpy())\n",
    "    num_correct += np.sum(correct)\n",
    "    \n",
    "print(\"Test Loss: {:.4f}\".format(np.mean(test_losses)))\n",
    "print(\"Test Accuracy: {:.2f}\".format(num_correct/len(test_loader.dataset)))"
   ]
  },
  {
   "cell_type": "markdown",
   "metadata": {},
   "source": [
    "## Hyperopt Implementation\n",
    "### Note: Hyperopt was used for the selection of the model."
   ]
  },
  {
   "cell_type": "code",
   "execution_count": null,
   "metadata": {},
   "outputs": [],
   "source": [
    "def train_hyperopt(space)\n",
    "    learning_rate = space['learning_rate']\n",
    "    n_epochs = space['epochs']\n",
    "    optimizer = torch.optim.Adam(net.parameters(), lr = learning_rate, amsgrad=True)\n",
    "    clip = 5  # for gradient clip to prevent exploding gradient problem in LSTM/RNN\n",
    "    # device = 'cuda' if torch.cuda.is_available() else 'cpu'\n",
    "\n",
    "\n",
    "    training_loss_epoches = []\n",
    "    for epoch in range(n_epochs):\n",
    "        h = net.init_hidden(batch_size, device)\n",
    "        training_loss = []\n",
    "        for i, (inputs, labels) in enumerate(train_loader):\n",
    "            inputs, labels = inputs.to(device), labels.to(device)\n",
    "            h = tuple([each.data for each in h])\n",
    "            net.zero_grad()\n",
    "            output, h = net(inputs, batch_size)\n",
    "            loss = criterion(output.squeeze(), labels.float())\n",
    "            loss.backward()\n",
    "            training_loss.append(loss.item())\n",
    "            nn.utils.clip_grad_norm(net.parameters(), clip)\n",
    "            optimizer.step()\n",
    "            \n",
    "    net.eval()\n",
    "    valid_losses = []\n",
    "    v_h = net.init_hidden(batch_size, device)\n",
    "\n",
    "    for v_inputs, v_labels in valid_loader:\n",
    "        v_inputs, v_labels = inputs.to(device), labels.to(device)\n",
    "\n",
    "        v_h = tuple([each.data for each in v_h])\n",
    "\n",
    "        v_output, v_h = net(v_inputs, batch_size)\n",
    "        v_loss = criterion(v_output.squeeze(), v_labels.float())\n",
    "        valid_losses.append(v_loss.item())\n",
    "        \n",
    "        np.mean(valid_losses)\n",
    "        return {'loss': np.mean(valid_losses), 'model': net, 'status': STATUS_OK}\n",
    "\n",
    "space = {\n",
    "        'learning_rate': hp.quniform('learning_rate', 0.001, 0.04, 0.005),\n",
    "        'epochs': hp.quniform('epochs', 20, 200, 20),\n",
    "        'train': train_loader,\n",
    "        'y_train': y_train.to_numpy(),\n",
    "        'val': val_loader}\n",
    "\n",
    "    trials = Trials()\n",
    "    best = fmin(fn=train_hyperopt,\n",
    "                space=space,\n",
    "                algo=tpe.suggest,\n",
    "                max_evals=int(max_evals),\n",
    "                trials=trials)"
   ]
  }
 ],
 "metadata": {
  "kernelspec": {
   "display_name": "Python 3",
   "language": "python",
   "name": "python3"
  },
  "language_info": {
   "codemirror_mode": {
    "name": "ipython",
    "version": 3
   },
   "file_extension": ".py",
   "mimetype": "text/x-python",
   "name": "python",
   "nbconvert_exporter": "python",
   "pygments_lexer": "ipython3",
   "version": "3.8.5"
  }
 },
 "nbformat": 4,
 "nbformat_minor": 4
}
