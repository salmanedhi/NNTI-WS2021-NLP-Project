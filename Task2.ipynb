{
 "cells": [
  {
   "cell_type": "code",
   "execution_count": 1,
   "metadata": {},
   "outputs": [
    {
     "name": "stdout",
     "output_type": "stream",
     "text": [
      "Done\n"
     ]
    }
   ],
   "source": [
    "# Imports\n",
    "import numpy as np\n",
    "import pandas as pd\n",
    "import nltk\n",
    "from nltk.corpus import stopwords\n",
    "import torch as torch\n",
    "from torch import nn\n",
    "from nltk.tokenize import word_tokenize\n",
    "import math as mt\n",
    "import time\n",
    "import random\n",
    "from joblib import Parallel, delayed\n",
    "from torch.autograd import Variable\n",
    "import matplotlib.pyplot as plt\n",
    "import torch.utils.data as data_utils\n",
    "from torch.utils.data import TensorDataset, DataLoader\n",
    "from sklearn.utils import shuffle\n",
    "import helper\n",
    "print(\"Done\")"
   ]
  },
  {
   "cell_type": "markdown",
   "metadata": {},
   "source": [
    "# Task 2.1: Training Classifier model on Hindi data"
   ]
  },
  {
   "cell_type": "code",
   "execution_count": 2,
   "metadata": {},
   "outputs": [
    {
     "name": "stdout",
     "output_type": "stream",
     "text": [
      "Done cpu\n"
     ]
    }
   ],
   "source": [
    "if torch.cuda.is_available():\n",
    "    device = \"cuda:0\"\n",
    "else:\n",
    "    device = \"cpu\"\n",
    "    \n",
    "#Reading hindi data and shuffling it\n",
    "#data_development contains complete data, labels contain the output\n",
    "url = 'data/hindi_hatespeech.tsv'\n",
    "data = pd.read_csv(url, sep='\\t')\n",
    "data_development = shuffle(data)\n",
    "\n",
    "labels = data_development['task_2']\n",
    "# data_development = data\n",
    "# type(data_development['task_1'])\n",
    "\n",
    "print(\"Done\", device)"
   ]
  },
  {
   "cell_type": "code",
   "execution_count": 3,
   "metadata": {},
   "outputs": [
    {
     "name": "stdout",
     "output_type": "stream",
     "text": [
      "Number of sentences:  4665\n",
      "Total words: 141550\n",
      "Unique words: 19836\n"
     ]
    }
   ],
   "source": [
    "#Applying stopwords removal\n",
    "sentences = helper.apply_stopword_removal(data_development)\n",
    "print(\"Number of sentences: \" , len(sentences))\n",
    "\n",
    "#Building Vocabulary\n",
    "V, non_unique = helper.build_vocabulary(sentences) #V is unique words, non_unique is the total words\n",
    "print('Total words:', len(non_unique))\n",
    "print('Unique words:', len(V))"
   ]
  },
  {
   "cell_type": "code",
   "execution_count": 4,
   "metadata": {},
   "outputs": [
    {
     "name": "stdout",
     "output_type": "stream",
     "text": [
      "Word2Vec(\n",
      "  (fc1): Linear(in_features=19836, out_features=600, bias=True)\n",
      "  (fc2): Linear(in_features=600, out_features=19836, bias=True)\n",
      ")\n",
      "torch.Size([19837, 600]) torch.Size([600, 19836])\n"
     ]
    }
   ],
   "source": [
    "#Load Word2Vec embeddings module\n",
    "weights1, weights2 = helper.load_word2vec_embeddings('model_param_finalised', device, len(V), 600)\n",
    "print(weights1.shape, weights2.shape)"
   ]
  },
  {
   "cell_type": "markdown",
   "metadata": {},
   "source": [
    "## Create Dataset"
   ]
  },
  {
   "cell_type": "code",
   "execution_count": 5,
   "metadata": {},
   "outputs": [
    {
     "name": "stdout",
     "output_type": "stream",
     "text": [
      "(4665, 132)\n",
      "(4665,)\n"
     ]
    }
   ],
   "source": [
    "## create number array of sentences (replace each word its each numeric value)\n",
    "x_data, max_len_curr = helper.sentence_to_numeric_arr(sentences, V)\n",
    "\n",
    "## apply padding\n",
    "padded = np.array(helper.padding(x_data, max_len_curr))\n",
    "\n",
    "print(\"data shape after padding: \", padded.shape)\n",
    "\n",
    "#Encoding the labels to 0 and 1. 0 = not hate speech , 1 = hate speech\n",
    "encoded_labels = [0 if label == \"NONE\" else 1 for label in labels]\n",
    "encoded_labels = np.array(encoded_labels)\n",
    "print(\"Labels shape after encoding: \", encoded_labels.shape)"
   ]
  },
  {
   "cell_type": "code",
   "execution_count": 6,
   "metadata": {},
   "outputs": [
    {
     "name": "stdout",
     "output_type": "stream",
     "text": [
      "<class 'numpy.ndarray'> <class 'numpy.ndarray'>\n",
      "<class 'numpy.ndarray'> <class 'numpy.ndarray'>\n",
      "Done\n"
     ]
    }
   ],
   "source": [
    "#split data into train & test set\n",
    "\n",
    "batch_size = 64\n",
    "train_loader, test_loader = helper.split_data_train_valid_test(padded, encoded_labels, batch_size)\n",
    "print(\"Done\")"
   ]
  },
  {
   "cell_type": "code",
   "execution_count": 10,
   "metadata": {},
   "outputs": [
    {
     "name": "stdout",
     "output_type": "stream",
     "text": [
      "SentimentLSTM(\n",
      "  (embedding): Embedding(19837, 600)\n",
      "  (lstm): LSTM(600, 32, num_layers=2, batch_first=True, dropout=0.5)\n",
      "  (dropout): Dropout(p=0.5, inplace=False)\n",
      "  (fc): Linear(in_features=32, out_features=1, bias=True)\n",
      "  (sigmoid): Sigmoid()\n",
      ")\n"
     ]
    }
   ],
   "source": [
    "#Initialize LSTM model \n",
    "net, criterion= helper.initialize_SentimentLSTM_model(len(V) + 1, 600, 32, 1, 2, device, weights1)\n",
    "\n",
    "print(net)"
   ]
  },
  {
   "cell_type": "markdown",
   "metadata": {},
   "source": [
    "## Training"
   ]
  },
  {
   "cell_type": "code",
   "execution_count": 11,
   "metadata": {},
   "outputs": [
    {
     "name": "stderr",
     "output_type": "stream",
     "text": [
      "<ipython-input-11-3edcb967e788>:20: UserWarning: torch.nn.utils.clip_grad_norm is now deprecated in favor of torch.nn.utils.clip_grad_norm_.\n",
      "  nn.utils.clip_grad_norm(net.parameters(), clip)\n"
     ]
    },
    {
     "name": "stdout",
     "output_type": "stream",
     "text": [
      "Epoch: 1/200 Training Loss: 0.6921\n",
      "Epoch: 2/200 Training Loss: 0.6751\n",
      "Epoch: 3/200 Training Loss: 0.6651\n",
      "Epoch: 4/200 Training Loss: 0.6605\n",
      "Epoch: 5/200 Training Loss: 0.6528\n",
      "Epoch: 6/200 Training Loss: 0.6445\n",
      "Epoch: 7/200 Training Loss: 0.6368\n",
      "Epoch: 8/200 Training Loss: 0.6261\n",
      "Epoch: 9/200 Training Loss: 0.6088\n",
      "Epoch: 10/200 Training Loss: 0.5946\n",
      "Epoch: 11/200 Training Loss: 0.5736\n",
      "Epoch: 12/200 Training Loss: 0.5723\n",
      "Epoch: 13/200 Training Loss: 0.5550\n",
      "Epoch: 14/200 Training Loss: 0.5453\n",
      "Epoch: 15/200 Training Loss: 0.5352\n",
      "Epoch: 16/200 Training Loss: 0.5443\n",
      "Epoch: 17/200 Training Loss: 0.5308\n",
      "Epoch: 18/200 Training Loss: 0.5299\n",
      "Epoch: 19/200 Training Loss: 0.5171\n",
      "Epoch: 20/200 Training Loss: 0.5117\n",
      "Epoch: 21/200 Training Loss: 0.4965\n",
      "Epoch: 22/200 Training Loss: 0.5031\n",
      "Epoch: 23/200 Training Loss: 0.4871\n",
      "Epoch: 24/200 Training Loss: 0.5003\n",
      "Epoch: 25/200 Training Loss: 0.4791\n",
      "Epoch: 26/200 Training Loss: 0.4908\n",
      "Epoch: 27/200 Training Loss: 0.4796\n",
      "Epoch: 28/200 Training Loss: 0.4820\n",
      "Epoch: 29/200 Training Loss: 0.4763\n",
      "Epoch: 30/200 Training Loss: 0.4633\n",
      "Epoch: 31/200 Training Loss: 0.4603\n",
      "Epoch: 32/200 Training Loss: 0.4737\n",
      "Epoch: 33/200 Training Loss: 0.4501\n",
      "Epoch: 34/200 Training Loss: 0.4502\n",
      "Epoch: 35/200 Training Loss: 0.4465\n",
      "Epoch: 36/200 Training Loss: 0.4379\n",
      "Epoch: 37/200 Training Loss: 0.4450\n",
      "Epoch: 38/200 Training Loss: 0.4329\n",
      "Epoch: 39/200 Training Loss: 0.4427\n",
      "Epoch: 40/200 Training Loss: 0.4291\n",
      "Epoch: 41/200 Training Loss: 0.4264\n",
      "Epoch: 42/200 Training Loss: 0.4121\n",
      "Epoch: 43/200 Training Loss: 0.4045\n",
      "Epoch: 44/200 Training Loss: 0.4060\n",
      "Epoch: 45/200 Training Loss: 0.4046\n",
      "Epoch: 46/200 Training Loss: 0.3860\n",
      "Epoch: 47/200 Training Loss: 0.3844\n",
      "Epoch: 48/200 Training Loss: 0.4052\n",
      "Epoch: 49/200 Training Loss: 0.3811\n",
      "Epoch: 50/200 Training Loss: 0.3903\n",
      "Epoch: 51/200 Training Loss: 0.3795\n",
      "Epoch: 52/200 Training Loss: 0.3604\n",
      "Epoch: 53/200 Training Loss: 0.3746\n",
      "Epoch: 54/200 Training Loss: 0.3864\n",
      "Epoch: 55/200 Training Loss: 0.3598\n",
      "Epoch: 56/200 Training Loss: 0.3585\n",
      "Epoch: 57/200 Training Loss: 0.3713\n",
      "Epoch: 58/200 Training Loss: 0.3401\n",
      "Epoch: 59/200 Training Loss: 0.3439\n",
      "Epoch: 60/200 Training Loss: 0.3688\n",
      "Epoch: 61/200 Training Loss: 0.3241\n",
      "Epoch: 62/200 Training Loss: 0.3237\n",
      "Epoch: 63/200 Training Loss: 0.3385\n",
      "Epoch: 64/200 Training Loss: 0.3226\n",
      "Epoch: 65/200 Training Loss: 0.3389\n",
      "Epoch: 66/200 Training Loss: 0.3230\n",
      "Epoch: 67/200 Training Loss: 0.3189\n",
      "Epoch: 68/200 Training Loss: 0.3303\n",
      "Epoch: 69/200 Training Loss: 0.3020\n",
      "Epoch: 70/200 Training Loss: 0.3166\n",
      "Epoch: 71/200 Training Loss: 0.2952\n",
      "Epoch: 72/200 Training Loss: 0.2986\n",
      "Epoch: 73/200 Training Loss: 0.2716\n",
      "Epoch: 74/200 Training Loss: 0.2849\n",
      "Epoch: 75/200 Training Loss: 0.2791\n",
      "Epoch: 76/200 Training Loss: 0.2667\n",
      "Epoch: 77/200 Training Loss: 0.2907\n",
      "Epoch: 78/200 Training Loss: 0.2851\n",
      "Epoch: 79/200 Training Loss: 0.2827\n",
      "Epoch: 80/200 Training Loss: 0.2784\n",
      "Epoch: 81/200 Training Loss: 0.2633\n",
      "Epoch: 82/200 Training Loss: 0.2586\n",
      "Epoch: 83/200 Training Loss: 0.2593\n",
      "Epoch: 84/200 Training Loss: 0.2622\n",
      "Epoch: 85/200 Training Loss: 0.2444\n",
      "Epoch: 86/200 Training Loss: 0.2563\n",
      "Epoch: 87/200 Training Loss: 0.2222\n",
      "Epoch: 88/200 Training Loss: 0.2489\n",
      "Epoch: 89/200 Training Loss: 0.2556\n",
      "Epoch: 90/200 Training Loss: 0.2327\n",
      "Epoch: 91/200 Training Loss: 0.2289\n",
      "Epoch: 92/200 Training Loss: 0.2153\n",
      "Epoch: 93/200 Training Loss: 0.2269\n",
      "Epoch: 94/200 Training Loss: 0.2196\n",
      "Epoch: 95/200 Training Loss: 0.2119\n",
      "Epoch: 96/200 Training Loss: 0.2225\n",
      "Epoch: 97/200 Training Loss: 0.2444\n",
      "Epoch: 98/200 Training Loss: 0.2007\n",
      "Epoch: 99/200 Training Loss: 0.2201\n",
      "Epoch: 100/200 Training Loss: 0.2095\n",
      "Epoch: 101/200 Training Loss: 0.2153\n",
      "Epoch: 102/200 Training Loss: 0.1975\n",
      "Epoch: 103/200 Training Loss: 0.1863\n",
      "Epoch: 104/200 Training Loss: 0.1893\n",
      "Epoch: 105/200 Training Loss: 0.2095\n",
      "Epoch: 106/200 Training Loss: 0.2702\n",
      "Epoch: 107/200 Training Loss: 0.2139\n",
      "Epoch: 108/200 Training Loss: 0.1794\n",
      "Epoch: 109/200 Training Loss: 0.1818\n",
      "Epoch: 110/200 Training Loss: 0.1749\n",
      "Epoch: 111/200 Training Loss: 0.1607\n",
      "Epoch: 112/200 Training Loss: 0.1987\n",
      "Epoch: 113/200 Training Loss: 0.1723\n",
      "Epoch: 114/200 Training Loss: 0.1699\n",
      "Epoch: 115/200 Training Loss: 0.1563\n",
      "Epoch: 116/200 Training Loss: 0.1700\n",
      "Epoch: 117/200 Training Loss: 0.1605\n",
      "Epoch: 118/200 Training Loss: 0.1751\n",
      "Epoch: 119/200 Training Loss: 0.1487\n",
      "Epoch: 120/200 Training Loss: 0.1779\n",
      "Epoch: 121/200 Training Loss: 0.1485\n",
      "Epoch: 122/200 Training Loss: 0.1785\n",
      "Epoch: 123/200 Training Loss: 0.1781\n",
      "Epoch: 124/200 Training Loss: 0.1477\n",
      "Epoch: 125/200 Training Loss: 0.1607\n",
      "Epoch: 126/200 Training Loss: 0.1472\n",
      "Epoch: 127/200 Training Loss: 0.1513\n",
      "Epoch: 128/200 Training Loss: 0.1604\n",
      "Epoch: 129/200 Training Loss: 0.1395\n",
      "Epoch: 130/200 Training Loss: 0.1318\n",
      "Epoch: 131/200 Training Loss: 0.1375\n",
      "Epoch: 132/200 Training Loss: 0.1410\n",
      "Epoch: 133/200 Training Loss: 0.1378\n",
      "Epoch: 134/200 Training Loss: 0.1607\n",
      "Epoch: 135/200 Training Loss: 0.1282\n",
      "Epoch: 136/200 Training Loss: 0.1307\n",
      "Epoch: 137/200 Training Loss: 0.1442\n",
      "Epoch: 138/200 Training Loss: 0.1194\n",
      "Epoch: 139/200 Training Loss: 0.1357\n",
      "Epoch: 140/200 Training Loss: 0.1276\n",
      "Epoch: 141/200 Training Loss: 0.1205\n",
      "Epoch: 142/200 Training Loss: 0.1172\n",
      "Epoch: 143/200 Training Loss: 0.1077\n",
      "Epoch: 144/200 Training Loss: 0.1351\n",
      "Epoch: 145/200 Training Loss: 0.1227\n",
      "Epoch: 146/200 Training Loss: 0.1109\n",
      "Epoch: 147/200 Training Loss: 0.1354\n",
      "Epoch: 148/200 Training Loss: 0.0982\n",
      "Epoch: 149/200 Training Loss: 0.1193\n",
      "Epoch: 150/200 Training Loss: 0.1146\n",
      "Epoch: 151/200 Training Loss: 0.1181\n",
      "Epoch: 152/200 Training Loss: 0.1043\n",
      "Epoch: 153/200 Training Loss: 0.1292\n",
      "Epoch: 154/200 Training Loss: 0.1012\n",
      "Epoch: 155/200 Training Loss: 0.1046\n",
      "Epoch: 156/200 Training Loss: 0.1200\n",
      "Epoch: 157/200 Training Loss: 0.0922\n",
      "Epoch: 158/200 Training Loss: 0.1526\n",
      "Epoch: 159/200 Training Loss: 0.0984\n",
      "Epoch: 160/200 Training Loss: 0.0956\n",
      "Epoch: 161/200 Training Loss: 0.0989\n",
      "Epoch: 162/200 Training Loss: 0.1195\n",
      "Epoch: 163/200 Training Loss: 0.1353\n",
      "Epoch: 164/200 Training Loss: 0.0991\n",
      "Epoch: 165/200 Training Loss: 0.1201\n",
      "Epoch: 166/200 Training Loss: 0.1224\n",
      "Epoch: 167/200 Training Loss: 0.0860\n",
      "Epoch: 168/200 Training Loss: 0.0878\n",
      "Epoch: 169/200 Training Loss: 0.1327\n",
      "Epoch: 170/200 Training Loss: 0.1098\n",
      "Epoch: 171/200 Training Loss: 0.0943\n",
      "Epoch: 172/200 Training Loss: 0.0769\n",
      "Epoch: 173/200 Training Loss: 0.0871\n",
      "Epoch: 174/200 Training Loss: 0.0925\n",
      "Epoch: 175/200 Training Loss: 0.0866\n",
      "Epoch: 176/200 Training Loss: 0.0932\n",
      "Epoch: 177/200 Training Loss: 0.0828\n",
      "Epoch: 178/200 Training Loss: 0.1337\n",
      "Epoch: 179/200 Training Loss: 0.1092\n",
      "Epoch: 180/200 Training Loss: 0.0720\n",
      "Epoch: 181/200 Training Loss: 0.1078\n",
      "Epoch: 182/200 Training Loss: 0.1277\n",
      "Epoch: 183/200 Training Loss: 0.0824\n",
      "Epoch: 184/200 Training Loss: 0.0950\n",
      "Epoch: 185/200 Training Loss: 0.0906\n",
      "Epoch: 186/200 Training Loss: 0.1026\n",
      "Epoch: 187/200 Training Loss: 0.1082\n",
      "Epoch: 188/200 Training Loss: 0.0755\n",
      "Epoch: 189/200 Training Loss: 0.1324\n",
      "Epoch: 190/200 Training Loss: 0.0933\n",
      "Epoch: 191/200 Training Loss: 0.1000\n",
      "Epoch: 192/200 Training Loss: 0.0722\n",
      "Epoch: 193/200 Training Loss: 0.0823\n",
      "Epoch: 194/200 Training Loss: 0.0937\n",
      "Epoch: 195/200 Training Loss: 0.0941\n",
      "Epoch: 196/200 Training Loss: 0.0831\n",
      "Epoch: 197/200 Training Loss: 0.0826\n",
      "Epoch: 198/200 Training Loss: 0.1002\n",
      "Epoch: 199/200 Training Loss: 0.0912\n",
      "Epoch: 200/200 Training Loss: 0.0852\n",
      "Done\n"
     ]
    },
    {
     "data": {
      "image/png": "[encoded data removed]",
      "text/plain": [
       "<Figure size 432x288 with 1 Axes>"
      ]
     },
     "metadata": {
      "needs_background": "light"
     },
     "output_type": "display_data"
    }
   ],
   "source": [
    "##Perform Training\n",
    "\n",
    "optimizer = torch.optim.Adam(net.parameters(), lr = 0.001, amsgrad=True)\n",
    "print_every = 100\n",
    "step = 0\n",
    "n_epochs = 200  \n",
    "clip = 5  # for gradient clip to prevent exploding gradient problem in LSTM/RNN\n",
    "\n",
    "training_loss_epoches = []\n",
    "for epoch in range(n_epochs):\n",
    "    h = net.init_hidden(batch_size, device)\n",
    "    training_loss = []\n",
    "    for i, (inputs, labels) in enumerate(train_loader):\n",
    "        step += 1\n",
    "        inputs, labels = inputs.to(device), labels.to(device)\n",
    "        h = tuple([each.data for each in h])\n",
    "        net.zero_grad()\n",
    "        output, h = net(inputs, batch_size)\n",
    "        loss = criterion(output.squeeze(), labels.float())\n",
    "        loss.backward()\n",
    "        training_loss.append(loss.item())\n",
    "        nn.utils.clip_grad_norm(net.parameters(), clip)\n",
    "        optimizer.step()\n",
    "        \n",
    "#         if (step % print_every) == 0:            \n",
    "#             ######################\n",
    "#             ##### VALIDATION #####\n",
    "#             ######################\n",
    "#             net.eval()\n",
    "#             valid_losses = []\n",
    "#             v_h = net.init_hidden(batch_size, device)\n",
    "            \n",
    "#             for v_inputs, v_labels in valid_loader:\n",
    "#                 v_inputs, v_labels = inputs.to(device), labels.to(device)\n",
    "        \n",
    "#                 v_h = tuple([each.data for each in v_h])\n",
    "                \n",
    "#                 v_output, v_h = net(v_inputs, batch_size)\n",
    "#                 v_loss = criterion(v_output.squeeze(), v_labels.float())\n",
    "#                 valid_losses.append(v_loss.item())\n",
    "\n",
    "#             print(\"Epoch: {}/{}\".format((epoch+1), n_epochs),\n",
    "#                   \"Step: {}\".format(step),\n",
    "#                   \"Training Loss: {:.4f}\".format(loss.item()),\n",
    "#                   \"Validation Loss: {:.4f}\".format(np.mean(valid_losses)))\n",
    "#         net.train()\n",
    "    training_loss_epoches.append(np.mean(training_loss))\n",
    "    print(\"Epoch: {}/{}\".format((epoch+1), n_epochs),\n",
    "          \"Training Loss: {:.4f}\".format(np.mean(training_loss)))\n",
    "plt.plot(np.linspace(1, len(training_loss_epoches), len(training_loss_epoches)).astype(int), training_loss_epoches)\n",
    "plt.savefig('Task2_hindi.png')\n",
    "print(\"Done\")"
   ]
  },
  {
   "cell_type": "markdown",
   "metadata": {},
   "source": [
    "## Testing"
   ]
  },
  {
   "cell_type": "code",
   "execution_count": 12,
   "metadata": {},
   "outputs": [
    {
     "name": "stdout",
     "output_type": "stream",
     "text": [
      "Test Loss: 1.6302\n",
      "Test Accuracy: 0.68\n"
     ]
    }
   ],
   "source": [
    "## Perform Testing to calculate test accuracy\n",
    "net.eval()\n",
    "test_losses = []\n",
    "num_correct = 0\n",
    "test_h = net.init_hidden(batch_size, device)\n",
    "\n",
    "for i, (inputs, labels) in enumerate(test_loader):\n",
    "    test_h = tuple([each.data for each in test_h])\n",
    "    try:\n",
    "        test_output, test_h = net(inputs.to(device), batch_size)\n",
    "    except IndexError:\n",
    "        print(inputs)\n",
    "#     print(labels.dtype, test_output.dtype)\n",
    "#     print(inputs)\n",
    "    loss = criterion(test_output.detach().to(device), labels.float().to(device))\n",
    "    test_losses.append(loss.item())\n",
    "    \n",
    "    preds = torch.round(test_output.squeeze())\n",
    "    correct_tensor = preds.eq(labels.float().view_as(preds).to(device))\n",
    "    correct = np.squeeze(correct_tensor.cpu().detach().numpy())\n",
    "    num_correct += np.sum(correct)\n",
    "    \n",
    "print(\"Test Loss: {:.4f}\".format(np.mean(test_losses)))\n",
    "print(\"Test Accuracy: {:.2f}\".format(num_correct/len(test_loader.dataset)))"
   ]
  },
  {
   "cell_type": "markdown",
   "metadata": {},
   "source": [
    "# Task 2.2: Testing Bengali Data on Hindi Classifier"
   ]
  },
  {
   "cell_type": "code",
   "execution_count": 24,
   "metadata": {},
   "outputs": [
    {
     "name": "stdout",
     "output_type": "stream",
     "text": [
      "(4665, 3) (4665,)\n"
     ]
    }
   ],
   "source": [
    "#Reading Bengali data\n",
    "bengali_data, labels = helper.get_bengali_data('data/bengali_hatespeech.csv')\n",
    "# print(bengali_data)\n",
    "print(bengali_data.shape, labels.shape)"
   ]
  },
  {
   "cell_type": "code",
   "execution_count": 25,
   "metadata": {},
   "outputs": [
    {
     "name": "stdout",
     "output_type": "stream",
     "text": [
      "Number of sentences:  4665\n",
      "Total words: 64027\n",
      "Unique words: 14482\n",
      "(4665, 402)\n"
     ]
    }
   ],
   "source": [
    "## Stopwords Removal of Bengali Data\n",
    "bengali_sentences = helper.apply_stopword_removal(bengali_data)\n",
    "print(\"Number of sentences: \" , len(bengali_sentences))\n",
    "\n",
    "## Building Vocabulary\n",
    "bengali_V, bengali_non_unique = helper.build_vocabulary(bengali_sentences)\n",
    "print('Total words:', len(bengali_non_unique))\n",
    "print('Unique words:', len(bengali_V))\n",
    "\n",
    "## Sentence to numeric array\n",
    "x_data_bengali, max_len_curr = helper.sentence_to_numeric_arr(bengali_sentences, bengali_V)\n",
    "\n",
    "## Apply Padding\n",
    "padded = np.array(helper.padding(x_data_bengali, max_len_curr))\n",
    "print(padded.shape)"
   ]
  },
  {
   "cell_type": "code",
   "execution_count": 26,
   "metadata": {},
   "outputs": [
    {
     "name": "stdout",
     "output_type": "stream",
     "text": [
      "<class 'numpy.ndarray'> <class 'numpy.ndarray'>\n"
     ]
    }
   ],
   "source": [
    "#create test data to pass to the model\n",
    "test_data = TensorDataset(torch.tensor(padded), torch.tensor(labels))\n",
    "batch_size = 64\n",
    "train_loader, test_loader = helper.split_data_train_valid_test(padded, labels, 64)\n",
    "net, criterion= helper.initialize_SentimentLSTM_model_bengali(len(V) + 1, 600, 32, 1, 2, device, weights1)\n"
   ]
  },
  {
   "cell_type": "markdown",
   "metadata": {},
   "source": [
    "# Task 2.3: Transfer Learning"
   ]
  },
  {
   "cell_type": "code",
   "execution_count": 27,
   "metadata": {},
   "outputs": [
    {
     "name": "stderr",
     "output_type": "stream",
     "text": [
      "<ipython-input-27-e5af900be1ba>:23: UserWarning: torch.nn.utils.clip_grad_norm is now deprecated in favor of torch.nn.utils.clip_grad_norm_.\n",
      "  nn.utils.clip_grad_norm(net.parameters(), clip)\n"
     ]
    },
    {
     "name": "stdout",
     "output_type": "stream",
     "text": [
      "Epoch: 1/20 Training Loss: 0.6723\n",
      "Epoch: 2/20 Training Loss: 0.3671\n",
      "Epoch: 3/20 Training Loss: 0.1457\n",
      "Epoch: 4/20 Training Loss: 0.0811\n",
      "Epoch: 5/20 Training Loss: 0.0504\n",
      "Epoch: 6/20 Training Loss: 0.0400\n",
      "Epoch: 7/20 Training Loss: 0.0297\n",
      "Epoch: 8/20 Training Loss: 0.0279\n",
      "Epoch: 9/20 Training Loss: 0.0261\n",
      "Epoch: 10/20 Training Loss: 0.0142\n",
      "Epoch: 11/20 Training Loss: 0.0110\n",
      "Epoch: 12/20 Training Loss: 0.0114\n",
      "Epoch: 13/20 Training Loss: 0.0075\n",
      "Epoch: 14/20 Training Loss: 0.0064\n",
      "Epoch: 15/20 Training Loss: 0.0069\n",
      "Epoch: 16/20 Training Loss: 0.0083\n",
      "Epoch: 17/20 Training Loss: 0.0063\n",
      "Epoch: 18/20 Training Loss: 0.0061\n",
      "Epoch: 19/20 Training Loss: 0.0044\n",
      "Epoch: 20/20 Training Loss: 0.0049\n",
      "Done\n"
     ]
    },
    {
     "data": {
      "image/png": "[encoded data removed]",
      "text/plain": [
       "<Figure size 432x288 with 1 Axes>"
      ]
     },
     "metadata": {
      "needs_background": "light"
     },
     "output_type": "display_data"
    }
   ],
   "source": [
    "optimizer = torch.optim.Adam(net.parameters(), lr = 0.001, amsgrad=True)\n",
    "print_every = 100\n",
    "step = 0\n",
    "n_epochs = 20  # validation loss increases from ~ epoch 3 or 4\n",
    "clip = 5  # for gradient clip to prevent exploding gradient problem in LSTM/RNN\n",
    "\n",
    "training_loss_epoches = []\n",
    "for epoch in range(n_epochs):\n",
    "    h = net.init_hidden(batch_size, device)\n",
    "    training_loss = []\n",
    "    for i, (inputs, labels) in enumerate(train_loader):\n",
    "        step += 1\n",
    "        inputs, labels = inputs.to(device), labels.to(device)\n",
    "#         print(i, inputs.shape, labels.shape)\n",
    "        # making requires_grad = False for the latest set of h\n",
    "        h = tuple([each.data for each in h])   \n",
    "        \n",
    "        net.zero_grad()\n",
    "        output, h = net(inputs, batch_size)\n",
    "        loss = criterion(output.squeeze(), labels.float())\n",
    "        loss.backward()\n",
    "        training_loss.append(loss.item())\n",
    "        nn.utils.clip_grad_norm(net.parameters(), clip)\n",
    "        optimizer.step()\n",
    "        \n",
    "#         if (step % print_every) == 0:            \n",
    "#             ######################\n",
    "#             ##### VALIDATION #####\n",
    "#             ######################\n",
    "#             net.eval()\n",
    "#             valid_losses = []\n",
    "#             v_h = net.init_hidden(batch_size, device)\n",
    "            \n",
    "#             for v_inputs, v_labels in valid_loader:\n",
    "#                 v_inputs, v_labels = inputs.to(device), labels.to(device)\n",
    "        \n",
    "#                 v_h = tuple([each.data for each in v_h])\n",
    "                \n",
    "#                 v_output, v_h = net(v_inputs, batch_size)\n",
    "#                 v_loss = criterion(v_output.squeeze(), v_labels.float())\n",
    "#                 valid_losses.append(v_loss.item())\n",
    "\n",
    "#             print(\"Epoch: {}/{}\".format((epoch+1), n_epochs),\n",
    "#                   \"Step: {}\".format(step),\n",
    "#                   \"Training Loss: {:.4f}\".format(loss.item()),\n",
    "#                   \"Validation Loss: {:.4f}\".format(np.mean(valid_losses)))\n",
    "#             net.train()\n",
    "    training_loss_epoches.append(np.mean(training_loss))\n",
    "    print(\"Epoch: {}/{}\".format((epoch+1), n_epochs),\n",
    "          \"Training Loss: {:.4f}\".format(np.mean(training_loss)))\n",
    "plt.plot(np.linspace(1, len(training_loss_epoches), len(training_loss_epoches)).astype(int), training_loss_epoches)\n",
    "plt.savefig('Task2_transferlearning.png')    \n",
    "print(\"Done\")"
   ]
  },
  {
   "cell_type": "code",
   "execution_count": 28,
   "metadata": {},
   "outputs": [
    {
     "name": "stdout",
     "output_type": "stream",
     "text": [
      "Test Loss: 1.4029\n",
      "Test Accuracy: 0.75\n"
     ]
    }
   ],
   "source": [
    "net.eval()\n",
    "\n",
    "test_losses = []\n",
    "num_correct = 0\n",
    "test_h = net.init_hidden(batch_size, device)\n",
    "\n",
    "for i, (inputs, labels) in enumerate(test_loader):\n",
    "    test_h = tuple([each.data for each in test_h])\n",
    "    try:\n",
    "        test_output, test_h = net(inputs.to(device), batch_size)\n",
    "    except IndexError:\n",
    "        print(inputs)\n",
    "    loss = criterion(test_output.detach().to(device), labels.float().to(device))\n",
    "    test_losses.append(loss.item())\n",
    "    \n",
    "    preds = torch.round(test_output.squeeze())\n",
    "    correct_tensor = preds.eq(labels.float().view_as(preds).to(device))\n",
    "    correct = np.squeeze(correct_tensor.cpu().detach().numpy())\n",
    "    num_correct += np.sum(correct)\n",
    "    \n",
    "print(\"Test Loss: {:.4f}\".format(np.mean(test_losses)))\n",
    "print(\"Test Accuracy: {:.2f}\".format(num_correct/len(test_loader.dataset)))"
   ]
  },
  {
   "cell_type": "markdown",
   "metadata": {},
   "source": [
    "# Task 2.4: Training classifier on Bengali embeddings"
   ]
  },
  {
   "cell_type": "code",
   "execution_count": 29,
   "metadata": {},
   "outputs": [
    {
     "name": "stdout",
     "output_type": "stream",
     "text": [
      "Word2Vec(\n",
      "  (fc1): Linear(in_features=14482, out_features=600, bias=True)\n",
      "  (fc2): Linear(in_features=600, out_features=14482, bias=True)\n",
      ")\n",
      "torch.Size([14483, 600]) torch.Size([600, 14482])\n"
     ]
    }
   ],
   "source": [
    "#Load Word2Vec embeddings module\n",
    "weights1, weights2 = helper.load_word2vec_embeddings('model_param_finalised_bengali', device, len(bengali_V), 600)\n",
    "print(weights1.shape, weights2.shape)"
   ]
  },
  {
   "cell_type": "code",
   "execution_count": 30,
   "metadata": {},
   "outputs": [
    {
     "name": "stdout",
     "output_type": "stream",
     "text": [
      "(4665, 402) torch.Size([64])\n",
      "<class 'numpy.ndarray'> <class 'torch.Tensor'>\n",
      "Done\n"
     ]
    }
   ],
   "source": [
    "#split data into train, valid & test set\n",
    "# labels = labels.cpu().detach().numpy()\n",
    "print(padded.shape, labels.shape)\n",
    "print(type(padded), type(labels))\n",
    "\n",
    "print(\"Done\")"
   ]
  },
  {
   "cell_type": "code",
   "execution_count": 33,
   "metadata": {},
   "outputs": [
    {
     "name": "stdout",
     "output_type": "stream",
     "text": [
      "SentimentLSTM(\n",
      "  (embedding): Embedding(14483, 600)\n",
      "  (lstm): LSTM(600, 32, num_layers=2, batch_first=True, dropout=0.5)\n",
      "  (dropout): Dropout(p=0.5, inplace=False)\n",
      "  (fc): Linear(in_features=32, out_features=1, bias=True)\n",
      "  (sigmoid): Sigmoid()\n",
      ")\n"
     ]
    }
   ],
   "source": [
    "net, criterion = helper.initialize_SentimentLSTM_model(len(bengali_V) + 1, 600, 32, 1, 2, device, weights1)\n",
    "\n",
    "print(net)"
   ]
  },
  {
   "cell_type": "code",
   "execution_count": 34,
   "metadata": {},
   "outputs": [
    {
     "name": "stderr",
     "output_type": "stream",
     "text": [
      "<ipython-input-34-695c0798ed93>:28: UserWarning: torch.nn.utils.clip_grad_norm is now deprecated in favor of torch.nn.utils.clip_grad_norm_.\n",
      "  nn.utils.clip_grad_norm(net.parameters(), clip)\n"
     ]
    },
    {
     "name": "stdout",
     "output_type": "stream",
     "text": [
      "Epoch: 1/100 Training Loss: 0.6918\n",
      "Epoch: 2/100 Training Loss: 0.6561\n",
      "Epoch: 3/100 Training Loss: 0.5558\n",
      "Epoch: 4/100 Training Loss: 0.4858\n",
      "Epoch: 5/100 Training Loss: 0.4253\n",
      "Epoch: 6/100 Training Loss: 0.3611\n",
      "Epoch: 7/100 Training Loss: 0.3189\n",
      "Epoch: 8/100 Training Loss: 0.2693\n",
      "Epoch: 9/100 Training Loss: 0.2363\n",
      "Epoch: 10/100 Training Loss: 0.2115\n",
      "Epoch: 11/100 Training Loss: 0.1874\n",
      "Epoch: 12/100 Training Loss: 0.1635\n",
      "Epoch: 13/100 Training Loss: 0.1399\n",
      "Epoch: 14/100 Training Loss: 0.1333\n",
      "Epoch: 15/100 Training Loss: 0.1198\n",
      "Epoch: 16/100 Training Loss: 0.1087\n",
      "Epoch: 17/100 Training Loss: 0.1037\n",
      "Epoch: 18/100 Training Loss: 0.0968\n",
      "Epoch: 19/100 Training Loss: 0.0816\n",
      "Epoch: 20/100 Training Loss: 0.0785\n",
      "Epoch: 21/100 Training Loss: 0.0752\n",
      "Epoch: 22/100 Training Loss: 0.0780\n",
      "Epoch: 23/100 Training Loss: 0.0797\n",
      "Epoch: 24/100 Training Loss: 0.0765\n",
      "Epoch: 25/100 Training Loss: 0.0732\n",
      "Epoch: 26/100 Training Loss: 0.0632\n",
      "Epoch: 27/100 Training Loss: 0.5698\n",
      "Epoch: 28/100 Training Loss: 0.1202\n",
      "Epoch: 29/100 Training Loss: 0.0721\n",
      "Epoch: 30/100 Training Loss: 0.0529\n",
      "Epoch: 31/100 Training Loss: 0.0520\n",
      "Epoch: 32/100 Training Loss: 0.0456\n",
      "Epoch: 33/100 Training Loss: 0.0479\n",
      "Epoch: 34/100 Training Loss: 0.0383\n",
      "Epoch: 35/100 Training Loss: 0.0485\n",
      "Epoch: 36/100 Training Loss: 0.0499\n",
      "Epoch: 37/100 Training Loss: 0.0457\n",
      "Epoch: 38/100 Training Loss: 0.0387\n",
      "Epoch: 39/100 Training Loss: 0.0365\n",
      "Epoch: 40/100 Training Loss: 0.0341\n",
      "Epoch: 41/100 Training Loss: 0.0359\n",
      "Epoch: 42/100 Training Loss: 0.0354\n",
      "Epoch: 43/100 Training Loss: 0.0390\n",
      "Epoch: 44/100 Training Loss: 0.0325\n",
      "Epoch: 45/100 Training Loss: 0.0270\n",
      "Epoch: 46/100 Training Loss: 0.0306\n",
      "Epoch: 47/100 Training Loss: 0.0284\n",
      "Epoch: 48/100 Training Loss: 0.0259\n",
      "Epoch: 49/100 Training Loss: 0.0252\n",
      "Epoch: 50/100 Training Loss: 0.0189\n",
      "Epoch: 51/100 Training Loss: 0.0233\n",
      "Epoch: 52/100 Training Loss: 0.0235\n",
      "Epoch: 53/100 Training Loss: 0.0326\n",
      "Epoch: 54/100 Training Loss: 0.0314\n",
      "Epoch: 55/100 Training Loss: 0.0508\n",
      "Epoch: 56/100 Training Loss: 0.0461\n",
      "Epoch: 57/100 Training Loss: 0.0329\n",
      "Epoch: 58/100 Training Loss: 0.0279\n",
      "Epoch: 59/100 Training Loss: 0.0246\n",
      "Epoch: 60/100 Training Loss: 0.0340\n",
      "Epoch: 61/100 Training Loss: 0.0283\n",
      "Epoch: 62/100 Training Loss: 0.0243\n",
      "Epoch: 63/100 Training Loss: 0.0218\n",
      "Epoch: 64/100 Training Loss: 0.0219\n",
      "Epoch: 65/100 Training Loss: 0.0198\n",
      "Epoch: 66/100 Training Loss: 0.0222\n",
      "Epoch: 67/100 Training Loss: 0.0194\n",
      "Epoch: 68/100 Training Loss: 0.0178\n",
      "Epoch: 69/100 Training Loss: 0.0181\n",
      "Epoch: 70/100 Training Loss: 0.0196\n",
      "Epoch: 71/100 Training Loss: 0.0191\n",
      "Epoch: 72/100 Training Loss: 0.0168\n",
      "Epoch: 73/100 Training Loss: 0.0177\n",
      "Epoch: 74/100 Training Loss: 0.0150\n",
      "Epoch: 75/100 Training Loss: 0.0150\n",
      "Epoch: 76/100 Training Loss: 0.0142\n",
      "Epoch: 77/100 Training Loss: 0.0166\n",
      "Epoch: 78/100 Training Loss: 0.0140\n",
      "Epoch: 79/100 Training Loss: 0.0127\n",
      "Epoch: 80/100 Training Loss: 0.0120\n",
      "Epoch: 81/100 Training Loss: 0.0136\n",
      "Epoch: 82/100 Training Loss: 0.0147\n",
      "Epoch: 83/100 Training Loss: 0.0150\n",
      "Epoch: 84/100 Training Loss: 0.0122\n",
      "Epoch: 85/100 Training Loss: 0.0116\n",
      "Epoch: 86/100 Training Loss: 0.0115\n",
      "Epoch: 87/100 Training Loss: 0.0126\n",
      "Epoch: 88/100 Training Loss: 0.0126\n",
      "Epoch: 89/100 Training Loss: 0.0130\n",
      "Epoch: 90/100 Training Loss: 0.0120\n",
      "Epoch: 91/100 Training Loss: 0.0113\n",
      "Epoch: 92/100 Training Loss: 0.0120\n",
      "Epoch: 93/100 Training Loss: 0.0106\n",
      "Epoch: 94/100 Training Loss: 0.0088\n",
      "Epoch: 95/100 Training Loss: 0.0065\n",
      "Epoch: 96/100 Training Loss: 0.0088\n",
      "Epoch: 97/100 Training Loss: 0.0130\n",
      "Epoch: 98/100 Training Loss: 0.0187\n",
      "Epoch: 99/100 Training Loss: 0.0256\n",
      "Epoch: 100/100 Training Loss: 0.0411\n",
      "Done\n"
     ]
    },
    {
     "data": {
      "image/png": "[encoded data removed]",
      "text/plain": [
       "<Figure size 432x288 with 1 Axes>"
      ]
     },
     "metadata": {
      "needs_background": "light"
     },
     "output_type": "display_data"
    }
   ],
   "source": [
    "optimizer = torch.optim.Adam(net.parameters(), lr = 0.001, amsgrad=True)\n",
    "print_every = 100\n",
    "step = 0\n",
    "n_epochs = 100  # validation loss increases from ~ epoch 3 or 4\n",
    "clip = 5  # for gradient clip to prevent exploding gradient problem in LSTM/RNN\n",
    "# device = 'cuda' if torch.cuda.is_available() else 'cpu'\n",
    "\n",
    "\n",
    "training_loss_epoches = []\n",
    "for epoch in range(n_epochs):\n",
    "    h = net.init_hidden(batch_size, device)\n",
    "    training_loss = []\n",
    "    for i, (inputs, labels) in enumerate(train_loader):\n",
    "        step += 1\n",
    "        inputs, labels = inputs.to(device), labels.to(device)\n",
    "        h = tuple([each.data for each in h])   \n",
    "        \n",
    "        net.zero_grad()\n",
    "        output, h = net(inputs, batch_size)\n",
    "        loss = criterion(output.squeeze(), labels.float())\n",
    "        loss.backward()\n",
    "        training_loss.append(loss.item())\n",
    "        nn.utils.clip_grad_norm(net.parameters(), clip)\n",
    "        optimizer.step()\n",
    "        \n",
    "#         if (step % print_every) == 0:            \n",
    "#             ######################\n",
    "#             ##### VALIDATION #####\n",
    "#             ######################\n",
    "#             net.eval()\n",
    "#             valid_losses = []\n",
    "#             v_h = net.init_hidden(batch_size, device)\n",
    "            \n",
    "#             for v_inputs, v_labels in valid_loader:\n",
    "#                 v_inputs, v_labels = inputs.to(device), labels.to(device)\n",
    "        \n",
    "#                 v_h = tuple([each.data for each in v_h])\n",
    "                \n",
    "#                 v_output, v_h = net(v_inputs, batch_size)\n",
    "#                 v_loss = criterion(v_output.squeeze(), v_labels.float())\n",
    "#                 valid_losses.append(v_loss.item())\n",
    "\n",
    "#             print(\"Epoch: {}/{}\".format((epoch+1), n_epochs),\n",
    "#                   \"Step: {}\".format(step),\n",
    "#                   \"Training Loss: {:.4f}\".format(loss.item()),\n",
    "#                   \"Validation Loss: {:.4f}\".format(np.mean(valid_losses)))\n",
    "#             net.train()\n",
    "    training_loss_epoches.append(np.mean(training_loss))\n",
    "    print(\"Epoch: {}/{}\".format((epoch+1), n_epochs),\n",
    "          \"Training Loss: {:.4f}\".format(np.mean(training_loss)))\n",
    "plt.plot(np.linspace(1, len(training_loss_epoches), len(training_loss_epoches)).astype(int), training_loss_epoches)\n",
    "plt.savefig('Task2_bengali.png')   \n",
    "print(\"Done\")"
   ]
  },
  {
   "cell_type": "code",
   "execution_count": 35,
   "metadata": {},
   "outputs": [
    {
     "name": "stdout",
     "output_type": "stream",
     "text": [
      "Test Loss: 1.5457\n",
      "Test Accuracy: 0.73\n"
     ]
    }
   ],
   "source": [
    "# import os \n",
    "# os.environ['CUDA_LAUNCH_BLOCKING'] = \"1\"\n",
    "net.eval()\n",
    "test_losses = []\n",
    "num_correct = 0\n",
    "test_h = net.init_hidden(batch_size, device)\n",
    "\n",
    "for i, (inputs, labels) in enumerate(test_loader):\n",
    "    test_h = tuple([each.data for each in test_h])\n",
    "    try:\n",
    "        test_output, test_h = net(inputs.to(device), batch_size)\n",
    "    except IndexError:\n",
    "        print(inputs)\n",
    "#     print(labels.dtype, test_output.dtype)\n",
    "#     print(inputs)\n",
    "    loss = criterion(test_output.detach().to(device), labels.float().to(device))\n",
    "    test_losses.append(loss.item())\n",
    "    \n",
    "    preds = torch.round(test_output.squeeze())\n",
    "    \n",
    "    \n",
    "    correct_tensor = preds.eq(labels.float().view_as(preds).to(device))\n",
    "    correct = np.squeeze(correct_tensor.cpu().detach().numpy())\n",
    "    num_correct += np.sum(correct)\n",
    "    \n",
    "print(\"Test Loss: {:.4f}\".format(np.mean(test_losses)))\n",
    "print(\"Test Accuracy: {:.2f}\".format(num_correct/len(test_loader.dataset)))"
   ]
  },
  {
   "cell_type": "code",
   "execution_count": null,
   "metadata": {},
   "outputs": [],
   "source": []
  }
 ],
 "metadata": {
  "kernelspec": {
   "display_name": "Python 3",
   "language": "python",
   "name": "python3"
  },
  "language_info": {
   "codemirror_mode": {
    "name": "ipython",
    "version": 3
   },
   "file_extension": ".py",
   "mimetype": "text/x-python",
   "name": "python",
   "nbconvert_exporter": "python",
   "pygments_lexer": "ipython3",
   "version": "3.8.5"
  }
 },
 "nbformat": 4,
 "nbformat_minor": 4
}
