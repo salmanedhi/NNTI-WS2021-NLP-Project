{
 "cells": [
  {
   "cell_type": "code",
   "execution_count": 1,
   "metadata": {},
   "outputs": [
    {
     "name": "stdout",
     "output_type": "stream",
     "text": [
      "Done\n"
     ]
    }
   ],
   "source": [
    "# Imports\n",
    "import numpy as np\n",
    "import pandas as pd\n",
    "import nltk\n",
    "from nltk.corpus import stopwords\n",
    "import torch as torch\n",
    "from torch import nn\n",
    "from nltk.tokenize import word_tokenize\n",
    "import math as mt\n",
    "import time\n",
    "import random\n",
    "from joblib import Parallel, delayed\n",
    "from torch.autograd import Variable\n",
    "import matplotlib.pyplot as plt\n",
    "import torch.utils.data as data_utils\n",
    "from torch.utils.data import TensorDataset, DataLoader\n",
    "from sklearn.utils import shuffle\n",
    "print(\"Done\")"
   ]
  },
  {
   "cell_type": "markdown",
   "metadata": {},
   "source": [
    "## Load model"
   ]
  },
  {
   "cell_type": "code",
   "execution_count": 2,
   "metadata": {},
   "outputs": [
    {
     "name": "stdout",
     "output_type": "stream",
     "text": [
      "Done\n"
     ]
    }
   ],
   "source": [
    "class Word2Vec(nn.Module):\n",
    "    def __init__(self, features, embedding_size):\n",
    "        super().__init__()\n",
    "        initrange = 0.5 / embedding_size\n",
    "        self.fc1 = nn.Linear(features, embedding_size)\n",
    "        self.fc2 = nn.Linear(embedding_size, features)\n",
    "\n",
    "\n",
    "    def forward(self, one_hot):\n",
    "        x = self.fc1(one_hot.float())\n",
    "        x = self.fc2(x)\n",
    "        log_softmax = torch.nn.functional.log_softmax(x, dim=1)\n",
    "        return log_softmax\n",
    "#     pass\n",
    "\n",
    "print(\"Done\")"
   ]
  },
  {
   "cell_type": "markdown",
   "metadata": {},
   "source": [
    "## "
   ]
  },
  {
   "cell_type": "code",
   "execution_count": 3,
   "metadata": {},
   "outputs": [
    {
     "name": "stdout",
     "output_type": "stream",
     "text": [
      "Done cuda:0\n"
     ]
    }
   ],
   "source": [
    "if torch.cuda.is_available():\n",
    "    device = \"cuda:0\"\n",
    "else:\n",
    "    device = \"cpu\"\n",
    "    \n",
    "url = 'https://raw.githubusercontent.com/salmanedhi/NNTI-WS2021-NLP-Project/main/data/hindi_hatespeech.tsv'\n",
    "\n",
    "data = pd.read_csv(url, sep='\\t')\n",
    "    \n",
    "#data = pd.read_csv('data/hindi_hatespeech.tsv', sep='\\t')\n",
    "data_development = shuffle(data)\n",
    "labels = data_development['task_2']\n",
    "# data_development = data\n",
    "type(data_development['task_1'])\n",
    "\n",
    "print(\"Done\", device)"
   ]
  },
  {
   "cell_type": "markdown",
   "metadata": {},
   "source": [
    "## Stopword Removal"
   ]
  },
  {
   "cell_type": "code",
   "execution_count": 4,
   "metadata": {},
   "outputs": [
    {
     "name": "stdout",
     "output_type": "stream",
     "text": [
      "Done\n"
     ]
    }
   ],
   "source": [
    "hindi_stopword_file = open('data/stopwords-hi.txt', encoding=\"utf8\")\n",
    "\n",
    "sw_list = ['#', '?', '!', ';', ',', ':', \"\\'\", '-', '=', '(', ')', '[', ']' , '{', '}', '\"', '*', '@', '  ', '\\\\', '/', '..', '...', '....', '%'\n",
    "          ,'0', '1', '2', '3', '4', '5', '6', '7', '8', '9', '\\t']\n",
    "sw_list_string = ''\n",
    "for i in sw_list:\n",
    "    sw_list_string+=i\n",
    "hindi_stopwords = []\n",
    "for x in hindi_stopword_file:\n",
    "    hindi_stopwords.append(x.rstrip())\n",
    "\n",
    "hindi_stopwords.extend(sw_list)\n",
    "sentences = []\n",
    "for text in data_development['text']:\n",
    "    text_array = text.split(' ')\n",
    "    new_array = []\n",
    "    for j in text_array:\n",
    "        if '@' not in j and len(j) < 20:\n",
    "            for char in sw_list:\n",
    "                j = j.replace(char, '')\n",
    "            new_array.append(j.lower())\n",
    "    sentences.append(' '.join(new_array))\n",
    "\n",
    "print(\"Done\")"
   ]
  },
  {
   "cell_type": "markdown",
   "metadata": {},
   "source": [
    "## Build Vocab"
   ]
  },
  {
   "cell_type": "code",
   "execution_count": 5,
   "metadata": {},
   "outputs": [
    {
     "name": "stdout",
     "output_type": "stream",
     "text": [
      "Total words: 141550\n",
      "Unique words: 19836\n"
     ]
    }
   ],
   "source": [
    "#TODO: implement!\n",
    "temp_unique = [] # For unique words\n",
    "temp_nounique = []\n",
    "for j in sentences:\n",
    "    temp2 = j.split(' ')\n",
    "    for k in temp2:\n",
    "        if k not in temp_unique:\n",
    "            temp_unique.append(k)\n",
    "        temp_nounique.append(k)\n",
    "V = temp_unique\n",
    "non_unique = temp_nounique\n",
    "print('Total words:', len(non_unique))\n",
    "print('Unique words:', len(V))"
   ]
  },
  {
   "cell_type": "code",
   "execution_count": 6,
   "metadata": {},
   "outputs": [
    {
     "name": "stdout",
     "output_type": "stream",
     "text": [
      "Word2Vec(\n",
      "  (fc1): Linear(in_features=19836, out_features=600, bias=True)\n",
      "  (fc2): Linear(in_features=600, out_features=19836, bias=True)\n",
      ")\n",
      "torch.Size([19837, 600]) torch.Size([600, 19836])\n"
     ]
    }
   ],
   "source": [
    "model = Word2Vec(19836, 600)\n",
    "model.load_state_dict(torch.load('model_param_finalised'))\n",
    "print(model.eval())\n",
    "weights1 = torch.transpose(model.fc1.weight, 0, 1)\n",
    "weights2 = torch.transpose(model.fc2.weight, 0, 1)\n",
    "temp_row = np.zeros(600).reshape(1,600)\n",
    "weights1_np = weights1.cpu().detach().numpy()\n",
    "weights1_np = np.concatenate((temp_row, weights1_np), axis=0)\n",
    "weights1 = torch.Tensor(weights1_np)\n",
    "print(weights1.shape, weights2.shape)"
   ]
  },
  {
   "cell_type": "code",
   "execution_count": 7,
   "metadata": {},
   "outputs": [
    {
     "name": "stdout",
     "output_type": "stream",
     "text": [
      "([1, 2, 3, 4, 5, 6, 3, 7, 8, 3, 9, 10, 11, 12, 13, 14, 15, 16, 17, 12, 18, 19, 19, 19, 20, 12, 21, 22, 19, 23, 24, 25, 26, 19, 19, 19, 19, 19, 19, 19], 40)\n",
      "4153    PRFN\n",
      "51      PRFN\n",
      "1061    PRFN\n",
      "3913    NONE\n",
      "638     PRFN\n",
      "        ... \n",
      "2918    PRFN\n",
      "4213    OFFN\n",
      "3306    NONE\n",
      "3587    NONE\n",
      "3003    HATE\n",
      "Name: task_2, Length: 4665, dtype: object\n"
     ]
    }
   ],
   "source": [
    "#TODO: implement!\n",
    "def word_to_one_hot(word, features):\n",
    "    if word in V:\n",
    "        index = V.index(word)\n",
    "        encoding = np.zeros(features)\n",
    "        encoding[index]= 1\n",
    "        return encoding.astype(np.uint8)\n",
    "    return False\n",
    "\n",
    "def not_word_to_one_hot(word, features):\n",
    "    if word in V:\n",
    "        index = V.index(word)\n",
    "        return index\n",
    "    return False\n",
    "\n",
    "def index_to_onehot(X_batch):\n",
    "    X_batch_new = []\n",
    "    y_batch_new = []\n",
    "    encodingX = np.eye(4)[X_batch]\n",
    "    return type(encodingX)\n",
    "\n",
    "def sentence_to_index(sentence):\n",
    "    words = sentence.split(' ')\n",
    "    l = []\n",
    "    for i in words:\n",
    "        l.append(V.index(i) + 1)\n",
    "    return l, len(l)\n",
    "#     return l\n",
    "\n",
    "def padding(array, seq_len):\n",
    "    padded_array = []\n",
    "    for item in array:\n",
    "        if len(item) < seq_len:\n",
    "            padded_array.append([0]*(seq_len-len(item)) + item)\n",
    "        else:\n",
    "            padded_array.append(item)\n",
    "    return np.array(padded_array)\n",
    "            \n",
    "#     for review in encoded_reviews:\n",
    "#         if len(review) >= seq_length:\n",
    "#             reviews.append(review[:seq_length])\n",
    "#         else:\n",
    "#             reviews.append([0]*(seq_length-len(review)) + review)\n",
    "        \n",
    "#     return np.array(reviews)\n",
    "\n",
    "print(sentence_to_index(sentences[0]))\n",
    "print(labels)"
   ]
  },
  {
   "cell_type": "markdown",
   "metadata": {},
   "source": [
    "## Create Dataset"
   ]
  },
  {
   "cell_type": "code",
   "execution_count": 8,
   "metadata": {},
   "outputs": [
    {
     "name": "stdout",
     "output_type": "stream",
     "text": [
      "(4665, 132)\n",
      "[1 1 1 ... 0 0 1]\n"
     ]
    }
   ],
   "source": [
    "x_data = []\n",
    "max_len_curr = -1\n",
    "for sentence in sentences:\n",
    "    temp, max_len = sentence_to_index(sentence)\n",
    "    if max_len > max_len_curr:\n",
    "        max_len_curr = max_len\n",
    "    x_data.append(temp)\n",
    "\n",
    "# print(x_data)\n",
    "padded = np.array(padding(x_data, max_len_curr))\n",
    "\n",
    "# x_data = x_data.astype('float32')\n",
    "# print(x_data.shape)\n",
    "print(padded.shape)\n",
    "encoded_labels = [0 if label == \"NONE\" else 1 for label in labels]\n",
    "encoded_labels = np.array(encoded_labels)\n",
    "print(encoded_labels)"
   ]
  },
  {
   "cell_type": "code",
   "execution_count": 9,
   "metadata": {},
   "outputs": [
    {
     "name": "stdout",
     "output_type": "stream",
     "text": [
      "Done (4665, 132) (466, 132) (3732, 132)\n"
     ]
    }
   ],
   "source": [
    "###############################################################################\n",
    "##############  7. SPLIT DATA & GET (REVIEW, LABEL) DATALOADER  ###############\n",
    "###############################################################################\n",
    "train_ratio = 0.8\n",
    "valid_ratio = (1 - train_ratio)/2\n",
    "total = padded.shape[0]\n",
    "train_cutoff = int(total * train_ratio)\n",
    "valid_cutoff = int(total * (1 - valid_ratio))\n",
    "\n",
    "train_x, train_y = padded[:train_cutoff], encoded_labels[:train_cutoff]\n",
    "valid_x, valid_y = padded[train_cutoff : valid_cutoff], encoded_labels[train_cutoff : valid_cutoff]\n",
    "test_x, test_y = padded[valid_cutoff:], encoded_labels[valid_cutoff:]\n",
    "# print(train_x.shape, train_y.shape)\n",
    "# print(test_x.shape, test_y.shape)\n",
    "# print(valid_x.shape, valid_y.shape)\n",
    "# train_x = torch.from_numpy(train_x)\n",
    "train_data = TensorDataset(torch.tensor(train_x), torch.tensor(train_y))\n",
    "valid_data = TensorDataset(torch.tensor(valid_x), torch.tensor(valid_y))\n",
    "test_data = TensorDataset(torch.tensor(test_x), torch.tensor(test_y))\n",
    "\n",
    "batch_size = 64\n",
    "train_loader = DataLoader(train_data, batch_size = batch_size, shuffle = True, drop_last=True)\n",
    "valid_loader = DataLoader(valid_data, batch_size = batch_size, shuffle = True, drop_last=True)\n",
    "test_loader = DataLoader(test_data, batch_size = batch_size, shuffle = True, drop_last=True)\n",
    "print(\"Done\", padded.shape, valid_x.shape, train_x.shape)"
   ]
  },
  {
   "cell_type": "code",
   "execution_count": 57,
   "metadata": {},
   "outputs": [],
   "source": [
    "class SentimentLSTM(nn.Module):\n",
    "    \n",
    "    def __init__(self, n_vocab, n_embed, n_hidden, n_output, n_layers, drop_p = 0.5):\n",
    "    \n",
    "#     def __init__(self, cool):\n",
    "        super().__init__()\n",
    "        # params: \"n_\" means dimension\n",
    "        self.n_vocab = n_vocab     # number of unique words in vocabulary\n",
    "        self.n_layers = n_layers   # number of LSTM layers \n",
    "        self.n_hidden = n_hidden   # number of hidden nodes in LSTM\n",
    "        \n",
    "        self.embedding = nn.Embedding(n_vocab, n_embed)\n",
    "        #embeddings is a torch tensor.\n",
    "        self.embedding.weight = nn.Parameter(weights1, requires_grad = False)\n",
    "        self.lstm = nn.LSTM(n_embed, n_hidden, n_layers, batch_first = True, dropout = drop_p)\n",
    "        self.dropout = nn.Dropout(drop_p)\n",
    "        self.fc = nn.Linear(n_hidden, n_output)\n",
    "        self.sigmoid = nn.Sigmoid()\n",
    "        \n",
    "        \n",
    "    def forward (self, input_words):\n",
    "                                             # INPUT   :  (batch_size, seq_length)\n",
    "        embedded_words = self.embedding(input_words)    # (batch_size, seq_length, n_embed)\n",
    "        lstm_out, h = self.lstm(embedded_words)         # (batch_size, seq_length, n_hidden)\n",
    "        lstm_out = self.dropout(lstm_out)\n",
    "        lstm_out = lstm_out.contiguous().view(-1, self.n_hidden) # (batch_size*seq_length, n_hidden)\n",
    "        fc_out = self.fc(lstm_out)                      # (batch_size*seq_length, n_output)\n",
    "        sigmoid_out = self.sigmoid(fc_out)              # (batch_size*seq_length, n_output)\n",
    "        sigmoid_out = sigmoid_out.view(batch_size, -1)  # (batch_size, seq_length*n_output)\n",
    "#         print('HEre',input_words.shape)\n",
    "        # extract the output of ONLY the LAST output of the LAST element of the sequence\n",
    "        sigmoid_last = sigmoid_out[:, -1]               # (batch_size, 1)\n",
    "        \n",
    "        return sigmoid_last, h\n",
    "    \n",
    "    \n",
    "    def init_hidden (self, batch_size):  # initialize hidden weights (h,c) to 0\n",
    "        \n",
    "#         device = \"cuda\" if torch.cuda.is_available() else \"cpu\"\n",
    "        weights = next(self.parameters()).data\n",
    "        h = (weights.new(self.n_layers, batch_size, self.n_hidden).zero_().to(device),\n",
    "             weights.new(self.n_layers, batch_size, self.n_hidden).zero_().to(device))\n",
    "        \n",
    "        return h"
   ]
  },
  {
   "cell_type": "code",
   "execution_count": 58,
   "metadata": {},
   "outputs": [
    {
     "name": "stdout",
     "output_type": "stream",
     "text": [
      "19837 600 32 1 2\n"
     ]
    },
    {
     "data": {
      "text/plain": [
       "SentimentLSTM(\n",
       "  (embedding): Embedding(19837, 600)\n",
       "  (lstm): LSTM(600, 32, num_layers=2, batch_first=True, dropout=0.5)\n",
       "  (dropout): Dropout(p=0.5, inplace=False)\n",
       "  (fc): Linear(in_features=32, out_features=1, bias=True)\n",
       "  (sigmoid): Sigmoid()\n",
       ")"
      ]
     },
     "execution_count": 58,
     "metadata": {},
     "output_type": "execute_result"
    }
   ],
   "source": [
    "n_vocab = len(V) + 1\n",
    "n_embed = 600\n",
    "n_hidden = 32\n",
    "n_output = 1   # 1 (\"positive\") or 0 (\"negative\")\n",
    "n_layers = 2\n",
    "print(n_vocab, n_embed, n_hidden, n_output, n_layers)\n",
    "net = SentimentLSTM(n_vocab, n_embed, n_hidden, n_output, n_layers)\n",
    "net.to(device)\n",
    "# net = SentimentLSTM(13)"
   ]
  },
  {
   "cell_type": "code",
   "execution_count": 59,
   "metadata": {},
   "outputs": [],
   "source": [
    "criterion = nn.BCELoss()\n",
    "optimizer = torch.optim.Adam(net.parameters(), lr = 0.001, amsgrad=True)"
   ]
  },
  {
   "cell_type": "code",
   "execution_count": 60,
   "metadata": {},
   "outputs": [
    {
     "name": "stderr",
     "output_type": "stream",
     "text": [
      "<ipython-input-60-2801870d6992>:29: UserWarning: torch.nn.utils.clip_grad_norm is now deprecated in favor of torch.nn.utils.clip_grad_norm_.\n",
      "  nn.utils.clip_grad_norm(net.parameters(), clip)\n"
     ]
    },
    {
     "name": "stdout",
     "output_type": "stream",
     "text": [
      "Epoch: 1/100 Training Loss: 0.6923\n",
      "Epoch: 2/100 Step: 100 Training Loss: 0.6937 Validation Loss: 0.7014\n",
      "Epoch: 2/100 Training Loss: 0.6830\n",
      "Epoch: 3/100 Training Loss: 0.6730\n",
      "Epoch: 4/100 Step: 200 Training Loss: 0.6545 Validation Loss: 0.6570\n",
      "Epoch: 4/100 Training Loss: 0.6666\n",
      "Epoch: 5/100 Training Loss: 0.6589\n",
      "Epoch: 6/100 Step: 300 Training Loss: 0.6849 Validation Loss: 0.6890\n",
      "Epoch: 6/100 Training Loss: 0.6467\n",
      "Epoch: 7/100 Step: 400 Training Loss: 0.6588 Validation Loss: 0.6478\n",
      "Epoch: 7/100 Training Loss: 0.6353\n",
      "Epoch: 8/100 Training Loss: 0.6286\n",
      "Epoch: 9/100 Step: 500 Training Loss: 0.6249 Validation Loss: 0.6231\n",
      "Epoch: 9/100 Training Loss: 0.6040\n",
      "Epoch: 10/100 Training Loss: 0.5897\n",
      "Epoch: 11/100 Step: 600 Training Loss: 0.5132 Validation Loss: 0.5042\n",
      "Epoch: 11/100 Training Loss: 0.5760\n",
      "Epoch: 12/100 Training Loss: 0.5549\n",
      "Epoch: 13/100 Step: 700 Training Loss: 0.5527 Validation Loss: 0.5450\n",
      "Epoch: 13/100 Training Loss: 0.5422\n",
      "Epoch: 14/100 Step: 800 Training Loss: 0.6638 Validation Loss: 0.5857\n",
      "Epoch: 14/100 Training Loss: 0.5365\n",
      "Epoch: 15/100 Training Loss: 0.5109\n",
      "Epoch: 16/100 Step: 900 Training Loss: 0.4022 Validation Loss: 0.3892\n",
      "Epoch: 16/100 Training Loss: 0.5345\n",
      "Epoch: 17/100 Training Loss: 0.5249\n",
      "Epoch: 18/100 Step: 1000 Training Loss: 0.6975 Validation Loss: 0.6568\n",
      "Epoch: 18/100 Training Loss: 0.5139\n",
      "Epoch: 19/100 Step: 1100 Training Loss: 0.4574 Validation Loss: 0.4523\n",
      "Epoch: 19/100 Training Loss: 0.5023\n",
      "Epoch: 20/100 Training Loss: 0.4879\n",
      "Epoch: 21/100 Step: 1200 Training Loss: 0.4363 Validation Loss: 0.4256\n",
      "Epoch: 21/100 Training Loss: 0.4717\n",
      "Epoch: 22/100 Training Loss: 0.4678\n",
      "Epoch: 23/100 Step: 1300 Training Loss: 0.4343 Validation Loss: 0.3926\n",
      "Epoch: 23/100 Training Loss: 0.4667\n",
      "Epoch: 24/100 Training Loss: 0.4514\n",
      "Epoch: 25/100 Step: 1400 Training Loss: 0.3926 Validation Loss: 0.3996\n",
      "Epoch: 25/100 Training Loss: 0.4533\n",
      "Epoch: 26/100 Step: 1500 Training Loss: 0.4697 Validation Loss: 0.4472\n",
      "Epoch: 26/100 Training Loss: 0.4480\n",
      "Epoch: 27/100 Training Loss: 0.4690\n",
      "Epoch: 28/100 Step: 1600 Training Loss: 0.5836 Validation Loss: 0.5821\n",
      "Epoch: 28/100 Training Loss: 0.4270\n",
      "Epoch: 29/100 Training Loss: 0.4116\n",
      "Epoch: 30/100 Step: 1700 Training Loss: 0.3924 Validation Loss: 0.3759\n",
      "Epoch: 30/100 Training Loss: 0.4129\n",
      "Epoch: 31/100 Training Loss: 0.3984\n",
      "Epoch: 32/100 Step: 1800 Training Loss: 0.5534 Validation Loss: 0.5349\n",
      "Epoch: 32/100 Training Loss: 0.3825\n",
      "Epoch: 33/100 Step: 1900 Training Loss: 0.3717 Validation Loss: 0.3265\n",
      "Epoch: 33/100 Training Loss: 0.4000\n",
      "Epoch: 34/100 Training Loss: 0.3714\n",
      "Epoch: 35/100 Step: 2000 Training Loss: 0.4052 Validation Loss: 0.3743\n",
      "Epoch: 35/100 Training Loss: 0.3821\n",
      "Epoch: 36/100 Training Loss: 0.3869\n",
      "Epoch: 37/100 Step: 2100 Training Loss: 0.4763 Validation Loss: 0.4676\n",
      "Epoch: 37/100 Training Loss: 0.3715\n",
      "Epoch: 38/100 Step: 2200 Training Loss: 0.3353 Validation Loss: 0.3361\n",
      "Epoch: 38/100 Training Loss: 0.3713\n",
      "Epoch: 39/100 Training Loss: 0.3442\n",
      "Epoch: 40/100 Step: 2300 Training Loss: 0.3554 Validation Loss: 0.3240\n",
      "Epoch: 40/100 Training Loss: 0.3895\n",
      "Epoch: 41/100 Training Loss: 0.3343\n",
      "Epoch: 42/100 Step: 2400 Training Loss: 0.2500 Validation Loss: 0.2652\n",
      "Epoch: 42/100 Training Loss: 0.3398\n",
      "Epoch: 43/100 Training Loss: 0.3407\n",
      "Epoch: 44/100 Step: 2500 Training Loss: 0.2537 Validation Loss: 0.2437\n",
      "Epoch: 44/100 Training Loss: 0.3578\n",
      "Epoch: 45/100 Step: 2600 Training Loss: 0.2645 Validation Loss: 0.2592\n",
      "Epoch: 45/100 Training Loss: 0.3180\n",
      "Epoch: 46/100 Training Loss: 0.3125\n",
      "Epoch: 47/100 Step: 2700 Training Loss: 0.4844 Validation Loss: 0.4641\n",
      "Epoch: 47/100 Training Loss: 0.3076\n",
      "Epoch: 48/100 Training Loss: 0.3030\n",
      "Epoch: 49/100 Step: 2800 Training Loss: 0.2251 Validation Loss: 0.2192\n",
      "Epoch: 49/100 Training Loss: 0.2937\n",
      "Epoch: 50/100 Step: 2900 Training Loss: 0.3668 Validation Loss: 0.3521\n",
      "Epoch: 50/100 Training Loss: 0.2969\n",
      "Epoch: 51/100 Training Loss: 0.3181\n",
      "Epoch: 52/100 Step: 3000 Training Loss: 0.3063 Validation Loss: 0.3052\n",
      "Epoch: 52/100 Training Loss: 0.2771\n",
      "Epoch: 53/100 Training Loss: 0.2702\n",
      "Epoch: 54/100 Step: 3100 Training Loss: 0.2094 Validation Loss: 0.1677\n",
      "Epoch: 54/100 Training Loss: 0.2665\n",
      "Epoch: 55/100 Training Loss: 0.2592\n",
      "Epoch: 56/100 Step: 3200 Training Loss: 0.3359 Validation Loss: 0.2764\n",
      "Epoch: 56/100 Training Loss: 0.2683\n",
      "Epoch: 57/100 Step: 3300 Training Loss: 0.2028 Validation Loss: 0.1757\n",
      "Epoch: 57/100 Training Loss: 0.2418\n",
      "Epoch: 58/100 Training Loss: 0.2481\n",
      "Epoch: 59/100 Step: 3400 Training Loss: 0.2865 Validation Loss: 0.3137\n",
      "Epoch: 59/100 Training Loss: 0.2319\n",
      "Epoch: 60/100 Training Loss: 0.2317\n",
      "Epoch: 61/100 Step: 3500 Training Loss: 0.1023 Validation Loss: 0.0838\n",
      "Epoch: 61/100 Training Loss: 0.2348\n",
      "Epoch: 62/100 Training Loss: 0.2292\n",
      "Epoch: 63/100 Step: 3600 Training Loss: 0.6352 Validation Loss: 0.6438\n",
      "Epoch: 63/100 Training Loss: 0.2466\n",
      "Epoch: 64/100 Step: 3700 Training Loss: 0.1290 Validation Loss: 0.1268\n",
      "Epoch: 64/100 Training Loss: 0.2059\n",
      "Epoch: 65/100 Training Loss: 0.2365\n",
      "Epoch: 66/100 Step: 3800 Training Loss: 0.2417 Validation Loss: 0.2253\n",
      "Epoch: 66/100 Training Loss: 0.2069\n",
      "Epoch: 67/100 Training Loss: 0.1936\n",
      "Epoch: 68/100 Step: 3900 Training Loss: 0.1242 Validation Loss: 0.0870\n",
      "Epoch: 68/100 Training Loss: 0.2030\n",
      "Epoch: 69/100 Step: 4000 Training Loss: 0.3077 Validation Loss: 0.2560\n",
      "Epoch: 69/100 Training Loss: 0.2035\n",
      "Epoch: 70/100 Training Loss: 0.1960\n",
      "Epoch: 71/100 Step: 4100 Training Loss: 0.1396 Validation Loss: 0.1226\n",
      "Epoch: 71/100 Training Loss: 0.1984\n",
      "Epoch: 72/100 Training Loss: 0.1922\n",
      "Epoch: 73/100 Step: 4200 Training Loss: 0.1464 Validation Loss: 0.1716\n",
      "Epoch: 73/100 Training Loss: 0.1696\n",
      "Epoch: 74/100 Training Loss: 0.1565\n",
      "Epoch: 75/100 Step: 4300 Training Loss: 0.1130 Validation Loss: 0.1074\n",
      "Epoch: 75/100 Training Loss: 0.1633\n",
      "Epoch: 76/100 Step: 4400 Training Loss: 0.1020 Validation Loss: 0.1115\n",
      "Epoch: 76/100 Training Loss: 0.1823\n",
      "Epoch: 77/100 Training Loss: 0.1495\n",
      "Epoch: 78/100 Step: 4500 Training Loss: 0.2175 Validation Loss: 0.2081\n",
      "Epoch: 78/100 Training Loss: 0.1659\n",
      "Epoch: 79/100 Training Loss: 0.1487\n",
      "Epoch: 80/100 Step: 4600 Training Loss: 0.0789 Validation Loss: 0.0767\n",
      "Epoch: 80/100 Training Loss: 0.1469\n",
      "Epoch: 81/100 Training Loss: 0.1992\n",
      "Epoch: 82/100 Step: 4700 Training Loss: 0.1186 Validation Loss: 0.0799\n",
      "Epoch: 82/100 Training Loss: 0.1384\n",
      "Epoch: 83/100 Step: 4800 Training Loss: 0.1373 Validation Loss: 0.1147\n",
      "Epoch: 83/100 Training Loss: 0.1444\n",
      "Epoch: 84/100 Training Loss: 0.1383\n",
      "Epoch: 85/100 Step: 4900 Training Loss: 0.2452 Validation Loss: 0.2426\n",
      "Epoch: 85/100 Training Loss: 0.1446\n",
      "Epoch: 86/100 Training Loss: 0.1311\n",
      "Epoch: 87/100 Step: 5000 Training Loss: 0.0548 Validation Loss: 0.0472\n",
      "Epoch: 87/100 Training Loss: 0.1205\n",
      "Epoch: 88/100 Step: 5100 Training Loss: 0.1397 Validation Loss: 0.0748\n",
      "Epoch: 88/100 Training Loss: 0.1430\n",
      "Epoch: 89/100 Training Loss: 0.1309\n",
      "Epoch: 90/100 Step: 5200 Training Loss: 0.1077 Validation Loss: 0.0671\n",
      "Epoch: 90/100 Training Loss: 0.1099\n",
      "Epoch: 91/100 Training Loss: 0.1121\n",
      "Epoch: 92/100 Step: 5300 Training Loss: 0.1950 Validation Loss: 0.1455\n",
      "Epoch: 92/100 Training Loss: 0.1070\n",
      "Epoch: 93/100 Training Loss: 0.1814\n",
      "Epoch: 94/100 Step: 5400 Training Loss: 0.0837 Validation Loss: 0.0745\n",
      "Epoch: 94/100 Training Loss: 0.1196\n",
      "Epoch: 95/100 Step: 5500 Training Loss: 0.0747 Validation Loss: 0.0458\n",
      "Epoch: 95/100 Training Loss: 0.1101\n",
      "Epoch: 96/100 Training Loss: 0.1452\n",
      "Epoch: 97/100 Step: 5600 Training Loss: 0.1068 Validation Loss: 0.0905\n",
      "Epoch: 97/100 Training Loss: 0.0919\n",
      "Epoch: 98/100 Training Loss: 0.0964\n",
      "Epoch: 99/100 Step: 5700 Training Loss: 0.0181 Validation Loss: 0.0119\n",
      "Epoch: 99/100 Training Loss: 0.1052\n",
      "Epoch: 100/100 Step: 5800 Training Loss: 0.0500 Validation Loss: 0.0238\n",
      "Epoch: 100/100 Training Loss: 0.1034\n",
      "Done\n"
     ]
    }
   ],
   "source": [
    "print_every = 100\n",
    "step = 0\n",
    "n_epochs = 100  # validation loss increases from ~ epoch 3 or 4\n",
    "clip = 5  # for gradient clip to prevent exploding gradient problem in LSTM/RNN\n",
    "# device = 'cuda' if torch.cuda.is_available() else 'cpu'\n",
    "\n",
    "# if torch.cuda.is_available():\n",
    "#     device = \"cuda:0\"\n",
    "# else:\n",
    "#     device = \"cpu\"\n",
    "# print(device)\n",
    "\n",
    "training_loss_epoches = []\n",
    "for epoch in range(n_epochs):\n",
    "    h = net.init_hidden(batch_size)\n",
    "    training_loss = []\n",
    "    for i, (inputs, labels) in enumerate(train_loader):\n",
    "        step += 1\n",
    "        inputs, labels = inputs.to(device), labels.to(device)\n",
    "#         print(i, inputs.shape, labels.shape)\n",
    "        # making requires_grad = False for the latest set of h\n",
    "        h = tuple([each.data for each in h])   \n",
    "        \n",
    "        net.zero_grad()\n",
    "        output, h = net(inputs)\n",
    "        loss = criterion(output.squeeze(), labels.float())\n",
    "        loss.backward()\n",
    "        training_loss.append(loss.item())\n",
    "        nn.utils.clip_grad_norm(net.parameters(), clip)\n",
    "        optimizer.step()\n",
    "        \n",
    "        if (step % print_every) == 0:            \n",
    "            ######################\n",
    "            ##### VALIDATION #####\n",
    "            ######################\n",
    "            net.eval()\n",
    "            valid_losses = []\n",
    "            v_h = net.init_hidden(batch_size)\n",
    "            \n",
    "            for v_inputs, v_labels in valid_loader:\n",
    "                v_inputs, v_labels = inputs.to(device), labels.to(device)\n",
    "        \n",
    "                v_h = tuple([each.data for each in v_h])\n",
    "                \n",
    "                v_output, v_h = net(v_inputs)\n",
    "                v_loss = criterion(v_output.squeeze(), v_labels.float())\n",
    "                valid_losses.append(v_loss.item())\n",
    "\n",
    "            print(\"Epoch: {}/{}\".format((epoch+1), n_epochs),\n",
    "                  \"Step: {}\".format(step),\n",
    "                  \"Training Loss: {:.4f}\".format(loss.item()),\n",
    "                  \"Validation Loss: {:.4f}\".format(np.mean(valid_losses)))\n",
    "            net.train()\n",
    "    training_loss_epoches.append(np.mean(training_loss))\n",
    "    print(\"Epoch: {}/{}\".format((epoch+1), n_epochs),\n",
    "          \"Training Loss: {:.4f}\".format(np.mean(training_loss)))\n",
    "    \n",
    "print(\"Done\")"
   ]
  },
  {
   "cell_type": "code",
   "execution_count": 62,
   "metadata": {},
   "outputs": [
    {
     "name": "stdout",
     "output_type": "stream",
     "text": [
      "100\n"
     ]
    },
    {
     "data": {
      "image/png": "[encoded data removed]",
      "text/plain": [
       "<Figure size 432x288 with 1 Axes>"
      ]
     },
     "metadata": {
      "needs_background": "light"
     },
     "output_type": "display_data"
    }
   ],
   "source": [
    "print(len(training_loss_epoches))\n",
    "plt.plot(np.linspace(1, len(training_loss_epoches), len(training_loss_epoches)).astype(int), training_loss_epoches)\n",
    "torch.save(net, 'model_task2')\n",
    "torch.save(net.state_dict(), 'model_param_task2')"
   ]
  },
  {
   "cell_type": "code",
   "execution_count": null,
   "metadata": {},
   "outputs": [],
   "source": [
    "net.load_state_dict(torch.load('model_param_task2'))\n",
    "net.to(device)"
   ]
  },
  {
   "cell_type": "markdown",
   "metadata": {},
   "source": [
    "## Test set"
   ]
  },
  {
   "cell_type": "code",
   "execution_count": 63,
   "metadata": {},
   "outputs": [
    {
     "name": "stdout",
     "output_type": "stream",
     "text": [
      "Test Loss: 1.4219\n",
      "Test Accuracy: 0.68\n"
     ]
    }
   ],
   "source": [
    "import os \n",
    "os.environ['CUDA_LAUNCH_BLOCKING'] = \"1\"\n",
    "net.eval()\n",
    "\n",
    "test_losses = []\n",
    "num_correct = 0\n",
    "test_h = net.init_hidden(batch_size)\n",
    "\n",
    "for i, (inputs, labels) in enumerate(test_loader):\n",
    "    test_h = tuple([each.data for each in test_h])\n",
    "    try:\n",
    "        test_output, test_h = net(inputs.to(device))\n",
    "    except IndexError:\n",
    "        print(inputs)\n",
    "#     print(labels.dtype, test_output.dtype)\n",
    "#     print(inputs)\n",
    "    loss = criterion(test_output.detach().to(device), labels.float().to(device))\n",
    "    test_losses.append(loss.item())\n",
    "    \n",
    "    preds = torch.round(test_output.squeeze())\n",
    "    correct_tensor = preds.eq(labels.float().view_as(preds).to(device))\n",
    "    correct = np.squeeze(correct_tensor.cpu().detach().numpy())\n",
    "    num_correct += np.sum(correct)\n",
    "    \n",
    "print(\"Test Loss: {:.4f}\".format(np.mean(test_losses)))\n",
    "print(\"Test Accuracy: {:.2f}\".format(num_correct/len(test_loader.dataset)))"
   ]
  },
  {
   "cell_type": "code",
   "execution_count": 12,
   "metadata": {},
   "outputs": [
    {
     "name": "stdout",
     "output_type": "stream",
     "text": [
      "219\n",
      "248\n",
      "4665\n",
      "2469\n"
     ]
    }
   ],
   "source": [
    "print(len(test_y) - np.sum(test_y))\n",
    "print(np.sum(test_y))\n",
    "print(len(encoded_labels))\n",
    "print(np.sum(encoded_labels))"
   ]
  },
  {
   "cell_type": "code",
   "execution_count": null,
   "metadata": {},
   "outputs": [],
   "source": []
  }
 ],
 "metadata": {
  "kernelspec": {
   "display_name": "Python 3",
   "language": "python",
   "name": "python3"
  },
  "language_info": {
   "codemirror_mode": {
    "name": "ipython",
    "version": 3
   },
   "file_extension": ".py",
   "mimetype": "text/x-python",
   "name": "python",
   "nbconvert_exporter": "python",
   "pygments_lexer": "ipython3",
   "version": "3.8.5"
  }
 },
 "nbformat": 4,
 "nbformat_minor": 4
}
