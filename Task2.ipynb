{
 "cells": [
  {
   "cell_type": "code",
   "execution_count": 1,
   "metadata": {},
   "outputs": [
    {
     "name": "stdout",
     "output_type": "stream",
     "text": [
      "Done\n"
     ]
    }
   ],
   "source": [
    "# Imports\n",
    "import numpy as np\n",
    "import pandas as pd\n",
    "import nltk\n",
    "from nltk.corpus import stopwords\n",
    "import torch as torch\n",
    "from torch import nn\n",
    "from nltk.tokenize import word_tokenize\n",
    "import math as mt\n",
    "import time\n",
    "import random\n",
    "from joblib import Parallel, delayed\n",
    "from torch.autograd import Variable\n",
    "import matplotlib.pyplot as plt\n",
    "import torch.utils.data as data_utils\n",
    "from torch.utils.data import TensorDataset, DataLoader\n",
    "from sklearn.utils import shuffle\n",
    "import helper\n",
    "print(\"Done\")"
   ]
  },
  {
   "cell_type": "markdown",
   "metadata": {},
   "source": [
    "# Task 2.1: Classifier on Hindi Data"
   ]
  },
  {
   "cell_type": "code",
   "execution_count": 2,
   "metadata": {},
   "outputs": [
    {
     "name": "stdout",
     "output_type": "stream",
     "text": [
      "Done cuda:0\n"
     ]
    }
   ],
   "source": [
    "# Reading Hindi Data\n",
    "\n",
    "if torch.cuda.is_available():\n",
    "    device = \"cuda:0\"#\"cuda:0\"\n",
    "else:\n",
    "    device = \"cpu\"\n",
    "    \n",
    "url = 'data/hindi_hatespeech.tsv'\n",
    "data = pd.read_csv(url, sep='\\t')\n",
    "    \n",
    "data_development = shuffle(data)\n",
    "labels = data_development['task_2']\n",
    "type(data_development['task_1'])\n",
    "\n",
    "print(\"Done\", device)"
   ]
  },
  {
   "cell_type": "code",
   "execution_count": 3,
   "metadata": {},
   "outputs": [
    {
     "name": "stdout",
     "output_type": "stream",
     "text": [
      "Number of sentences:  4665\n",
      "Total words: 141550\n",
      "Unique words: 19836\n"
     ]
    }
   ],
   "source": [
    "#Removing stop words\n",
    "sentences = helper.apply_stopword_removal(data_development)\n",
    "print(\"Number of sentences: \" , len(sentences))\n",
    "\n",
    "#Building Vocabulary\n",
    "V, non_unique = helper.build_vocabulary(sentences)\n",
    "print('Total words:', len(non_unique))\n",
    "print('Unique words:', len(V))\n",
    "\n",
    "embedding_size = 640"
   ]
  },
  {
   "cell_type": "code",
   "execution_count": 4,
   "metadata": {},
   "outputs": [
    {
     "name": "stdout",
     "output_type": "stream",
     "text": [
      "Word2Vec(\n",
      "  (fc1): Linear(in_features=19836, out_features=640, bias=True)\n",
      "  (fc2): Linear(in_features=640, out_features=19836, bias=True)\n",
      ")\n",
      "torch.Size([19837, 640]) torch.Size([640, 19836])\n"
     ]
    }
   ],
   "source": [
    "#Load Word2Vec Hindi embeddings module\n",
    "weights1, weights2 = helper.load_word2vec_embeddings('model_param_hindi', device, len(V), embedding_size)\n",
    "#weights1 contain the trained embedding weights from task1\n",
    "\n",
    "print(weights1.shape, weights2.shape)"
   ]
  },
  {
   "cell_type": "markdown",
   "metadata": {},
   "source": [
    "### Create Dataset"
   ]
  },
  {
   "cell_type": "code",
   "execution_count": 5,
   "metadata": {},
   "outputs": [
    {
     "name": "stdout",
     "output_type": "stream",
     "text": [
      "(4665, 132)\n",
      "(4665,)\n"
     ]
    }
   ],
   "source": [
    "## create number array of sentences (replace each word with each numeric value)\n",
    "x_data, max_len_curr = helper.sentence_to_numeric_arr(sentences, V)\n",
    "\n",
    "## apply padding\n",
    "padded = np.array(helper.padding(x_data, max_len_curr))\n",
    "\n",
    "print(\"Padded Data Shape: \", padded.shape)\n",
    "encoded_labels = [0 if label == \"NONE\" else 1 for label in labels]\n",
    "encoded_labels = np.array(encoded_labels)\n",
    "print(\"Encoded Labels Shape: \",encoded_labels.shape)"
   ]
  },
  {
   "cell_type": "code",
   "execution_count": 6,
   "metadata": {},
   "outputs": [
    {
     "name": "stdout",
     "output_type": "stream",
     "text": [
      "<class 'numpy.ndarray'> <class 'numpy.ndarray'>\n",
      "<class 'numpy.ndarray'> <class 'numpy.ndarray'>\n",
      "Done\n"
     ]
    }
   ],
   "source": [
    "#split data into train & test set\n",
    "batch_size = 64\n",
    "train_loader, test_loader = helper.split_data_train_valid_test(padded, encoded_labels, batch_size)\n",
    "print(\"Done\")"
   ]
  },
  {
   "cell_type": "markdown",
   "metadata": {},
   "source": [
    "## Training Hindi Classfier"
   ]
  },
  {
   "cell_type": "code",
   "execution_count": 11,
   "metadata": {},
   "outputs": [
    {
     "name": "stderr",
     "output_type": "stream",
     "text": [
      "<ipython-input-11-a059db8f6bec>:20: UserWarning: torch.nn.utils.clip_grad_norm is now deprecated in favor of torch.nn.utils.clip_grad_norm_.\n",
      "  nn.utils.clip_grad_norm(net.parameters(), clip)\n"
     ]
    },
    {
     "name": "stdout",
     "output_type": "stream",
     "text": [
      "Epoch: 1/80 Training Loss: 0.6884\n",
      "Epoch: 2/80 Training Loss: 0.6523\n",
      "Epoch: 3/80 Training Loss: 0.5728\n",
      "Epoch: 4/80 Training Loss: 0.5057\n",
      "Epoch: 5/80 Training Loss: 0.4309\n",
      "Epoch: 6/80 Training Loss: 0.3551\n",
      "Epoch: 7/80 Training Loss: 0.2829\n",
      "Epoch: 8/80 Training Loss: 0.2376\n",
      "Epoch: 9/80 Training Loss: 0.1898\n",
      "Epoch: 10/80 Training Loss: 0.1467\n",
      "Epoch: 11/80 Training Loss: 0.1085\n",
      "Epoch: 12/80 Training Loss: 0.0862\n",
      "Epoch: 13/80 Training Loss: 0.0702\n",
      "Epoch: 14/80 Training Loss: 0.0885\n",
      "Epoch: 15/80 Training Loss: 0.0688\n",
      "Epoch: 16/80 Training Loss: 0.0534\n",
      "Epoch: 17/80 Training Loss: 0.0515\n",
      "Epoch: 18/80 Training Loss: 0.0378\n",
      "Epoch: 19/80 Training Loss: 0.0364\n",
      "Epoch: 20/80 Training Loss: 0.0472\n",
      "Epoch: 21/80 Training Loss: 0.0399\n",
      "Epoch: 22/80 Training Loss: 0.0334\n",
      "Epoch: 23/80 Training Loss: 0.0356\n",
      "Epoch: 24/80 Training Loss: 0.0238\n",
      "Epoch: 25/80 Training Loss: 0.0256\n",
      "Epoch: 26/80 Training Loss: 0.0298\n",
      "Epoch: 27/80 Training Loss: 0.0231\n",
      "Epoch: 28/80 Training Loss: 0.0204\n",
      "Epoch: 29/80 Training Loss: 0.0165\n",
      "Epoch: 30/80 Training Loss: 0.0240\n",
      "Epoch: 31/80 Training Loss: 0.0172\n",
      "Epoch: 32/80 Training Loss: 0.0154\n",
      "Epoch: 33/80 Training Loss: 0.0133\n",
      "Epoch: 34/80 Training Loss: 0.0117\n",
      "Epoch: 35/80 Training Loss: 0.0142\n",
      "Epoch: 36/80 Training Loss: 0.0156\n",
      "Epoch: 37/80 Training Loss: 0.0113\n",
      "Epoch: 38/80 Training Loss: 0.0097\n",
      "Epoch: 39/80 Training Loss: 0.0122\n",
      "Epoch: 40/80 Training Loss: 0.0102\n",
      "Epoch: 41/80 Training Loss: 0.0084\n",
      "Epoch: 42/80 Training Loss: 0.0193\n",
      "Epoch: 43/80 Training Loss: 0.0208\n",
      "Epoch: 44/80 Training Loss: 0.0150\n",
      "Epoch: 45/80 Training Loss: 0.0202\n",
      "Epoch: 46/80 Training Loss: 0.0190\n",
      "Epoch: 47/80 Training Loss: 0.0250\n",
      "Epoch: 48/80 Training Loss: 0.0255\n",
      "Epoch: 49/80 Training Loss: 0.0310\n",
      "Epoch: 50/80 Training Loss: 0.0202\n",
      "Epoch: 51/80 Training Loss: 0.0120\n",
      "Epoch: 52/80 Training Loss: 0.0109\n",
      "Epoch: 53/80 Training Loss: 0.0059\n",
      "Epoch: 54/80 Training Loss: 0.0060\n",
      "Epoch: 55/80 Training Loss: 0.0057\n",
      "Epoch: 56/80 Training Loss: 0.0078\n",
      "Epoch: 57/80 Training Loss: 0.0079\n",
      "Epoch: 58/80 Training Loss: 0.0069\n",
      "Epoch: 59/80 Training Loss: 0.0050\n",
      "Epoch: 60/80 Training Loss: 0.0033\n",
      "Epoch: 61/80 Training Loss: 0.0032\n",
      "Epoch: 62/80 Training Loss: 0.0040\n",
      "Epoch: 63/80 Training Loss: 0.0043\n",
      "Epoch: 64/80 Training Loss: 0.0053\n",
      "Epoch: 65/80 Training Loss: 0.0050\n",
      "Epoch: 66/80 Training Loss: 0.0055\n",
      "Epoch: 67/80 Training Loss: 0.0031\n",
      "Epoch: 68/80 Training Loss: 0.0035\n",
      "Epoch: 69/80 Training Loss: 0.0027\n",
      "Epoch: 70/80 Training Loss: 0.0035\n",
      "Epoch: 71/80 Training Loss: 0.0023\n",
      "Epoch: 72/80 Training Loss: 0.0027\n",
      "Epoch: 73/80 Training Loss: 0.0027\n",
      "Epoch: 74/80 Training Loss: 0.0024\n",
      "Epoch: 75/80 Training Loss: 0.0044\n",
      "Epoch: 76/80 Training Loss: 0.0025\n",
      "Epoch: 77/80 Training Loss: 0.0028\n",
      "Epoch: 78/80 Training Loss: 0.0035\n",
      "Epoch: 79/80 Training Loss: 0.0077\n",
      "Epoch: 80/80 Training Loss: 0.0204\n",
      "Done\n"
     ]
    },
    {
     "data": {
      "image/png": "[encoded data removed]",
      "text/plain": [
       "<Figure size 432x288 with 1 Axes>"
      ]
     },
     "metadata": {
      "needs_background": "light"
     },
     "output_type": "display_data"
    }
   ],
   "source": [
    "# Initialize LSTM Model\n",
    "net, criterion= helper.initialize_SentimentLSTM_model(len(V) + 1, embedding_size, 32, 1, 2, device, weights1)\n",
    "\n",
    "learning_rate = 0.001\n",
    "optimizer = torch.optim.Adam(net.parameters(), lr = learning_rate, amsgrad=True)\n",
    "print_every = 100\n",
    "step = 0\n",
    "n_epochs = 80\n",
    "clip = 5\n",
    "\n",
    "training_loss_epoches = []\n",
    "for epoch in range(n_epochs):\n",
    "    h = net.init_hidden(batch_size, device)\n",
    "    training_loss = []\n",
    "    for i, (inputs, labels) in enumerate(train_loader):\n",
    "        step += 1\n",
    "        inputs, labels = inputs.to(device), labels.to(device)\n",
    "        h = tuple([each.data for each in h])\n",
    "        net.zero_grad()\n",
    "        output, h = net(inputs, batch_size)\n",
    "        loss = criterion(output.squeeze(), labels.float())\n",
    "        loss.backward()\n",
    "        training_loss.append(loss.item())\n",
    "        nn.utils.clip_grad_norm(net.parameters(), clip)\n",
    "        optimizer.step()\n",
    "    training_loss_epoches.append(np.mean(training_loss))\n",
    "    print(\"Epoch: {}/{}\".format((epoch+1), n_epochs),\n",
    "          \"Training Loss: {:.4f}\".format(np.mean(training_loss)))\n",
    "plt.plot(np.linspace(1, len(training_loss_epoches), len(training_loss_epoches)).astype(int), training_loss_epoches)\n",
    "plt.savefig('Task2_hindi.png')\n",
    "print(\"Done\")"
   ]
  },
  {
   "cell_type": "markdown",
   "metadata": {},
   "source": [
    "## Testing Hindi Classifier"
   ]
  },
  {
   "cell_type": "code",
   "execution_count": 12,
   "metadata": {},
   "outputs": [
    {
     "name": "stdout",
     "output_type": "stream",
     "text": [
      "Test Loss: 1.7563\n",
      "Test Accuracy: 0.71\n"
     ]
    }
   ],
   "source": [
    "net.eval()\n",
    "test_losses = []\n",
    "num_correct = 0\n",
    "test_h = net.init_hidden(batch_size, device)\n",
    "\n",
    "for i, (inputs, labels) in enumerate(test_loader):\n",
    "    test_h = tuple([each.data for each in test_h])\n",
    "    try:\n",
    "        test_output, test_h = net(inputs.to(device), batch_size)\n",
    "    except IndexError:\n",
    "        print(inputs)\n",
    "    loss = criterion(test_output.detach().to(device), labels.float().to(device))\n",
    "    test_losses.append(loss.item())\n",
    "    \n",
    "    preds = torch.round(test_output.squeeze())\n",
    "    correct_tensor = preds.eq(labels.float().view_as(preds).to(device))\n",
    "    correct = np.squeeze(correct_tensor.cpu().detach().numpy())\n",
    "    num_correct += np.sum(correct)\n",
    "    \n",
    "print(\"Test Loss: {:.4f}\".format(np.mean(test_losses)))\n",
    "print(\"Test Accuracy: {:.2f}\".format(num_correct/len(test_loader.dataset)))"
   ]
  },
  {
   "cell_type": "markdown",
   "metadata": {},
   "source": [
    "# Task 2.2: Testing Bengali Data on Hindi Classifier (Transfer Learning)"
   ]
  },
  {
   "cell_type": "code",
   "execution_count": 9,
   "metadata": {},
   "outputs": [
    {
     "name": "stdout",
     "output_type": "stream",
     "text": [
      "(4665, 3) (4665,)\n"
     ]
    }
   ],
   "source": [
    "#Reading Bengali data\n",
    "bengali_data, labels = helper.get_bengali_data('data/bengali_hatespeech.csv')\n",
    "# print(bengali_data)\n",
    "print(bengali_data.shape, labels.shape)\n",
    "\n",
    "## Stopwords Removal of Bengali Data\n",
    "bengali_sentences = helper.apply_stopword_removal(bengali_data)\n",
    "print(\"Number of sentences: \" , len(bengali_sentences))\n",
    "\n",
    "## Building Vocabulary\n",
    "bengali_V, bengali_non_unique = helper.build_vocabulary(bengali_sentences)\n",
    "print('Total words:', len(bengali_non_unique))\n",
    "print('Unique words:', len(bengali_V))\n",
    "\n",
    "## Sentence to numeric array\n",
    "x_data_bengali, max_len_curr = helper.sentence_to_numeric_arr(bengali_sentences, bengali_V)\n",
    "\n",
    "## Apply Padding\n",
    "padded = np.array(helper.padding(x_data_bengali, max_len_curr))\n",
    "\n",
    "## Splitting data into train and test\n",
    "train_loader, test_loader = helper.split_data_train_valid_test(padded, labels, 64)\n",
    "\n",
    "print(\"Done\")"
   ]
  },
  {
   "cell_type": "markdown",
   "metadata": {},
   "source": [
    "### Training Classifier on Bengali data with trained Hindi embeddings (Transfer Learning)"
   ]
  },
  {
   "cell_type": "code",
   "execution_count": 16,
   "metadata": {},
   "outputs": [
    {
     "name": "stderr",
     "output_type": "stream",
     "text": [
      "<ipython-input-16-66faedab04df>:23: UserWarning: torch.nn.utils.clip_grad_norm is now deprecated in favor of torch.nn.utils.clip_grad_norm_.\n",
      "  nn.utils.clip_grad_norm(net.parameters(), clip)\n"
     ]
    },
    {
     "name": "stdout",
     "output_type": "stream",
     "text": [
      "Epoch: 1/20 Training Loss: 0.6856\n",
      "Epoch: 2/20 Training Loss: 0.4768\n",
      "Epoch: 3/20 Training Loss: 0.2224\n",
      "Epoch: 4/20 Training Loss: 0.1052\n",
      "Epoch: 5/20 Training Loss: 0.0654\n",
      "Epoch: 6/20 Training Loss: 0.0454\n",
      "Epoch: 7/20 Training Loss: 0.0296\n",
      "Epoch: 8/20 Training Loss: 0.0278\n",
      "Epoch: 9/20 Training Loss: 0.0226\n",
      "Epoch: 10/20 Training Loss: 0.0231\n",
      "Epoch: 11/20 Training Loss: 0.0257\n",
      "Epoch: 12/20 Training Loss: 0.0147\n",
      "Epoch: 13/20 Training Loss: 0.0105\n",
      "Epoch: 14/20 Training Loss: 0.0099\n",
      "Epoch: 15/20 Training Loss: 0.0061\n",
      "Epoch: 16/20 Training Loss: 0.0061\n",
      "Epoch: 17/20 Training Loss: 0.0068\n",
      "Epoch: 18/20 Training Loss: 0.0048\n",
      "Epoch: 19/20 Training Loss: 0.0055\n",
      "Epoch: 20/20 Training Loss: 0.0039\n",
      "Done\n"
     ]
    },
    {
     "data": {
      "image/png": "[encoded data removed]",
      "text/plain": [
       "<Figure size 432x288 with 1 Axes>"
      ]
     },
     "metadata": {
      "needs_background": "light"
     },
     "output_type": "display_data"
    }
   ],
   "source": [
    "net, criterion= helper.initialize_SentimentLSTM_model_bengali(len(V) + 1, embedding_size, 32, 1, 2, device, weights1)\n",
    "\n",
    "optimizer = torch.optim.Adam(net.parameters(), lr = learning_rate, amsgrad=True)\n",
    "print_every = 100\n",
    "step = 0\n",
    "n_epochs = 20\n",
    "clip = 5\n",
    "\n",
    "training_loss_epoches = []\n",
    "for epoch in range(n_epochs):\n",
    "    h = net.init_hidden(batch_size, device)\n",
    "    training_loss = []\n",
    "    for i, (inputs, labels) in enumerate(train_loader):\n",
    "        step += 1\n",
    "        inputs, labels = inputs.to(device), labels.to(device)\n",
    "        h = tuple([each.data for each in h])   \n",
    "        \n",
    "        net.zero_grad()\n",
    "        output, h = net(inputs, batch_size)\n",
    "        loss = criterion(output.squeeze(), labels.float())\n",
    "        loss.backward()\n",
    "        training_loss.append(loss.item())\n",
    "        nn.utils.clip_grad_norm(net.parameters(), clip)\n",
    "        optimizer.step()\n",
    "    training_loss_epoches.append(np.mean(training_loss))\n",
    "    print(\"Epoch: {}/{}\".format((epoch+1), n_epochs),\n",
    "          \"Training Loss: {:.4f}\".format(np.mean(training_loss)))\n",
    "plt.plot(np.linspace(1, len(training_loss_epoches), len(training_loss_epoches)).astype(int), training_loss_epoches)\n",
    "plt.savefig('Task2_transferlearning.png')    \n",
    "print(\"Done\")"
   ]
  },
  {
   "cell_type": "markdown",
   "metadata": {},
   "source": [
    "### Testing Classifier"
   ]
  },
  {
   "cell_type": "code",
   "execution_count": 17,
   "metadata": {},
   "outputs": [
    {
     "name": "stdout",
     "output_type": "stream",
     "text": [
      "Test Loss: 1.4164\n",
      "Test Accuracy: 0.75\n"
     ]
    }
   ],
   "source": [
    "net.eval()\n",
    "\n",
    "test_losses = []\n",
    "num_correct = 0\n",
    "test_h = net.init_hidden(batch_size, device)\n",
    "\n",
    "for i, (inputs, labels) in enumerate(test_loader):\n",
    "    test_h = tuple([each.data for each in test_h])\n",
    "    try:\n",
    "        test_output, test_h = net(inputs.to(device), batch_size)\n",
    "    except IndexError:\n",
    "        print(inputs)\n",
    "    loss = criterion(test_output.detach().to(device), labels.float().to(device))\n",
    "    test_losses.append(loss.item())\n",
    "    \n",
    "    preds = torch.round(test_output.squeeze())\n",
    "    correct_tensor = preds.eq(labels.float().view_as(preds).to(device))\n",
    "    correct = np.squeeze(correct_tensor.cpu().detach().numpy())\n",
    "    num_correct += np.sum(correct)\n",
    "    \n",
    "print(\"Test Loss: {:.4f}\".format(np.mean(test_losses)))\n",
    "print(\"Test Accuracy: {:.2f}\".format(num_correct/len(test_loader.dataset)))"
   ]
  },
  {
   "cell_type": "markdown",
   "metadata": {},
   "source": [
    "# Task 2.3: Training classifier on Bengali embeddings"
   ]
  },
  {
   "cell_type": "code",
   "execution_count": null,
   "metadata": {},
   "outputs": [],
   "source": [
    "#Reading Bengali Data\n",
    "bengali_data = pd.read_csv('data/bengali_hatespeech.csv')\n",
    "\n",
    "bengali_data_hate = bengali_data.loc[bengali_data['hate'] == 1]\n",
    "bengali_data_not_hate = bengali_data.loc[bengali_data['hate'] == 0]\n",
    "\n",
    "bengali_data_hate = bengali_data_hate.iloc[0:2332] \n",
    "bengali_data_not_hate = bengali_data_not_hate.iloc[0:2333]\n",
    "\n",
    "data_development = pd.concat([bengali_data_hate, bengali_data_not_hate])\n",
    "data_development = shuffle(data_development)\n",
    "data_development.columns = [\"text\", \"hate\", \"category\"]\n",
    "\n",
    "labels = data_development['hate']\n",
    "labels = np.array(labels)\n",
    "\n",
    "#Removing stop words\n",
    "sentences = helper.apply_stopword_removal(data_development)\n",
    "print(\"Number of sentences: \" , len(sentences))\n",
    "\n",
    "#Building Vocabulary\n",
    "V, non_unique = helper.build_vocabulary(sentences)\n",
    "print('Total words:', len(non_unique))\n",
    "print('Unique words:', len(V))"
   ]
  },
  {
   "cell_type": "code",
   "execution_count": null,
   "metadata": {},
   "outputs": [],
   "source": [
    "# Hyperparameters\n",
    "window_size = 4\n",
    "embedding_size = 640\n",
    "learning_rate = 0.001\n",
    "epochs =100"
   ]
  },
  {
   "cell_type": "code",
   "execution_count": null,
   "metadata": {},
   "outputs": [],
   "source": [
    "# Create model \n",
    "\n",
    "class Word2Vec(nn.Module):\n",
    "    def __init__(self, features, embedding_size):\n",
    "        super().__init__()\n",
    "        self.fc1 = nn.Linear(features, embedding_size)\n",
    "        self.fc2 = nn.Linear(embedding_size, features)\n",
    "\n",
    "\n",
    "    def forward(self, one_hot):\n",
    "        x = self.fc1(one_hot.float())\n",
    "        x = self.fc2(x)\n",
    "        log_softmax = torch.nn.functional.log_softmax(x, dim=1)\n",
    "        return log_softmax\n",
    "\n",
    "print(\"Done\")"
   ]
  },
  {
   "cell_type": "code",
   "execution_count": null,
   "metadata": {},
   "outputs": [],
   "source": [
    "#Creating target, context tuple\n",
    "x_train, y_train = helper.create_dataset(sentences, non_unique, V, window_size)\n",
    "print(x_train.shape)"
   ]
  },
  {
   "cell_type": "code",
   "execution_count": null,
   "metadata": {},
   "outputs": [],
   "source": [
    "x_train = np.load('x_train_bengali.npy')\n",
    "y_train = np.load('y_train_bengali.npy')"
   ]
  },
  {
   "cell_type": "code",
   "execution_count": null,
   "metadata": {},
   "outputs": [],
   "source": [
    "batch_size = 1000\n",
    "x_train = torch.from_numpy(x_train)\n",
    "y_train = torch.from_numpy(y_train)\n",
    "x_train = data_utils.TensorDataset(x_train, y_train)\n",
    "train_dl = DataLoader(x_train, batch_size=batch_size, shuffle=True)\n",
    "features = len(V)\n",
    "total_rows = len(y_train)\n",
    "print(total_rows)"
   ]
  },
  {
   "cell_type": "markdown",
   "metadata": {},
   "source": [
    "### Training Bengali Embeddings"
   ]
  },
  {
   "cell_type": "code",
   "execution_count": null,
   "metadata": {},
   "outputs": [],
   "source": [
    "# Define optimizer and loss\n",
    "net = Word2Vec(len(V), embedding_size)\n",
    "net.to(dev)\n",
    "optimizer = torch.optim.Adam(net.parameters(), lr=0.01)\n",
    "criterion = nn.NLLLoss()\n",
    "\n",
    "def train():\n",
    "    print(\"Started:\")\n",
    "    loss_vals=  []\n",
    "    for e in range(epochs):\n",
    "        epoch_loss= []\n",
    "        for i, (X_batch, y_batch) in enumerate(train_dl):\n",
    "            X_batch = np.eye(len(V))[X_batch]\n",
    "            y_batch = np.eye(len(V))[y_batch]\n",
    "            X_batch = torch.Tensor(X_batch).to(dev)\n",
    "            y_batch = torch.Tensor(y_batch).to(dev)\n",
    "            y_pred_torch = net(X_batch)\n",
    "            loss = criterion(y_pred_torch, torch.max(torch.tensor(y_batch), 1)[1])\n",
    "            optimizer.zero_grad()\n",
    "            loss.backward()\n",
    "            epoch_loss.append(loss.item())\n",
    "            optimizer.step()\n",
    "        loss_vals.append(sum(epoch_loss)/len(epoch_loss))\n",
    "        print('Epoch:', e,'\\tLoss:',loss_vals[e])\n",
    "#         break\n",
    "    plt.plot(np.linspace(1, epochs, epochs).astype(int), loss_vals)\n",
    "    plt.savefig('Task1_benali.png')\n",
    "    torch.save(net.state_dict(), 'model_param_bengali')\n",
    "train()\n",
    "\n",
    "print(\"Training finished\")"
   ]
  },
  {
   "cell_type": "code",
   "execution_count": 12,
   "metadata": {},
   "outputs": [
    {
     "name": "stdout",
     "output_type": "stream",
     "text": [
      "Word2Vec(\n",
      "  (fc1): Linear(in_features=14482, out_features=640, bias=True)\n",
      "  (fc2): Linear(in_features=640, out_features=14482, bias=True)\n",
      ")\n",
      "torch.Size([14483, 640]) torch.Size([640, 14482])\n"
     ]
    }
   ],
   "source": [
    "#Load Word2Vec embeddings module\n",
    "weights1, weights2 = helper.load_word2vec_embeddings('model_param_bengali', device, len(bengali_V), embedding_size)\n",
    "#weights1 contain the trained embedding weights from task1\n",
    "print(weights1.shape, weights2.shape)"
   ]
  },
  {
   "cell_type": "markdown",
   "metadata": {},
   "source": [
    "### Training Classifier"
   ]
  },
  {
   "cell_type": "code",
   "execution_count": 24,
   "metadata": {},
   "outputs": [
    {
     "name": "stderr",
     "output_type": "stream",
     "text": [
      "<ipython-input-24-67b170ed25d8>:23: UserWarning: torch.nn.utils.clip_grad_norm is now deprecated in favor of torch.nn.utils.clip_grad_norm_.\n",
      "  nn.utils.clip_grad_norm(net.parameters(), clip)\n"
     ]
    },
    {
     "name": "stdout",
     "output_type": "stream",
     "text": [
      "Epoch: 1/30 Training Loss: 0.6930\n",
      "Epoch: 2/30 Training Loss: 0.6671\n",
      "Epoch: 3/30 Training Loss: 0.5985\n",
      "Epoch: 4/30 Training Loss: 0.5194\n",
      "Epoch: 5/30 Training Loss: 0.4552\n",
      "Epoch: 6/30 Training Loss: 0.4153\n",
      "Epoch: 7/30 Training Loss: 0.3673\n",
      "Epoch: 8/30 Training Loss: 0.3184\n",
      "Epoch: 9/30 Training Loss: 0.2733\n",
      "Epoch: 10/30 Training Loss: 0.2336\n",
      "Epoch: 11/30 Training Loss: 0.2108\n",
      "Epoch: 12/30 Training Loss: 0.1895\n",
      "Epoch: 13/30 Training Loss: 0.1757\n",
      "Epoch: 14/30 Training Loss: 0.1628\n",
      "Epoch: 15/30 Training Loss: 0.1282\n",
      "Epoch: 16/30 Training Loss: 0.1196\n",
      "Epoch: 17/30 Training Loss: 0.1142\n",
      "Epoch: 18/30 Training Loss: 0.1006\n",
      "Epoch: 19/30 Training Loss: 0.1010\n",
      "Epoch: 20/30 Training Loss: 0.0818\n",
      "Epoch: 21/30 Training Loss: 0.0694\n",
      "Epoch: 22/30 Training Loss: 0.0808\n",
      "Epoch: 23/30 Training Loss: 0.0750\n",
      "Epoch: 24/30 Training Loss: 0.0719\n",
      "Epoch: 25/30 Training Loss: 0.0583\n",
      "Epoch: 26/30 Training Loss: 0.0746\n",
      "Epoch: 27/30 Training Loss: 0.0597\n",
      "Epoch: 28/30 Training Loss: 0.0562\n",
      "Epoch: 29/30 Training Loss: 0.0619\n",
      "Epoch: 30/30 Training Loss: 0.0454\n",
      "Done\n"
     ]
    },
    {
     "data": {
      "image/png": "[encoded data removed]",
      "text/plain": [
       "<Figure size 432x288 with 1 Axes>"
      ]
     },
     "metadata": {
      "needs_background": "light"
     },
     "output_type": "display_data"
    }
   ],
   "source": [
    "net, criterion = helper.initialize_SentimentLSTM_model(len(bengali_V) + 1, embedding_size, 32, 1, 2, device, weights1)\n",
    "\n",
    "optimizer = torch.optim.Adam(net.parameters(), lr = learning_rate, amsgrad=True)\n",
    "print_every = 100\n",
    "step = 0\n",
    "n_epochs = 30\n",
    "clip = 5\n",
    "\n",
    "\n",
    "training_loss_epoches = []\n",
    "for epoch in range(n_epochs):\n",
    "    h = net.init_hidden(batch_size, device)\n",
    "    training_loss = []\n",
    "    for i, (inputs, labels) in enumerate(train_loader):\n",
    "        step += 1\n",
    "        inputs, labels = inputs.to(device), labels.to(device)\n",
    "        h = tuple([each.data for each in h])   \n",
    "        \n",
    "        net.zero_grad()\n",
    "        output, h = net(inputs, batch_size)\n",
    "        loss = criterion(output.squeeze(), labels.float())\n",
    "        loss.backward()\n",
    "        training_loss.append(loss.item())\n",
    "        nn.utils.clip_grad_norm(net.parameters(), clip)\n",
    "        optimizer.step()\n",
    "    training_loss_epoches.append(np.mean(training_loss))\n",
    "    print(\"Epoch: {}/{}\".format((epoch+1), n_epochs),\n",
    "          \"Training Loss: {:.4f}\".format(np.mean(training_loss)))\n",
    "plt.plot(np.linspace(1, len(training_loss_epoches), len(training_loss_epoches)).astype(int), training_loss_epoches)\n",
    "plt.savefig('Task2_bengali.png')   \n",
    "print(\"Done\")"
   ]
  },
  {
   "cell_type": "markdown",
   "metadata": {},
   "source": [
    "### Testing Classifier"
   ]
  },
  {
   "cell_type": "code",
   "execution_count": 25,
   "metadata": {},
   "outputs": [
    {
     "name": "stdout",
     "output_type": "stream",
     "text": [
      "Test Loss: 1.2797\n",
      "Test Accuracy: 0.73\n"
     ]
    }
   ],
   "source": [
    "net.eval()\n",
    "test_losses = []\n",
    "num_correct = 0\n",
    "test_h = net.init_hidden(batch_size, device)\n",
    "\n",
    "for i, (inputs, labels) in enumerate(test_loader):\n",
    "    test_h = tuple([each.data for each in test_h])\n",
    "    try:\n",
    "        test_output, test_h = net(inputs.to(device), batch_size)\n",
    "    except IndexError:\n",
    "        print(inputs)\n",
    "#     print(labels.dtype, test_output.dtype)\n",
    "#     print(inputs)\n",
    "    loss = criterion(test_output.detach().to(device), labels.float().to(device))\n",
    "    test_losses.append(loss.item())\n",
    "    \n",
    "    preds = torch.round(test_output.squeeze())\n",
    "    \n",
    "    \n",
    "    correct_tensor = preds.eq(labels.float().view_as(preds).to(device))\n",
    "    correct = np.squeeze(correct_tensor.cpu().detach().numpy())\n",
    "    num_correct += np.sum(correct)\n",
    "    \n",
    "print(\"Test Loss: {:.4f}\".format(np.mean(test_losses)))\n",
    "print(\"Test Accuracy: {:.2f}\".format(num_correct/len(test_loader.dataset)))"
   ]
  },
  {
   "cell_type": "markdown",
   "metadata": {},
   "source": [
    "## Hyperopt Implementation\n",
    "### Note: Hyperopt was used for the selection of the model."
   ]
  },
  {
   "cell_type": "code",
   "execution_count": null,
   "metadata": {},
   "outputs": [],
   "source": [
    "def train_hyperopt(space)\n",
    "    learning_rate = space['learning_rate']\n",
    "    n_epochs = space['epochs']\n",
    "    optimizer = torch.optim.Adam(net.parameters(), lr = learning_rate, amsgrad=True)\n",
    "    clip = 5  # for gradient clip to prevent exploding gradient problem in LSTM/RNN\n",
    "    # device = 'cuda' if torch.cuda.is_available() else 'cpu'\n",
    "\n",
    "\n",
    "    training_loss_epoches = []\n",
    "    for epoch in range(n_epochs):\n",
    "        h = net.init_hidden(batch_size, device)\n",
    "        training_loss = []\n",
    "        for i, (inputs, labels) in enumerate(train_loader):\n",
    "            inputs, labels = inputs.to(device), labels.to(device)\n",
    "            h = tuple([each.data for each in h])\n",
    "            net.zero_grad()\n",
    "            output, h = net(inputs, batch_size)\n",
    "            loss = criterion(output.squeeze(), labels.float())\n",
    "            loss.backward()\n",
    "            training_loss.append(loss.item())\n",
    "            nn.utils.clip_grad_norm(net.parameters(), clip)\n",
    "            optimizer.step()\n",
    "            \n",
    "    net.eval()\n",
    "    valid_losses = []\n",
    "    v_h = net.init_hidden(batch_size, device)\n",
    "\n",
    "    for v_inputs, v_labels in valid_loader:\n",
    "        v_inputs, v_labels = inputs.to(device), labels.to(device)\n",
    "\n",
    "        v_h = tuple([each.data for each in v_h])\n",
    "\n",
    "        v_output, v_h = net(v_inputs, batch_size)\n",
    "        v_loss = criterion(v_output.squeeze(), v_labels.float())\n",
    "        valid_losses.append(v_loss.item())\n",
    "        \n",
    "        np.mean(valid_losses)\n",
    "        return {'loss': np.mean(valid_losses), 'model': net, 'status': STATUS_OK}\n",
    "\n",
    "space = {\n",
    "        'learning_rate': hp.quniform('learning_rate', 0.001, 0.04, 0.005),\n",
    "        'epochs': hp.quniform('epochs', 20, 200, 20),\n",
    "        'train': train_loader,\n",
    "        'y_train': y_train.to_numpy(),\n",
    "        'val': val_loader}\n",
    "\n",
    "    trials = Trials()\n",
    "    best = fmin(fn=train_hyperopt,\n",
    "                space=space,\n",
    "                algo=tpe.suggest,\n",
    "                max_evals=int(max_evals),\n",
    "                trials=trials)"
   ]
  }
 ],
 "metadata": {
  "kernelspec": {
   "display_name": "Python 3",
   "language": "python",
   "name": "python3"
  },
  "language_info": {
   "codemirror_mode": {
    "name": "ipython",
    "version": 3
   },
   "file_extension": ".py",
   "mimetype": "text/x-python",
   "name": "python",
   "nbconvert_exporter": "python",
   "pygments_lexer": "ipython3",
   "version": "3.8.5"
  }
 },
 "nbformat": 4,
 "nbformat_minor": 4
}
