{
 "cells": [
  {
   "cell_type": "markdown",
   "metadata": {
    "id": "_VZXi_KGi0UR"
   },
   "source": [
    "# Task 1: Word Embeddings (10 points)\n",
    "\n",
    "This notebook will guide you through all steps necessary to train a word2vec model (Detailed description in the PDF)."
   ]
  },
  {
   "cell_type": "markdown",
   "metadata": {
    "id": "48t-II1vkuau"
   },
   "source": [
    "## Imports\n",
    "\n",
    "This code block is reserved for your imports. \n",
    "\n",
    "You are free to use the following packages: \n",
    "\n",
    "(List of packages)"
   ]
  },
  {
   "cell_type": "code",
   "execution_count": 11,
   "metadata": {
    "id": "4kh6nh84-AOL"
   },
   "outputs": [],
   "source": [
    "# Imports\n",
    "import numpy as np\n",
    "import pandas as pd\n",
    "import nltk\n",
    "from nltk.corpus import stopwords\n",
    "#nltk.download('stopwords')\n",
    "#nltk.download(\"punkt\")\n",
    "from nltk.tokenize import word_tokenize\n",
    "import math as mt"
   ]
  },
  {
   "cell_type": "markdown",
   "metadata": {
    "id": "NWmk3hVllEcU"
   },
   "source": [
    "# 1.1 Get the data (0.5 points)\n",
    "\n",
    "The Hindi portion HASOC corpus from [github.io](https://hasocfire.github.io/hasoc/2019/dataset.html) is already available in the repo, at data/hindi_hatespeech.tsv . Load it into a data structure of your choice. Then, split off a small part of the corpus as a development set (~100 data points).\n",
    "\n",
    "If you are using Colab the first two lines will let you upload folders or files from your local file system."
   ]
  },
  {
   "cell_type": "code",
   "execution_count": 12,
   "metadata": {
    "id": "XtI7DJ-0-AOP"
   },
   "outputs": [
    {
     "data": {
      "text/plain": [
       "pandas.core.series.Series"
      ]
     },
     "execution_count": 12,
     "metadata": {},
     "output_type": "execute_result"
    }
   ],
   "source": [
    "#TODO: implement!\n",
    "\n",
    "#from google.colab import files\n",
    "#uploaded = files.upload()\n",
    "\n",
    "data = pd.read_csv('data/hindi_hatespeech.tsv', sep='\\t')\n",
    "data_development = data[:100]\n",
    "type(data_development['task_1'])\n",
    "#len(data_development)\n",
    "#data_development"
   ]
  },
  {
   "cell_type": "code",
   "execution_count": 13,
   "metadata": {},
   "outputs": [
    {
     "data": {
      "text/plain": [
       "4"
      ]
     },
     "execution_count": 13,
     "metadata": {},
     "output_type": "execute_result"
    }
   ],
   "source": [
    "tt = 'ssss'\n",
    "len(tt)"
   ]
  },
  {
   "cell_type": "markdown",
   "metadata": {
    "id": "D-mSJ8nUlupB"
   },
   "source": [
    "## 1.2 Data preparation (0.5 + 0.5 points)\n",
    "\n",
    "* Prepare the data by removing everything that does not contain information. \n",
    "User names (starting with '@') and punctuation symbols clearly do not convey information, but we also want to get rid of so-called [stopwords](https://en.wikipedia.org/wiki/Stop_word), i. e. words that have little to no semantic content (and, but, yes, the...). Hindi stopwords can be found [here](https://github.com/stopwords-iso/stopwords-hi/blob/master/stopwords-hi.txt) Then, standardize the spelling by lowercasing all words.\n",
    "Do this for the development section of the corpus for now.\n",
    "\n",
    "* What about hashtags (starting with '#') and emojis? Should they be removed too? Justify your answer in the report, and explain how you accounted for this in your implementation."
   ]
  },
  {
   "cell_type": "code",
   "execution_count": 14,
   "metadata": {
    "id": "CHcNeyKi-AOQ"
   },
   "outputs": [
    {
     "name": "stdout",
     "output_type": "stream",
     "text": [
      "['बांग्लादेश की शानदार वापसी भारत को  रन पर रोका INDvBAN CWC', 'सब रंडी नाच देखने मे व्यस्त जैसे ही कोई शांतीदूत के साथ कुछ होगा सब रंडीरोना शुरू कर देंगे   ', 'तुम जैसे हरामियों के लिए बस जूतों की कमी है शुक्र कर अभी तुम्हारी लिंचिंग हुई नहीं है हिंदुओं के जागने की देर है सच में होगी अभी तो तुम जैसे हरामी सुवर ड्रामा बनाएं हो   सुवर कहीं का मौलाना।   तुम जैसे हरामियों कुत्ते की मौत मारना चाहिए सुवर जैसी शक्ल  रंडी की औलाद सुवर कहीं का ।।।।', 'बीजेपी MLA आकाश विजयवर्गीय जेल से रिहा जमानत मिलने की खुशी में एक समर्थक ने इंदौर में हर्ष फायरिंग की  AkashVijayvargiya  ', 'चमकी बुखार विधानसभा परिसर में आरजेडी का प्रदर्शन तेजस्वी यादव नदारद       रिपोर्ट ', 'मुंबई में बारिश से लोगों को काफी समस्या हो रही है', 'Ahmeds dad beta aaj teri mammy kyu nahi baat kr rhi h.   Ahmed ', ' लाख मुसलमान उर्स में अजमेर की दरगाह पर आते हैं सिर्फ  पुलिस वालों के भरोसे     लाख हिंदुओं की अमरनाथ यात्रा के लिए  हजार कमांडो पैरामिलिट्री फोर्स तथा करोड़ों के उपकरण लगाए जा रहे हैं    खतरे में कौन है ', 'Do mahashaktiyan mili hain charo taraf khusi ki leher hai khus hone wale khus hi rhe hain aur bhakton ko taklif ho rhi hai khair honi bhi chahiye.', 'Chants of Jai Sri Ram as Owaisi takes oath AIMIM chief responds with Jai Bhim ', 'नृत्य होगा  संगीत होगा  जीवन मे उत्सव होगा  वहआतुर है प्राणों में उतरने को  तुमहृदय दुवार तो खोलो  जगह तो खाली करो  हिंदी_शब्द', 'गाये के नाम पर जुल्म करने वालों तुम्हारी औकात है उन देश के दस बड़े गाये का मांस निर्यात करने वाले हिंदुओं से हिसाब लेने की', 'डॉ. मुखर्जी ने एक देश में दो विधान दो प्रधान और दो निशान का विरोध करते हुए कश्मीर को भारत का अभिन्न अंग मानकर परमिट राज को खत्म करने की लड़ाई लड़ी उनके बलिदान से ही परमिट राज खत्म हुआ श्री', 'धार्मिक पदों पर बैठे कुछ लोग अपने को भगवान समझ लेते हैंकुछ लोग नत मस्तक हो उन्हें भगवान का दर्जा दिलाने के लिए अपना समय बर्बाद करते हैं', 'सिक्का मोहब्बत का उछाल रक्खा है ~  हाँ मगर खुद को सम्भाल रक्खा है ||  अकेले तुम ही नही जो परेशान हो ~  उसने बहुतों को उलझन में डाल रक्खा है ||    ~ शाहरुख सिद्दीकी  shahrukhsiddiqui', 'कोन कहता है  आँखो में  प्यार नही होता।  जो डूब गया फिर उसमे से पार नही होता।    ये इश्क़ के  बाज़ार का दस्तूर है ज़माने में।  जो लूट गया वह कभी खरीदार नही होता।    नईम  बज़्म हिंदी_शब्द      ', 'वैसे शपथ के अंत में  जय भारतजय संविधान बोलना भी सभी के लिए अनिवार्य किया जा सकता हैं।', 'एक लंबे अंतराल के बाद आपके बीच MannKiBaat जनजन की बात जनमन की बात इसका हम सिलसिला जारी कर रहे हैं। चुनाव की आपाधापी में व्यस्तता तो ज्यादा थी लेकिन मन की बात का मजा ही गायब था एक कमी महसूस कर रहा था। हम  करोड़ देशवासियों के स्वजन के रूप में बातें करते थे पीएम जी ।', 'नीचसमानार्थी शब्द मोदी दिला तर चालेल की लै परफेक्ट बसलं', 'डॉक्टर की लिखी    दिन की दवा के बजाय  दिन की दवा ही लेना   एक आम भारतीय गुण है ', 'इस मादरचोद को धुण्डके गांड मे गोली मरो ', 'भारतीय रेल का सोमवार से बदल जाएगा टाइमटेबल ईस्टर्न सेंट्रल रेलवे ने इन ट्रेनों के समय में किया बदलाव', 'You cry in front of ur god  Of being deceived by the world    Some fine day u die  Reach hell    God tells you  You fucker or भोसडीके  no one deceived you more than urself. ', 'बस एक सवाल का जवाब चाहिए कि जिस चिटफंड घोटाले में जांच के आदेश  में आए उसमें पूछताछकार्रवाई  में क्यों शुरू हो रही है इसी सवाल में सब छुपा है। कौन सही कौन गलत पहचान लीजिए।     Follow करो ', 'नतीजे आने से पहले ज़िम्मेदारी मिलनी शुरू हो गयी है  केजरीवाल ने अपनी हार की ज़िम्मेदारी मुसलमानो को दे दिया ', 'क्लिक करें और पढ़ें इस स्मार्टफोन के बारे में', 'हद तो तब हो जाती हैं  जब आरक्षण का लाभ लेने वाले लोग ही आरक्षण के खिलाफ भोंकने लग जाते हैं', 'AIMIM National Spokesperson live on  AarPaar  ', 'हरि ॐ नमो नारायणा भजन सुनकर झूम उठा भक्तों का सैलाब.    hariom narayana radheradhe jaishrikrishna JaiShriRam kalyug ghanshyam kanhaiya  ', 'प्लीज कॉल मेरी जबरदस्ती चुदाई करो ना', 'ठोकरें खाता हूँ पर ‘शान’ से चलता हूँ मैं खुले आसमान के नीचे सीना तान के चलता हूँ मुश्किलें तो ‘साज़’ हैं जिंदगी का उठूंगा गिरूंगा फिर उठूंगा और आखिर में… जीतूंगा मैं ही ये ठान के चलता हूँ.आदरणीय अखिलेश यादव जिंदाबाद', 'CWC में भारत को पहली हार का सामना करना पड़ा। रोहित शर्मा का शतक और मोहम्मद शमी के  विकेट भी काम न आए और इंग्लैंड  रन से जीत गया', 'चाहे दिल्ली हो उत्तर प्रदेश मध्य प्रदेश या फिर राजस्थान। देश के हर कोने से नन्हें मासूमों के साथ हर रोज रेप हैवानियत की ख़बरें आ रही है लेकिन हमारे देश का कानून इतना नाकारा हैं कि अपराधियों के हौसले बुलंद हैं। सरकारें भी अपनी राजनीति के चक्कर में कोई कड़े फैसले नहीं ले रही हैं', 'अमित शाह से बाद में फिर तू पूछेगी यह क्या कर दिया   रंडी', 'sir ap se ak rquest h ak bar fir ap Mulayam ji ko aage kr de dekhey parti bhut aage jaygi', 'फूल की काँटों से दोस्ती बेमिसाल है  काँटे कितना दर्द फूलों को देते हैं  फिर भी फूल मुस्कुराते हुए खिलते हैं  काँटों को भी तो देखो  फूलों की रक्षा करते हैं  खुद दर्द सहकर फूलों को महफूज़ रखते हैं ।    आपकी_काँची  हिंदी_शब्द  शब्दनिधि', 'Question Hour in Rajya Sabha.  . संस्कृत महाविद्यालय । ', 'राजधानी दिल्ली में गर्मी का कहर जारी आज शाम हल्की बारिश की संभावना    rain  ', 'कुत्ते और मुर्गे आदि लड़वाने वालों बेज़ुबान जानवरों से भी बद तरीन और लानती हैवान नुमा इंसान है जो दुनिया के चंद सिक्कों के लिए यह घिनौनी काम करते हैं', 'लोन देने के नाम पर बैंक निजी फाईनैंस कंपनियां पूरे देश को लूट रही हैं और देश का प्रधानमंत्री योग करना सिखा रहा है', 'नफरत करनी है उतनी कर लो रंडवो बाजारू रंडी कि औलादो।।', 'BEDTETबेरोजगार  यह कैसे देशप्रदेश के तानाशाह मुखिया हैँ जो BEdTET के बेरोजगारों की दयनीय हालत पे आँख बंद किये मदमस्त से भी बदतर  ', 'Proud of Ji    आज सोनभद्र सिंगरौली क्षेत्र में साँसों से कोयला लेने को मजबूर करोड़ो लोगों को साफ हवा का अहसास करवाया    गैरकानूनी तरीके से चल रहे  कोयला ट्रक बंद करवाये    लड़ाई लम्बी हैं पर इरादे मज़बूत है  SingrauliPollution', 'जिस देश में कन्हैया_कुमार जैसा पढ़ा लिखा युवा हार जाए आतंकवादी_प्रज्ञा जीत जाए  उस देश की जनता का   भगवान भला करे ', 'इस बात की उम्\\u200dमीद है कि आम बजट में वित्\\u200dत मंत्री निर्मला सीतारमण मिनिमम बैंलेस को लेकर कुछ अहम ऐलान कर सकती हैं Budget Modinomics', 'Chad gundan ki chati PE sheet le gyi haati wali.Aur babua ke haate me de gayi katora.', 'कमल_हासन अपने विचार रखने के लिए आज़ाद है  तो फिर प्रज्ञा_ठाकुर क्यो नही  क्या इस देश मे की दो परिभाषाये है', 'बाबा साहब डॉ० भीम राव अम्बेडकर ही हमारे महादेव हैं.।।  वो अमर होकर आज भी हमारी सुरक्षा कर रहे हैं.।।  बाबा साहब की जय हो.', 'सूअर शब्द किसके लिए इस्तेमाल किया जाता है  जस्ट पुचिंग ', 'मैदान पर आपसे गेंदबाज कांपते थे कई ऐसे मैच आपने जिताए जो यादगार हैं। जब मैंने क्रिकेट देखना शुरू किया था तब आपकी इण्डिया टीम में इन्ट्री हुई थी। इसलिए मुझपर क्रिकेट का जुनून आपको देखकर चढ़ा। स्पेशली छक्के लगाने में आपका कोई जवाब नहीं था।     Always miss you YuvrajSingh', 'न केवल हाफिज़ को  उनकी पूरी पार्टी के उम्मीदवारों को पाकिस्तान की जनता ने चुनाव में नकार दिया था।     हमने प्रज्ञा_ठाकुर को जीत दिला दी।     ', 'बेटे तेरे जैसे मेरी कार के टायर साफ करते है  रुपये महीने पर     तेरी अवकात पता है भड़वा है तू दंगाई संघ का     तेरी तो ऐसी की तैसी सड़क छाप स्वर की औलाद   चल भड़वी के तू ब्लॉक हुआ अब स्वर के बच्चे ', 'एक दोस्त ऐसा सिरहाने चाहिए  जिससे दोस्ती के बहाने चाहिए  मिल कर वफ़ा निभायें हम दोनों  फ़िज़ाओं में गूंजे वो तराने चाहिए.    आपकी_काँची  हिंदी_शब्द  शब्दनिधि', 'लुंड की प्यासी रंडी ने लुंड को चूस चूस कर पिया  p', 'अच्छी शुरुआत के बाद लड़खड़ाई टीम इंडिया बांग्लादेश को दिया  का लक्ष्य वर्ल्ड कप में रोहित ने जड़ा चौथा शतक    CWC INDvsBAN  ', 'ये भीख न रहे ये भीखारी न रहे धरा पे    ठीक तुम्हारी तरह का तुम्हें इंसान सौपा है    ऐसा काम करना की इतिहास बने    सब कहें बूढी माँ ने हमें वरदान सौंपा है।।', 'जल के बिना मछली जिंदा रह सकती है मगर बीजेपी टीवी पर धार्मिक विवादों पर बहस दिखाये बिना जिंदा नही रह सकती ', 'सपा के लिए ये एक बड़ा मौका है दलित भाइयों का दिल जीतने के लिए अब दलित भाइयो को मायावती से कोई उम्मीद नही है।    अखिलेश यादव को OBC के साथ छोटी जातियों पे भी ध्यान देना चाहिए उन्हें अपने पार्टी में आने का न्योता दे।    फ़िर  का चुनाव दलितपिछड़ी के लिए जीत आपकी होगी।', 'एक शख्स ऐसा भी है जिसका नाम मोदी है   पैर से लेकर सिर तक सिर्फ और सिर्फ झूठ फरेब धोखेबाजी नमक हरामि गद्दारी देश के प्रति दिखाई देती है  आक थू थू मोदी नाम पर', 'बस इतनी सी बात काफी है हमारे ताअर्रुफ़ में ~  हुकूमत डर के हर रोज़ नया ठिकाना बदलती है ~', 'हाँ एकदम ठीक कह रहे हैं साहब।  जनता को गुमराह करने के लिए कभी चाय बेची कभी पकोड़े तो पिछड़े बनेतो कभी खुद नीच कहेतो कभी लोगों को पन्द्रहलाख का झांसा दिया तो कभी चौकीदार बन राष्ट्रवाद का मुखौटा लगा नौटबंदी कर लाखों करोड़ रुपये का घोटाला करराष्ट्र की जड़ें खोद डाली .', ' साल से एक जानवर के नाम पे मार रहे हो वो दिखता नही। शूरूआत करोगे तो अब बराबर जवाब मिलेगा तब रंडी रोना रोते रहना', 'भोसडीके  अभिनंदन को बीच में लाने को किसने बोला    मा चोदेंगे फिर तो', 'बाबारामरहिम के अच्छे आचरण पर जमानत मिल सकती है तो  साल से जेल में बंद शहाबुद्दिन का जेल में कोनसा बुरा आचरण है  कानून सबके लिये बराबर होना चाहिये', 'दिल्ली के पूर्व मुख्यमंत्री आदरणीय श्री साहिब सिंह वर्मा जी की पुण्यतिथि पर उन्हें विनम्र नमन।', 'एक तीसरा “आपशन” भी है  और वो है “संघर्ष”', 'तू हिजड़ा की सकल पे तू कुत्ता भी लुंड नहीं मारेगा', 'मै देश नही बिकने दूंगा ये कहने वाला NTPC BSNL को कौड़ियों के भाव बेच रहा है', 'दिल्ली के रहने वाले युवक यहां नहाने के लिए आए थे', 'Hum sab sangharsh karne ko taiyar Hain samajwadi party zindabad akhilesh yadav jindabad', 'इश्क़ की बात है  धूप मे खिले गुलमोहर की बरसात है  गुल मेरा रंग चुरा लाए हैं गुलज़ारों में  \\xa0जल रहे हो तुम भरी बरसात की बौछारो में.  अमलतास और गुलमोहर सी हूँ मैं   बैशाख में बसन्त को तरसती हूँ  गुलमोहर चितचोर है  मेरे नहीं कईयों के दिल पर राज करता है वो  हिन्दी_शब्द  शब्दनिधि', 'खैरा बाज़ारबहराइच में मुसलमानों पर पहले तो ज्यादती और फिर पुलिस की एकतरफा कार्यवाई। आखिर इंसाफ कौन करेगा कोई तो आवाज़ उठाए बेगुनाह मुसलमानों के लिए।', 'मैं चुनाव आयोग को और चुनाव प्रक्रिया से जुड़े प्रत्येक व्यक्ति को बहुतबहुत बधाई देता हूँ और भारत के जागरूक मतदाताओं को नमन करता हूँ पीएम जी ।   MannKiBaat', 'साला बल्ला तो बिल्कुल माब लिंचिंग टाइप चलाता है मादरचोद', 'गौरव साहब नारंगी वाले क्या दूसरे देश के हैं जो उस रंडी ने ऐसा लिखा है', 'कामयाबी के मुक़ाम के लिए दिए सा बनना बहुत ज़रूरी है साहिब    दिया हमेशा दूसरों के लिए जलता है.दूसरों से नहीं जलता    शुभरात्रि ट्वीटरीयों', 'Nayan Neerav Abe Ulta kahe ko bol rha hSP BSP ', 'इस रशीदी जेहादी का पायजामा पीला तो नही है आज आज हरामी को बड़ा भाईचारा नज़र आ रहा है', 'जब से मैंने तोहे निहारा रातों को न सोई    krishnakanhaiya muraliwale mohan kanhaiya radheradhe jaishriram gopalkanhaiya bhajansandhya ', 'CWC INDvENG जान बूझकर हारने वाले बयान पर कपिल देव ने दिया पाकिस्तानी क्रिकेटर्स को करारा जवाब.  ', 'देश की राजनीति में आप आदर्श नेता है और यह हम सब मानते हैं अगर राजनीति में किसी व्यक्ति को आदर्श माना जा सकता है तो आदरणीय अखिलेश यादव जी हैं आप इसी लिए विशेष है जय अखिलेश', 'साहस शौर्य बलिदान एवं देशभक्ति की प्रतिमूर्ति अंग्रेजी शासन के विरुद्ध  के स्वतंत्रता संग्राम में अग्रणी भूमिका निभाकर हम सब भारतीयों में गर्व प्रबल साहस और शौर्य भरने वाली महान झांसी_की_रानी  लक्ष्मीबाई जी के बलिदान दिवस पर उन्हें शत्शत् नमन।  || विनम्र श्रद्धांजलि || ', 'NewProfilePic  राह चलते पागल बनते हैं दोस्त Cold_Drink बोल के दारु पिलाते हैं दोस्त  कितने भी कमीने हो पर काम पड़ने पर हमेशा आगे रहते हैं दोस्त ', 'उनका क्या काम है ये अहले सियासत जानें  मेरा पैग़ाम मुहब्बत है जहाँ तक पहुंचे    गड़तंत्र दिवस की बधाई सभी देशवासियों को. ', 'चाबी से खुला ताला बार बार काम मे आता है और हथौड़े से खुलने पर दुबारा काम का नही रहता ।  इसी तरह संबन्धों के ताले को क्रोध के हथौड़े से नहीं बल्कि प्रेम की चाबी से खोलें।    शुभ_रात्री', 'CWC इंग्लैंड के हाथों हार के बाद कप्तान विराट कोहली ने इन्हें बताया हार के लिए जिम्मेदार.   INDvENG  ', 'इटौंजा खुद खून से लथपथ लेकिन अपनी बहन की जान बचाने के लिए संघर्षरत इस युवक का दर्दनाक वीडियो।    उप्र सरकार कुछ तो रहमदया दिखाए। अपराधियों ने प्रदेश को कठपुतली बना लिया है।  ', 'पहलू खान के बेटे ने कहाकांग्रेस सरकार से हम इंसाफ चाह रहे थेचार्जशीट नहीं    बहुजन समाज के संघी कांग्रेसी भक्तों अब क्या विचार है इस पर  बस ध्यान रखना घटना राजस्थान की है   ', 'प्रज्ञा_ठाकुर भोपाल से चुनाव जीत गयी   CongratsNaMo', 'तुम्हारा जिहाद तुम्हारी गांड में डाल कर मुंह से निकाल देंगे भेनचोद.', 'एक मुस्लिम व्यक्ति ने दूसरे मुस्लिम असगर अली को पीटा उठक बैठक लगवाई और जबरदस्ती जय श्री राम बुलवाकर वीडियो बनाया।    वीडियो में खुद का चेहरा नहीं दिखाया वीडियो वायरल हो गया।    नकली सेक्युलर गैंग हिंदुओं को गाली देने लगे अब पोल खुल गयी पुलिस ने उस मुस्लिम को गिरफ्तार कर लिया है।', 'इसलिए तो कहते हैं स्कूलों में हिंदी को ज्यादा से ज्यादा पढ़ाई जाए बच्चों की हिंदी सुधरे। गाली तो  कमिने  दोस्ती सिखा देते हैं।     Follow me  Follow Back', 'जो भी मेरे ईश्वर के विरूद्ध आये काट दो सालों को ये आग बहुत आगे जाएगी सीधे रण होना चाहिए   ईश्वर से कामना है ये जो राक्षस है उनका संघार करने के लिए इस्वर लोगो को शक्ति दे   सुरश चव्हाणके  आप बहुत सही कर रहे है   ये साले सुअर है   इनको अहिँसा परमो धर्म समझ नही आता ', 'बापू हम शर्मिंदा हैं तेरे क़ातिल अभी ज़िन्दा हैं   प्रज्ञा_ठाकुर मुर्दाबाद  गोडसे मुर्दाबाद', 'बुढ़ाना मुज़फ्फरनगर में त्यागी पेपर वर्क्स फैक्ट्री का उद्घाटन करते हुए श्रीकल्कि पीठाधीश्वर जी.', ' के बाद देश ने पहली बार एक सरकार को प्रो इंकम्बेंसी जनादेश दिया है।    ये जीत सच्चाई की जीत है भारत के लोकतंत्र की जीत है पीएम मोदी जी ।', 'आदमी तो आदमी मैं तो पानी के बारे में भी सोचता था.लिखने वाले कवि आलोकधन्वा के जन्मदिन पर साहित्य आजतक की बधाई', 'मादरजात सनी तेरे पास टाइम नही है तोतेरी माँ क्यो चुदाई इधर ', 'थोर क्रांतिकारक राणी लक्ष्मीबाई   यांना पुण्यतिथीनिमित्त विनम्र अभिवादन RaniLaxmiBai रानी_लक्ष्मीबाई लक्ष्मीबाई ', 'मुस्लिम लोगों से वोट मांगने वाली पार्टियां क्या अभी इस मुस्लिम के बारे में कुछ बोलेंगे         ऐसी नीच और कमीne मुस्लिम लोगों को मार देना चाहिए जो हमारी हिंद बेटी पर बुरी नजर डालें ']\n"
     ]
    }
   ],
   "source": [
    "#TODO: implement!\n",
    "hindi_stopword_file = open('data/stopwords-hi.txt', encoding=\"utf8\")\n",
    "\n",
    "sw_list = ['#', '?', '!', ';', ',', ':', \"\\'\", '-', '=', '(', ')', '[', ']' , '{', '}', '\"', '*', '@', '  ', '\\\\', '/', '..', '...', '....', '%'\n",
    "          ,'0', '1', '2', '3', '4', '5', '6', '7', '8', '9']\n",
    "sw_list_string = ''\n",
    "for i in sw_list:\n",
    "    sw_list_string+=i\n",
    "hindi_stopwords = []\n",
    "for x in hindi_stopword_file:\n",
    "    hindi_stopwords.append(x.rstrip())\n",
    "\n",
    "hindi_stopwords.extend(sw_list)\n",
    "sentences = []\n",
    "# text = data_development['text'].iloc[0] + ' @Zalman'\n",
    "for text in data_development['text']:\n",
    "    text_array = text.split(' ')\n",
    "    # text_tokens =word_tokenize(text) #data_development[\"text\"].apply(nltk.word_tokenize)\n",
    "#     print(text_array)\n",
    "    new_array = []\n",
    "    for j in text_array:\n",
    "        if '@' not in j and len(j) < 20:\n",
    "            for char in sw_list:\n",
    "                j = j.replace(char, '')\n",
    "            new_array.append(j)\n",
    "    sentences.append(' '.join(new_array))\n",
    "                \n",
    "# tokens_without_sw = [word for word in text_tokens if not word in hindi_stopwords]\n",
    "# filtered_sentence = (\" \").join(tokens_without_sw)\n",
    "# #text_tokens\n",
    "# filtere_sentence\n",
    "print(sentences)"
   ]
  },
  {
   "cell_type": "markdown",
   "metadata": {
    "id": "Je09nozLmmMm"
   },
   "source": [
    "## 1.3 Build the vocabulary (0.5 + 0.5 points)\n",
    "\n",
    "The input to the first layer of word2vec is an one-hot encoding of the current word. The output od the model is then compared to a numeric class label of the words within the size of the skip-gram window. Now\n",
    "\n",
    "* Compile a list of all words in the development section of your corpus and save it in a variable ```V```."
   ]
  },
  {
   "cell_type": "code",
   "execution_count": 16,
   "metadata": {
    "id": "VpoGmTKx-AOQ"
   },
   "outputs": [
    {
     "name": "stdout",
     "output_type": "stream",
     "text": [
      "2806\n",
      "1313\n"
     ]
    }
   ],
   "source": [
    "#TODO: implement!\n",
    "temp_unique = [] # For unique words\n",
    "temp_nounique = []\n",
    "for j in sentences:\n",
    "    temp2 = j.split(' ')\n",
    "    for k in temp2:\n",
    "        if k not in temp_unique:\n",
    "            temp_unique.append(k)\n",
    "        temp_nounique.append(k)\n",
    "V = temp_unique\n",
    "non_unique = temp_nounique\n",
    "print(len(non_unique))\n",
    "print(len(V))"
   ]
  },
  {
   "cell_type": "markdown",
   "metadata": {
    "id": "WiaVglVNoENY"
   },
   "source": [
    "* Then, write a function ```word_to_one_hot``` that returns a one-hot encoding of an arbitrary word in the vocabulary. The size of the one-hot encoding should be ```len(v)```."
   ]
  },
  {
   "cell_type": "code",
   "execution_count": 18,
   "metadata": {
    "id": "yqPNw6IT-AOQ"
   },
   "outputs": [],
   "source": [
    "#TODO: implement!\n",
    "def word_to_one_hot(word):\n",
    "    if word in V:\n",
    "        index = V.index(word)\n",
    "        encoding = np.zeros(len(V))\n",
    "        encoding[index]= 1\n",
    "        return encoding\n",
    "    return False\n",
    "#   pass"
   ]
  },
  {
   "cell_type": "markdown",
   "metadata": {
    "id": "gKD8zBlxVclh"
   },
   "source": [
    "## 1.4 Subsampling (0.5 points)\n",
    "\n",
    "The probability to keep a word in a context is given by:\n",
    "\n",
    "$P_{keep}(w_i) = \\Big(\\sqrt{\\frac{z(w_i)}{0.001}}+1\\Big) \\cdot \\frac{0.001}{z(w_i)}$\n",
    "\n",
    "Where $z(w_i)$ is the relative frequency of the word $w_i$ in the corpus. Now,\n",
    "* Calculate word frequencies\n",
    "* Define a function ```sampling_prob``` that takes a word (string) as input and returns the probabiliy to **keep** the word in a context."
   ]
  },
  {
   "cell_type": "code",
   "execution_count": 19,
   "metadata": {
    "id": "Mj4sDOVMMr0b"
   },
   "outputs": [],
   "source": [
    "#TODO: implement!\n",
    "def sampling_prob(word):\n",
    "    z_wi = non_unique.count(word) / len(non_unique)\n",
    "    p_wi = (mt.sqrt(z_wi / 0.001) + 1) * (0.001 / z_wi)\n",
    "    return p_wi\n",
    "#   pass"
   ]
  },
  {
   "cell_type": "code",
   "execution_count": 20,
   "metadata": {},
   "outputs": [
    {
     "data": {
      "text/plain": [
       "2.587483009586883"
      ]
     },
     "execution_count": 20,
     "metadata": {},
     "output_type": "execute_result"
    }
   ],
   "source": [
    "sampling_prob('बांग्लादेश')"
   ]
  },
  {
   "cell_type": "markdown",
   "metadata": {
    "id": "kxV1P90zplxu"
   },
   "source": [
    "# 1.5 Skip-Grams (1 point)\n",
    "\n",
    "Now that you have the vocabulary and one-hot encodings at hand, you can start to do the actual work. The skip gram model requires training data of the shape ```(current_word, context)```, with ```context``` being the words before and/or after ```current_word``` within ```window_size```. \n",
    "\n",
    "* Have closer look on the original paper. If you feel to understand how skip-gram works, implement a function ```get_target_context``` that takes a sentence as input and [yield](https://docs.python.org/3.9/reference/simple_stmts.html#the-yield-statement)s a ```(current_word, context)```.\n",
    "\n",
    "* Use your ```sampling_prob``` function to drop words from contexts as you sample them. "
   ]
  },
  {
   "cell_type": "code",
   "execution_count": 27,
   "metadata": {
    "id": "r8CCTpVy-AOR"
   },
   "outputs": [
    {
     "name": "stdout",
     "output_type": "stream",
     "text": [
      "('Sohaib', ['Sohaib', 'Sohaib'])\n",
      "('and', ['and', 'and'])\n",
      "('Salman', ['Salman', 'Salman'])\n"
     ]
    }
   ],
   "source": [
    "#TODO: implement!\n",
    "def get_target_context(sentence):\n",
    "    sentence_split = sentence.split(' ')\n",
    "    for word in sentence_split:\n",
    "        context = []\n",
    "        index = sentence_split.index(word)\n",
    "        for i in range(len(sentence_split)):\n",
    "            if(i != index):\n",
    "                context.append(word)\n",
    "        yield(word, context)\n",
    "\n",
    "hello = get_target_context(\"Sohaib and Salman\")\n",
    "for val in hello:\n",
    "    print(val)"
   ]
  },
  {
   "cell_type": "markdown",
   "metadata": {
    "id": "gfEFgtkmuDjL"
   },
   "source": [
    "# 1.6 Hyperparameters (0.5 points)\n",
    "\n",
    "According to the word2vec paper, what would be a good choice for the following hyperparameters? \n",
    "\n",
    "* Embedding dimension\n",
    "* Window size\n",
    "\n",
    "Initialize them in a dictionary or as independent variables in the code block below. "
   ]
  },
  {
   "cell_type": "code",
   "execution_count": null,
   "metadata": {
    "id": "d7xSKuFJcYoD"
   },
   "outputs": [],
   "source": [
    "# Set hyperparameters\n",
    "window_size = \n",
    "embedding_size = \n",
    "\n",
    "# More hyperparameters\n",
    "learning_rate = 0.05\n",
    "epochs = 100"
   ]
  },
  {
   "cell_type": "markdown",
   "metadata": {
    "id": "xiM2zq-YunPx"
   },
   "source": [
    "# 1.7 Pytorch Module (0.5 + 0.5 + 0.5 points)\n",
    "\n",
    "Pytorch provides a wrapper for your fancy and super-complex models: [torch.nn.Module](https://pytorch.org/docs/stable/generated/torch.nn.Module.html). The code block below contains a skeleton for such a wrapper. Now,\n",
    "\n",
    "* Initialize the two weight matrices of word2vec as fields of the class.\n",
    "\n",
    "* Override the ```forward``` method of this class. It should take a one-hot encoding as input, perform the matrix multiplications, and finally apply a log softmax on the output layer.\n",
    "\n",
    "* Initialize the model and save its weights in a variable. The Pytorch documentation will tell you how to do that."
   ]
  },
  {
   "cell_type": "code",
   "execution_count": null,
   "metadata": {
    "colab": {
     "base_uri": "https://localhost:8080/"
    },
    "id": "D9sGNytYhwxS",
    "outputId": "41645b64-e4ed-4e6a-e10f-74cb39b92230"
   },
   "outputs": [
    {
     "name": "stdout",
     "output_type": "stream",
     "text": [
      "Word2Vec(\n",
      "  (input): Linear(in_features=534, out_features=300, bias=False)\n",
      "  (output): Linear(in_features=300, out_features=534, bias=False)\n",
      ")\n"
     ]
    }
   ],
   "source": [
    "# Create model \n",
    "\n",
    "class Word2Vec(Module):\n",
    "  def __init__(self):\n",
    "    super().__init__()\n",
    "\n",
    "\n",
    "  def forward(self, one_hot):\n",
    "    pass"
   ]
  },
  {
   "cell_type": "markdown",
   "metadata": {
    "id": "XefIDMMHv5zJ"
   },
   "source": [
    "# 1.8 Loss function and optimizer (0.5 points)\n",
    "\n",
    "Initialize variables with [optimizer](https://pytorch.org/docs/stable/optim.html#module-torch.optim) and loss function. You can take what is used in the word2vec paper, but you can use alternative optimizers/loss functions if you explain your choice in the report."
   ]
  },
  {
   "cell_type": "code",
   "execution_count": null,
   "metadata": {
    "id": "V9-Ino-e29w3"
   },
   "outputs": [],
   "source": [
    "# Define optimizer and loss\n",
    "optimizer = \n",
    "criterion = "
   ]
  },
  {
   "cell_type": "markdown",
   "metadata": {
    "id": "ckTfK78Ew8wI"
   },
   "source": [
    "# 1.9 Training the model (3 points)\n",
    "\n",
    "As everything is prepared, implement a training loop that performs several passes of the data set through the model. You are free to do this as you please, but your code should:\n",
    "\n",
    "* Load the weights saved in 1.6 at the start of every execution of the code block\n",
    "* Print the accumulated loss at least after every epoch (the accumulate loss should be reset after every epoch)\n",
    "* Define a criterion for the training procedure to terminate if a certain loss value is reached. You can find the threshold by observing the loss for the development set.\n",
    "\n",
    "You can play around with the number of epochs and the learning rate."
   ]
  },
  {
   "cell_type": "code",
   "execution_count": null,
   "metadata": {
    "id": "LbMGD5L0mLDx"
   },
   "outputs": [],
   "source": [
    "# Define train procedure\n",
    "\n",
    "# load initial weights\n",
    "\n",
    "def train():\n",
    " \n",
    "  print(\"Training started\")\n",
    "\n",
    "train()\n",
    "\n",
    "print(\"Training finished\")"
   ]
  },
  {
   "cell_type": "markdown",
   "metadata": {
    "id": "BgQkaYstyj0Q"
   },
   "source": [
    "# 1.10 Train on the full dataset (0.5 points)\n",
    "\n",
    "Now, go back to 1.1 and remove the restriction on the number of sentences in your corpus. Then, reexecute code blocks 1.2, 1.3 and 1.6 (or those relevant if you created additional ones). \n",
    "\n",
    "* Then, retrain your model on the complete dataset.\n",
    "\n",
    "* Now, the input weights of the model contain the desired word embeddings! Save them together with the corresponding vocabulary items (Pytorch provides a nice [functionality](https://pytorch.org/tutorials/beginner/saving_loading_models.html) for this)."
   ]
  },
  {
   "cell_type": "code",
   "execution_count": null,
   "metadata": {
    "id": "4x8hQP_bg4_g"
   },
   "outputs": [],
   "source": []
  }
 ],
 "metadata": {
  "accelerator": "GPU",
  "colab": {
   "collapsed_sections": [],
   "name": "NNTI_final_project_task_1.ipynb",
   "provenance": []
  },
  "kernelspec": {
   "display_name": "Python 3",
   "language": "python",
   "name": "python3"
  },
  "language_info": {
   "codemirror_mode": {
    "name": "ipython",
    "version": 3
   },
   "file_extension": ".py",
   "mimetype": "text/x-python",
   "name": "python",
   "nbconvert_exporter": "python",
   "pygments_lexer": "ipython3",
   "version": "3.8.5"
  }
 },
 "nbformat": 4,
 "nbformat_minor": 4
}
