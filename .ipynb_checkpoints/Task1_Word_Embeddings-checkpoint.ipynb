{
 "cells": [
  {
   "cell_type": "markdown",
   "metadata": {
    "id": "_VZXi_KGi0UR"
   },
   "source": [
    "# Task 1: Word Embeddings (10 points)\n",
    "\n",
    "This notebook will guide you through all steps necessary to train a word2vec model (Detailed description in the PDF)."
   ]
  },
  {
   "cell_type": "markdown",
   "metadata": {
    "id": "48t-II1vkuau"
   },
   "source": [
    "## Imports\n",
    "\n",
    "This code block is reserved for your imports. \n",
    "\n",
    "You are free to use the following packages: \n",
    "\n",
    "(List of packages)"
   ]
  },
  {
   "cell_type": "code",
   "execution_count": 3,
   "metadata": {
    "id": "4kh6nh84-AOL"
   },
   "outputs": [],
   "source": [
    "# Imports\n",
    "import numpy as np\n",
    "import pandas as pd\n",
    "import nltk\n",
    "from nltk.corpus import stopwords\n",
    "import torch as torch\n",
    "from torch import nn\n",
    "#nltk.download('stopwords')\n",
    "#nltk.download(\"punkt\")\n",
    "from nltk.tokenize import word_tokenize\n",
    "import math as mt"
   ]
  },
  {
   "cell_type": "markdown",
   "metadata": {
    "id": "NWmk3hVllEcU"
   },
   "source": [
    "# 1.1 Get the data (0.5 points)\n",
    "\n",
    "The Hindi portion HASOC corpus from [github.io](https://hasocfire.github.io/hasoc/2019/dataset.html) is already available in the repo, at data/hindi_hatespeech.tsv . Load it into a data structure of your choice. Then, split off a small part of the corpus as a development set (~100 data points).\n",
    "\n",
    "If you are using Colab the first two lines will let you upload folders or files from your local file system."
   ]
  },
  {
   "cell_type": "code",
   "execution_count": 4,
   "metadata": {
    "id": "XtI7DJ-0-AOP"
   },
   "outputs": [
    {
     "data": {
      "text/plain": [
       "pandas.core.series.Series"
      ]
     },
     "execution_count": 4,
     "metadata": {},
     "output_type": "execute_result"
    }
   ],
   "source": [
    "#TODO: implement!\n",
    "\n",
    "#from google.colab import files\n",
    "#uploaded = files.upload()\n",
    "\n",
    "data = pd.read_csv('data/hindi_hatespeech.tsv', sep='\\t')\n",
    "data_development = data[:100]\n",
    "type(data_development['task_1'])\n",
    "#len(data_development)\n",
    "#data_development"
   ]
  },
  {
   "cell_type": "code",
   "execution_count": 5,
   "metadata": {},
   "outputs": [
    {
     "data": {
      "text/plain": [
       "4"
      ]
     },
     "execution_count": 5,
     "metadata": {},
     "output_type": "execute_result"
    }
   ],
   "source": [
    "tt = 'ssss'\n",
    "len(tt)"
   ]
  },
  {
   "cell_type": "markdown",
   "metadata": {
    "id": "D-mSJ8nUlupB"
   },
   "source": [
    "## 1.2 Data preparation (0.5 + 0.5 points)\n",
    "\n",
    "* Prepare the data by removing everything that does not contain information. \n",
    "User names (starting with '@') and punctuation symbols clearly do not convey information, but we also want to get rid of so-called [stopwords](https://en.wikipedia.org/wiki/Stop_word), i. e. words that have little to no semantic content (and, but, yes, the...). Hindi stopwords can be found [here](https://github.com/stopwords-iso/stopwords-hi/blob/master/stopwords-hi.txt) Then, standardize the spelling by lowercasing all words.\n",
    "Do this for the development section of the corpus for now.\n",
    "\n",
    "* What about hashtags (starting with '#') and emojis? Should they be removed too? Justify your answer in the report, and explain how you accounted for this in your implementation."
   ]
  },
  {
   "cell_type": "code",
   "execution_count": 6,
   "metadata": {
    "id": "CHcNeyKi-AOQ"
   },
   "outputs": [],
   "source": [
    "#TODO: implement!\n",
    "hindi_stopword_file = open('data/stopwords-hi.txt', encoding=\"utf8\")\n",
    "\n",
    "sw_list = ['#', '?', '!', ';', ',', ':', \"\\'\", '-', '=', '(', ')', '[', ']' , '{', '}', '\"', '*', '@', '  ', '\\\\', '/', '..', '...', '....', '%'\n",
    "          ,'0', '1', '2', '3', '4', '5', '6', '7', '8', '9']\n",
    "sw_list_string = ''\n",
    "for i in sw_list:\n",
    "    sw_list_string+=i\n",
    "hindi_stopwords = []\n",
    "for x in hindi_stopword_file:\n",
    "    hindi_stopwords.append(x.rstrip())\n",
    "\n",
    "hindi_stopwords.extend(sw_list)\n",
    "sentences = []\n",
    "# text = data_development['text'].iloc[0] + ' @Zalman'\n",
    "for text in data_development['text']:\n",
    "    text_array = text.split(' ')\n",
    "    # text_tokens =word_tokenize(text) #data_development[\"text\"].apply(nltk.word_tokenize)\n",
    "#     print(text_array)\n",
    "    new_array = []\n",
    "    for j in text_array:\n",
    "        if '@' not in j and len(j) < 20:\n",
    "            for char in sw_list:\n",
    "                j = j.replace(char, '')\n",
    "            new_array.append(j)\n",
    "    sentences.append(' '.join(new_array))\n",
    "                \n",
    "# tokens_without_sw = [word for word in text_tokens if not word in hindi_stopwords]\n",
    "# filtered_sentence = (\" \").join(tokens_without_sw)\n",
    "# #text_tokens\n",
    "# filtere_sentence\n",
    "# print(sentences)"
   ]
  },
  {
   "cell_type": "markdown",
   "metadata": {
    "id": "Je09nozLmmMm"
   },
   "source": [
    "## 1.3 Build the vocabulary (0.5 + 0.5 points)\n",
    "\n",
    "The input to the first layer of word2vec is an one-hot encoding of the current word. The output od the model is then compared to a numeric class label of the words within the size of the skip-gram window. Now\n",
    "\n",
    "* Compile a list of all words in the development section of your corpus and save it in a variable ```V```."
   ]
  },
  {
   "cell_type": "code",
   "execution_count": 7,
   "metadata": {
    "id": "VpoGmTKx-AOQ"
   },
   "outputs": [
    {
     "name": "stdout",
     "output_type": "stream",
     "text": [
      "2806\n",
      "1313\n"
     ]
    }
   ],
   "source": [
    "#TODO: implement!\n",
    "temp_unique = [] # For unique words\n",
    "temp_nounique = []\n",
    "for j in sentences:\n",
    "    temp2 = j.split(' ')\n",
    "    for k in temp2:\n",
    "        if k not in temp_unique:\n",
    "            temp_unique.append(k)\n",
    "        temp_nounique.append(k)\n",
    "V = temp_unique\n",
    "non_unique = temp_nounique\n",
    "print(len(non_unique))\n",
    "print(len(V))"
   ]
  },
  {
   "cell_type": "markdown",
   "metadata": {
    "id": "WiaVglVNoENY"
   },
   "source": [
    "* Then, write a function ```word_to_one_hot``` that returns a one-hot encoding of an arbitrary word in the vocabulary. The size of the one-hot encoding should be ```len(v)```."
   ]
  },
  {
   "cell_type": "code",
   "execution_count": 8,
   "metadata": {
    "id": "yqPNw6IT-AOQ"
   },
   "outputs": [],
   "source": [
    "#TODO: implement!\n",
    "def word_to_one_hot(word):\n",
    "    if word in V:\n",
    "        index = V.index(word)\n",
    "        encoding = np.zeros(len(V))\n",
    "        encoding[index]= 1\n",
    "        return encoding\n",
    "    return False\n",
    "#   pass"
   ]
  },
  {
   "cell_type": "markdown",
   "metadata": {
    "id": "gKD8zBlxVclh"
   },
   "source": [
    "## 1.4 Subsampling (0.5 points)\n",
    "\n",
    "The probability to keep a word in a context is given by:\n",
    "\n",
    "$P_{keep}(w_i) = \\Big(\\sqrt{\\frac{z(w_i)}{0.001}}+1\\Big) \\cdot \\frac{0.001}{z(w_i)}$\n",
    "\n",
    "Where $z(w_i)$ is the relative frequency of the word $w_i$ in the corpus. Now,\n",
    "* Calculate word frequencies\n",
    "* Define a function ```sampling_prob``` that takes a word (string) as input and returns the probabiliy to **keep** the word in a context."
   ]
  },
  {
   "cell_type": "code",
   "execution_count": 9,
   "metadata": {
    "id": "Mj4sDOVMMr0b"
   },
   "outputs": [],
   "source": [
    "#TODO: implement!\n",
    "def sampling_prob(word):\n",
    "    z_wi = non_unique.count(word) / len(non_unique)\n",
    "    p_wi = (mt.sqrt(z_wi / 0.001) + 1) * (0.001 / z_wi)\n",
    "    return p_wi\n",
    "#   pass"
   ]
  },
  {
   "cell_type": "code",
   "execution_count": 10,
   "metadata": {},
   "outputs": [
    {
     "data": {
      "text/plain": [
       "2.587483009586883"
      ]
     },
     "execution_count": 10,
     "metadata": {},
     "output_type": "execute_result"
    }
   ],
   "source": [
    "sampling_prob('बांग्लादेश')"
   ]
  },
  {
   "cell_type": "markdown",
   "metadata": {
    "id": "kxV1P90zplxu"
   },
   "source": [
    "# 1.5 Skip-Grams (1 point)\n",
    "\n",
    "Now that you have the vocabulary and one-hot encodings at hand, you can start to do the actual work. The skip gram model requires training data of the shape ```(current_word, context)```, with ```context``` being the words before and/or after ```current_word``` within ```window_size```. \n",
    "\n",
    "* Have closer look on the original paper. If you feel to understand how skip-gram works, implement a function ```get_target_context``` that takes a sentence as input and [yield](https://docs.python.org/3.9/reference/simple_stmts.html#the-yield-statement)s a ```(current_word, context)```.\n",
    "\n",
    "* Use your ```sampling_prob``` function to drop words from contexts as you sample them. "
   ]
  },
  {
   "cell_type": "code",
   "execution_count": 27,
   "metadata": {
    "id": "r8CCTpVy-AOR"
   },
   "outputs": [
    {
     "name": "stdout",
     "output_type": "stream",
     "text": [
      "('Sohaib', ['Sohaib', 'Sohaib'])\n",
      "('and', ['and', 'and'])\n",
      "('Salman', ['Salman', 'Salman'])\n"
     ]
    }
   ],
   "source": [
    "#TODO: implement!\n",
    "def get_target_context(sentence):\n",
    "    sentence_split = sentence.split(' ')\n",
    "    for word in sentence_split:\n",
    "        context = []\n",
    "        index = sentence_split.index(word)\n",
    "        for i in range(len(sentence_split)):\n",
    "            if(i != index):\n",
    "                context.append(word)\n",
    "        yield(word, context)\n",
    "\n",
    "hello = get_target_context(\"Sohaib and Salman\")\n",
    "for val in hello:\n",
    "    print(val)"
   ]
  },
  {
   "cell_type": "markdown",
   "metadata": {
    "id": "gfEFgtkmuDjL"
   },
   "source": [
    "# 1.6 Hyperparameters (0.5 points)\n",
    "\n",
    "According to the word2vec paper, what would be a good choice for the following hyperparameters? \n",
    "\n",
    "* Embedding dimension\n",
    "* Window size\n",
    "\n",
    "Initialize them in a dictionary or as independent variables in the code block below. "
   ]
  },
  {
   "cell_type": "code",
   "execution_count": null,
   "metadata": {
    "id": "d7xSKuFJcYoD"
   },
   "outputs": [],
   "source": [
    "# Set hyperparameters\n",
    "window_size = 4\n",
    "embedding_size = 10\n",
    "\n",
    "# More hyperparameters\n",
    "learning_rate = 0.05\n",
    "epochs = 100"
   ]
  },
  {
   "cell_type": "markdown",
   "metadata": {
    "id": "xiM2zq-YunPx"
   },
   "source": [
    "# 1.7 Pytorch Module (0.5 + 0.5 + 0.5 points)\n",
    "\n",
    "Pytorch provides a wrapper for your fancy and super-complex models: [torch.nn.Module](https://pytorch.org/docs/stable/generated/torch.nn.Module.html). The code block below contains a skeleton for such a wrapper. Now,\n",
    "\n",
    "* Initialize the two weight matrices of word2vec as fields of the class.\n",
    "\n",
    "* Override the ```forward``` method of this class. It should take a one-hot encoding as input, perform the matrix multiplications, and finally apply a log softmax on the output layer.\n",
    "\n",
    "* Initialize the model and save its weights in a variable. The Pytorch documentation will tell you how to do that."
   ]
  },
  {
   "cell_type": "code",
   "execution_count": null,
   "metadata": {
    "colab": {
     "base_uri": "https://localhost:8080/"
    },
    "id": "D9sGNytYhwxS",
    "outputId": "41645b64-e4ed-4e6a-e10f-74cb39b92230"
   },
   "outputs": [
    {
     "name": "stdout",
     "output_type": "stream",
     "text": [
      "Word2Vec(\n",
      "  (input): Linear(in_features=534, out_features=300, bias=False)\n",
      "  (output): Linear(in_features=300, out_features=534, bias=False)\n",
      ")\n"
     ]
    }
   ],
   "source": [
    "# Create model \n",
    "\n",
    "class Word2Vec(Module):\n",
    "  def __init__(self):\n",
    "    super().__init__()\n",
    "    self.hidden_layer = nn.Linear(1, 1)\n",
    "    self.hidden_layer.weight = torch.rand((len(V), embedding_size), required_grad = True)\n",
    "    self.output_layer.weight = torch.rand(embedding_size, len(V), required_grad = True)\n",
    "\n",
    "\n",
    "  def forward(self, one_hot):\n",
    "    matrix_mul = torch.matmul(one_hot, self.output_layer.weight)\n",
    "    log_softmax = nn.LogSoftmax()\n",
    "    output = log_softmax(matrix_mul)\n",
    "    return output\n",
    "#     pass"
   ]
  },
  {
   "cell_type": "markdown",
   "metadata": {
    "id": "XefIDMMHv5zJ"
   },
   "source": [
    "# 1.8 Loss function and optimizer (0.5 points)\n",
    "\n",
    "Initialize variables with [optimizer](https://pytorch.org/docs/stable/optim.html#module-torch.optim) and loss function. You can take what is used in the word2vec paper, but you can use alternative optimizers/loss functions if you explain your choice in the report."
   ]
  },
  {
   "cell_type": "code",
   "execution_count": null,
   "metadata": {
    "id": "V9-Ino-e29w3"
   },
   "outputs": [],
   "source": [
    "# Define optimizer and loss\n",
    "optimizer = torch.optim.Adam(net.parameters(), lr=0.0001)\n",
    "criterion = nn.BCEWithLogitsLoss()"
   ]
  },
  {
   "cell_type": "markdown",
   "metadata": {
    "id": "ckTfK78Ew8wI"
   },
   "source": [
    "# 1.9 Training the model (3 points)\n",
    "\n",
    "As everything is prepared, implement a training loop that performs several passes of the data set through the model. You are free to do this as you please, but your code should:\n",
    "\n",
    "* Load the weights saved in 1.6 at the start of every execution of the code block\n",
    "* Print the accumulated loss at least after every epoch (the accumulate loss should be reset after every epoch)\n",
    "* Define a criterion for the training procedure to terminate if a certain loss value is reached. You can find the threshold by observing the loss for the development set.\n",
    "\n",
    "You can play around with the number of epochs and the learning rate."
   ]
  },
  {
   "cell_type": "code",
   "execution_count": null,
   "metadata": {
    "id": "LbMGD5L0mLDx"
   },
   "outputs": [],
   "source": [
    "# Define train procedure\n",
    "\n",
    "# load initial weights\n",
    "\n",
    "def train():\n",
    "    net = Word2Vec()\n",
    "    print(\"Training started\")\n",
    "    for e in epochs:\n",
    "        for i in one_hot_matrix:\n",
    "        y_pred_torch = net(torch.tensor(x_train_torch))\n",
    "        loss = criterion(y_pred_torch, y_train_torch)\n",
    "        # print(t, loss.item())\n",
    "        optimizer.zero_grad()\n",
    "        loss.backward()\n",
    "        optimizer.step()\n",
    "    print(t, loss.item())\n",
    "\n",
    "train()\n",
    "\n",
    "print(\"Training finished\")"
   ]
  },
  {
   "cell_type": "markdown",
   "metadata": {
    "id": "BgQkaYstyj0Q"
   },
   "source": [
    "# 1.10 Train on the full dataset (0.5 points)\n",
    "\n",
    "Now, go back to 1.1 and remove the restriction on the number of sentences in your corpus. Then, reexecute code blocks 1.2, 1.3 and 1.6 (or those relevant if you created additional ones). \n",
    "\n",
    "* Then, retrain your model on the complete dataset.\n",
    "\n",
    "* Now, the input weights of the model contain the desired word embeddings! Save them together with the corresponding vocabulary items (Pytorch provides a nice [functionality](https://pytorch.org/tutorials/beginner/saving_loading_models.html) for this)."
   ]
  },
  {
   "cell_type": "code",
   "execution_count": null,
   "metadata": {
    "id": "4x8hQP_bg4_g"
   },
   "outputs": [],
   "source": []
  }
 ],
 "metadata": {
  "accelerator": "GPU",
  "colab": {
   "collapsed_sections": [],
   "name": "NNTI_final_project_task_1.ipynb",
   "provenance": []
  },
  "kernelspec": {
   "display_name": "Python 3",
   "language": "python",
   "name": "python3"
  },
  "language_info": {
   "codemirror_mode": {
    "name": "ipython",
    "version": 3
   },
   "file_extension": ".py",
   "mimetype": "text/x-python",
   "name": "python",
   "nbconvert_exporter": "python",
   "pygments_lexer": "ipython3",
   "version": "3.8.5"
  }
 },
 "nbformat": 4,
 "nbformat_minor": 4
}
