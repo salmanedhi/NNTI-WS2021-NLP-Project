{
 "cells": [
  {
   "cell_type": "code",
<<<<<<< HEAD
   "execution_count": 1,
=======
   "execution_count": 18,
>>>>>>> origin/changes
   "metadata": {},
   "outputs": [
    {
     "name": "stdout",
     "output_type": "stream",
     "text": [
      "Done\n"
     ]
    }
   ],
   "source": [
    "# Imports\n",
    "import numpy as np\n",
    "import pandas as pd\n",
    "import nltk\n",
    "from nltk.corpus import stopwords\n",
    "import torch as torch\n",
    "from torch import nn\n",
    "from nltk.tokenize import word_tokenize\n",
    "import math as mt\n",
    "import time\n",
    "import random\n",
    "from joblib import Parallel, delayed\n",
    "from torch.autograd import Variable\n",
    "import matplotlib.pyplot as plt\n",
    "import torch.utils.data as data_utils\n",
    "from torch.utils.data import TensorDataset, DataLoader\n",
    "from sklearn.utils import shuffle\n",
    "import helper\n",
    "print(\"Done\")"
   ]
  },
  {
   "cell_type": "markdown",
   "metadata": {},
   "source": [
    "## Load model"
   ]
  },
  {
   "cell_type": "code",
<<<<<<< HEAD
   "execution_count": 2,
=======
   "execution_count": 19,
>>>>>>> origin/changes
   "metadata": {},
   "outputs": [
    {
     "name": "stdout",
     "output_type": "stream",
     "text": [
      "Done cuda:0\n"
     ]
    }
   ],
   "source": [
    "if torch.cuda.is_available():\n",
    "    device = \"cuda:0\"#\"cuda:0\"\n",
    "else:\n",
    "    device = \"cpu\"\n",
    "    \n",
    "url = 'https://raw.githubusercontent.com/salmanedhi/NNTI-WS2021-NLP-Project/main/data/hindi_hatespeech.tsv'\n",
    "\n",
    "data = pd.read_csv(url, sep='\\t')\n",
    "    \n",
    "#data = pd.read_csv('data/hindi_hatespeech.tsv', sep='\\t')\n",
    "data_development = shuffle(data)\n",
    "labels = data_development['task_2']\n",
    "# data_development = data\n",
    "type(data_development['task_1'])\n",
    "\n",
    "print(\"Done\", device)"
   ]
  },
  {
   "cell_type": "code",
<<<<<<< HEAD
   "execution_count": 3,
=======
   "execution_count": 20,
>>>>>>> origin/changes
   "metadata": {},
   "outputs": [
    {
     "name": "stdout",
     "output_type": "stream",
     "text": [
      "Number of sentences:  4665\n",
      "Total words: 141550\n",
      "Unique words: 19836\n"
     ]
    }
   ],
   "source": [
    "#Stopwords Removal\n",
    "sentences = helper.apply_stopword_removal(data_development)\n",
    "print(\"Number of sentences: \" , len(sentences))\n",
    "\n",
    "#Building Vocabulary\n",
    "V, non_unique = helper.build_vocabulary(sentences)\n",
    "print('Total words:', len(non_unique))\n",
<<<<<<< HEAD
    "print('Unique words:', len(V))"
=======
    "print('Unique words:', len(V))\n",
    "embedding_size = 640"
>>>>>>> origin/changes
   ]
  },
  {
   "cell_type": "code",
<<<<<<< HEAD
   "execution_count": 4,
=======
   "execution_count": 21,
>>>>>>> origin/changes
   "metadata": {},
   "outputs": [
    {
     "name": "stdout",
     "output_type": "stream",
     "text": [
      "Word2Vec(\n",
<<<<<<< HEAD
      "  (fc1): Linear(in_features=19836, out_features=600, bias=True)\n",
      "  (fc2): Linear(in_features=600, out_features=19836, bias=True)\n",
      ")\n",
      "torch.Size([19837, 600]) torch.Size([600, 19836])\n"
=======
      "  (fc1): Linear(in_features=19836, out_features=640, bias=True)\n",
      "  (fc2): Linear(in_features=640, out_features=19836, bias=True)\n",
      ")\n",
      "torch.Size([19837, 640]) torch.Size([640, 19836])\n"
>>>>>>> origin/changes
     ]
    }
   ],
   "source": [
    "#Load Word2Vec embeddings module\n",
<<<<<<< HEAD
    "weights1, weights2 = helper.load_word2vec_embeddings('model_param_finalised', device, len(V), 600)\n",
=======
    "weights1, weights2 = helper.load_word2vec_embeddings('model_param_hindi', device, len(V), embedding_size)\n",
>>>>>>> origin/changes
    "print(weights1.shape, weights2.shape)"
   ]
  },
  {
   "cell_type": "markdown",
   "metadata": {},
   "source": [
    "## Create Dataset"
   ]
  },
  {
   "cell_type": "code",
<<<<<<< HEAD
   "execution_count": 5,
=======
   "execution_count": 22,
>>>>>>> origin/changes
   "metadata": {},
   "outputs": [
    {
     "name": "stdout",
     "output_type": "stream",
     "text": [
      "(4665, 132)\n",
      "(4665,)\n"
     ]
    }
   ],
   "source": [
    "## create number array of sentences (replace each word with each numeric value)\n",
    "x_data, max_len_curr = helper.sentence_to_numeric_arr(sentences, V)\n",
    "\n",
    "## apply padding\n",
    "padded = np.array(helper.padding(x_data, max_len_curr))\n",
    "\n",
    "print(padded.shape)\n",
    "encoded_labels = [0 if label == \"NONE\" else 1 for label in labels]\n",
    "encoded_labels = np.array(encoded_labels)\n",
    "print(encoded_labels.shape)"
   ]
  },
  {
   "cell_type": "code",
<<<<<<< HEAD
   "execution_count": 7,
=======
   "execution_count": 23,
>>>>>>> origin/changes
   "metadata": {},
   "outputs": [
    {
     "name": "stdout",
     "output_type": "stream",
     "text": [
      "<class 'numpy.ndarray'> <class 'numpy.ndarray'>\n",
      "Done\n"
     ]
    }
   ],
   "source": [
    "#split data into train, valid & test set\n",
    "batch_size = 64\n",
    "train_loader, test_loader = helper.split_data_train_valid_test(padded, encoded_labels, batch_size)\n",
    "print(\"Done\")"
   ]
  },
  {
   "cell_type": "code",
<<<<<<< HEAD
   "execution_count": 9,
=======
   "execution_count": 24,
>>>>>>> origin/changes
   "metadata": {},
   "outputs": [
    {
     "name": "stderr",
     "output_type": "stream",
     "text": [
<<<<<<< HEAD
      "<ipython-input-9-0616377c22f1>:25: UserWarning: torch.nn.utils.clip_grad_norm is now deprecated in favor of torch.nn.utils.clip_grad_norm_.\n",
=======
      "<ipython-input-24-893d87a531af>:25: UserWarning: torch.nn.utils.clip_grad_norm is now deprecated in favor of torch.nn.utils.clip_grad_norm_.\n",
>>>>>>> origin/changes
      "  nn.utils.clip_grad_norm(net.parameters(), clip)\n"
     ]
    },
    {
     "name": "stdout",
     "output_type": "stream",
     "text": [
<<<<<<< HEAD
      "Epoch: 1/100 Training Loss: 0.6837\n",
      "Epoch: 2/100 Training Loss: 0.5971\n",
      "Epoch: 3/100 Training Loss: 0.4057\n",
      "Epoch: 4/100 Training Loss: 0.2369\n",
      "Epoch: 5/100 Training Loss: 0.1481\n",
      "Epoch: 6/100 Training Loss: 0.0893\n",
      "Epoch: 7/100 Training Loss: 0.0660\n",
      "Epoch: 8/100 Training Loss: 0.0443\n",
      "Epoch: 9/100 Training Loss: 0.0398\n",
      "Epoch: 10/100 Training Loss: 0.0291\n",
      "Epoch: 11/100 Training Loss: 0.0329\n",
      "Epoch: 12/100 Training Loss: 0.0264\n",
      "Epoch: 13/100 Training Loss: 0.0272\n",
      "Epoch: 14/100 Training Loss: 0.0221\n",
      "Epoch: 15/100 Training Loss: 0.0179\n",
      "Epoch: 16/100 Training Loss: 0.0209\n",
      "Epoch: 17/100 Training Loss: 0.0192\n",
      "Epoch: 18/100 Training Loss: 0.0156\n",
      "Epoch: 19/100 Training Loss: 0.0198\n",
      "Epoch: 20/100 Training Loss: 0.0164\n",
      "Epoch: 21/100 Training Loss: 0.0139\n",
      "Epoch: 22/100 Training Loss: 0.0136\n",
      "Epoch: 23/100 Training Loss: 0.0128\n",
      "Epoch: 24/100 Training Loss: 0.0103\n",
      "Epoch: 25/100 Training Loss: 0.0078\n",
      "Epoch: 26/100 Training Loss: 0.0082\n",
      "Epoch: 27/100 Training Loss: 0.0093\n",
      "Epoch: 28/100 Training Loss: 0.0140\n",
      "Epoch: 29/100 Training Loss: 0.0091\n",
      "Epoch: 30/100 Training Loss: 0.0062\n",
      "Epoch: 31/100 Training Loss: 0.0078\n",
      "Epoch: 32/100 Training Loss: 0.0079\n",
      "Epoch: 33/100 Training Loss: 0.0090\n",
      "Epoch: 34/100 Training Loss: 0.0089\n",
      "Epoch: 35/100 Training Loss: 0.0070\n",
      "Epoch: 36/100 Training Loss: 0.0084\n",
      "Epoch: 37/100 Training Loss: 0.0133\n",
      "Epoch: 38/100 Training Loss: 0.0108\n",
      "Epoch: 39/100 Training Loss: 0.0128\n",
      "Epoch: 40/100 Training Loss: 0.0099\n",
      "Epoch: 41/100 Training Loss: 0.0080\n",
      "Epoch: 42/100 Training Loss: 0.0093\n",
      "Epoch: 43/100 Training Loss: 0.0082\n",
      "Epoch: 44/100 Training Loss: 0.0047\n",
      "Epoch: 45/100 Training Loss: 0.0071\n",
      "Epoch: 46/100 Training Loss: 0.0051\n",
      "Epoch: 47/100 Training Loss: 0.0042\n",
      "Epoch: 48/100 Training Loss: 0.0041\n",
      "Epoch: 49/100 Training Loss: 0.0074\n",
      "Epoch: 50/100 Training Loss: 0.0060\n",
      "Epoch: 51/100 Training Loss: 0.0035\n",
      "Epoch: 52/100 Training Loss: 0.0050\n",
      "Epoch: 53/100 Training Loss: 0.0044\n",
      "Epoch: 54/100 Training Loss: 0.0039\n",
      "Epoch: 55/100 Training Loss: 0.0043\n",
      "Epoch: 56/100 Training Loss: 0.0048\n",
      "Epoch: 57/100 Training Loss: 0.0056\n",
      "Epoch: 58/100 Training Loss: 0.0040\n",
      "Epoch: 59/100 Training Loss: 0.0087\n",
      "Epoch: 60/100 Training Loss: 0.0072\n",
      "Epoch: 61/100 Training Loss: 0.0056\n",
      "Epoch: 62/100 Training Loss: 0.0074\n",
      "Epoch: 63/100 Training Loss: 0.0036\n",
      "Epoch: 64/100 Training Loss: 0.0061\n",
      "Epoch: 65/100 Training Loss: 0.0062\n",
      "Epoch: 66/100 Training Loss: 0.0054\n",
      "Epoch: 67/100 Training Loss: 0.0063\n",
      "Epoch: 68/100 Training Loss: 0.0063\n",
      "Epoch: 69/100 Training Loss: 0.0025\n",
      "Epoch: 70/100 Training Loss: 0.0030\n",
      "Epoch: 71/100 Training Loss: 0.0032\n",
      "Epoch: 72/100 Training Loss: 0.0028\n",
      "Epoch: 73/100 Training Loss: 0.0038\n",
      "Epoch: 74/100 Training Loss: 0.0031\n",
      "Epoch: 75/100 Training Loss: 0.0038\n",
      "Epoch: 76/100 Training Loss: 0.0023\n",
      "Epoch: 77/100 Training Loss: 0.0031\n",
      "Epoch: 78/100 Training Loss: 0.0023\n",
      "Epoch: 79/100 Training Loss: 0.0022\n",
      "Epoch: 80/100 Training Loss: 0.0048\n",
      "Epoch: 81/100 Training Loss: 0.0022\n",
      "Epoch: 82/100 Training Loss: 0.0043\n",
      "Epoch: 83/100 Training Loss: 0.0035\n",
      "Epoch: 84/100 Training Loss: 0.0023\n",
      "Epoch: 85/100 Training Loss: 0.0029\n",
      "Epoch: 86/100 Training Loss: 0.0025\n",
      "Epoch: 87/100 Training Loss: 0.0025\n",
      "Epoch: 88/100 Training Loss: 0.0023\n",
      "Epoch: 89/100 Training Loss: 0.0038\n",
      "Epoch: 90/100 Training Loss: 0.0034\n",
      "Epoch: 91/100 Training Loss: 0.0020\n",
      "Epoch: 92/100 Training Loss: 0.0025\n",
      "Epoch: 93/100 Training Loss: 0.0032\n",
      "Epoch: 94/100 Training Loss: 0.0017\n",
      "Epoch: 95/100 Training Loss: 0.0027\n",
      "Epoch: 96/100 Training Loss: 0.0029\n",
      "Epoch: 97/100 Training Loss: 0.0020\n",
      "Epoch: 98/100 Training Loss: 0.0035\n",
      "Epoch: 99/100 Training Loss: 0.0025\n",
      "Epoch: 100/100 Training Loss: 0.0015\n",
=======
      "Epoch: 1/20 Training Loss: 0.6798\n",
      "Epoch: 2/20 Training Loss: 0.5991\n",
      "Epoch: 3/20 Training Loss: 0.4180\n",
      "Epoch: 4/20 Training Loss: 0.2473\n",
      "Epoch: 5/20 Training Loss: 0.1422\n",
      "Epoch: 6/20 Training Loss: 0.0978\n",
      "Epoch: 7/20 Training Loss: 0.0693\n",
      "Epoch: 8/20 Training Loss: 0.0423\n",
      "Epoch: 9/20 Training Loss: 0.0299\n",
      "Epoch: 10/20 Training Loss: 0.0275\n",
      "Epoch: 11/20 Training Loss: 0.0222\n",
      "Epoch: 12/20 Training Loss: 0.0244\n",
      "Epoch: 13/20 Training Loss: 0.0224\n",
      "Epoch: 14/20 Training Loss: 0.0135\n",
      "Epoch: 15/20 Training Loss: 0.0174\n",
      "Epoch: 16/20 Training Loss: 0.0191\n",
      "Epoch: 17/20 Training Loss: 0.0123\n",
      "Epoch: 18/20 Training Loss: 0.0169\n",
      "Epoch: 19/20 Training Loss: 0.0158\n",
      "Epoch: 20/20 Training Loss: 0.0121\n",
>>>>>>> origin/changes
      "Done\n"
     ]
    },
    {
     "data": {
<<<<<<< HEAD
      "image/png": "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\n",
=======
      "image/png": "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\n",
>>>>>>> origin/changes
      "text/plain": [
       "<Figure size 432x288 with 1 Axes>"
      ]
     },
     "metadata": {
      "needs_background": "light"
     },
     "output_type": "display_data"
    }
   ],
   "source": [
<<<<<<< HEAD
    "net, criterion = helper.initialize_SentimentLSTM_model_task3(len(V) + 1, batch_size, 600, 32, 1, 2, device)\n",
    "optimizer = torch.optim.Adam(net.parameters(), lr = 0.001, amsgrad=True)\n",
    "print_every = 100\n",
    "step = 0\n",
    "n_epochs = 100  # validation loss increases from ~ epoch 3 or 4\n",
=======
    "net, criterion = helper.initialize_SentimentLSTM_model_task3(len(V) + 1, batch_size, embedding_size, 32, 1, 2, device)\n",
    "optimizer = torch.optim.Adam(net.parameters(), lr = 0.001, amsgrad=True)\n",
    "print_every = 100\n",
    "step = 0\n",
    "n_epochs = 20  # validation loss increases from ~ epoch 3 or 4\n",
>>>>>>> origin/changes
    "clip = 5  # for gradient clip to prevent exploding gradient problem in LSTM/RNN\n",
    "\n",
    "\n",
    "training_loss_epoches = []\n",
    "for epoch in range(n_epochs):\n",
    "    h = net.init_hidden(batch_size, device)\n",
    "    training_loss = []\n",
    "    for i, (inputs, labels) in enumerate(train_loader):\n",
    "        step += 1\n",
    "        inputs, labels = inputs.to(device), labels.to(device)\n",
    "#         print(i, inputs.shape, labels.shape)\n",
    "        # making requires_grad = False for the latest set of h\n",
    "        h = tuple([each.data for each in h])   \n",
    "        \n",
    "        net.zero_grad()\n",
    "        output, h = net(inputs, batch_size)\n",
    "        loss = criterion(output.squeeze(), labels.float())\n",
    "        loss.backward()\n",
    "        training_loss.append(loss.item())\n",
    "        nn.utils.clip_grad_norm(net.parameters(), clip)\n",
    "        optimizer.step()\n",
    "        \n",
    "#         if (step % print_every) == 0:            \n",
    "#             ######################\n",
    "#             ##### VALIDATION #####\n",
    "#             ######################\n",
    "#             net.eval()\n",
    "#             valid_losses = []\n",
    "#             v_h = net.init_hidden(batch_size, device)\n",
    "            \n",
    "#             for v_inputs, v_labels in valid_loader:\n",
    "#                 v_inputs, v_labels = inputs.to(device), labels.to(device)\n",
    "        \n",
    "#                 v_h = tuple([each.data for each in v_h])\n",
    "                \n",
    "#                 v_output, v_h = net(v_inputs, batch_size)\n",
    "#                 v_loss = criterion(v_output.squeeze(), v_labels.float())\n",
    "#                 valid_losses.append(v_loss.item())\n",
    "\n",
    "#             print(\"Epoch: {}/{}\".format((epoch+1), n_epochs),\n",
    "#                   \"Step: {}\".format(step),\n",
    "#                   \"Training Loss: {:.4f}\".format(loss.item()),\n",
    "#                   \"Validation Loss: {:.4f}\".format(np.mean(valid_losses)))\n",
    "#             net.train()\n",
    "    training_loss_epoches.append(np.mean(training_loss))\n",
    "    print(\"Epoch: {}/{}\".format((epoch+1), n_epochs),\n",
    "          \"Training Loss: {:.4f}\".format(np.mean(training_loss)))\n",
    "plt.plot(np.linspace(1, len(training_loss_epoches), len(training_loss_epoches)).astype(int), training_loss_epoches)\n",
    "plt.savefig('Task3_hindi.png') \n",
    "    \n",
    "print(\"Done\")"
   ]
  },
  {
   "cell_type": "markdown",
   "metadata": {},
   "source": [
    "## Test set"
   ]
  },
  {
   "cell_type": "code",
<<<<<<< HEAD
   "execution_count": 10,
=======
   "execution_count": 9,
>>>>>>> origin/changes
   "metadata": {},
   "outputs": [
    {
     "name": "stdout",
     "output_type": "stream",
     "text": [
<<<<<<< HEAD
      "Test Loss: 1.9461\n",
      "Test Accuracy: 0.73\n"
=======
      "Test Loss: 1.1328\n",
      "Test Accuracy: 0.72\n"
>>>>>>> origin/changes
     ]
    }
   ],
   "source": [
    "net.eval()\n",
    "test_losses = []\n",
    "num_correct = 0\n",
    "test_h = net.init_hidden(batch_size, device)\n",
    "\n",
    "for i, (inputs, labels) in enumerate(test_loader):\n",
    "    test_h = tuple([each.data for each in test_h])\n",
    "    try:\n",
    "        test_output, test_h = net(inputs.to(device), batch_size)\n",
    "    except IndexError:\n",
    "        print(inputs)\n",
    "#     print(labels.dtype, test_output.dtype)\n",
    "#     print(inputs)\n",
    "    loss = criterion(test_output.detach().to(device), labels.float().to(device))\n",
    "    test_losses.append(loss.item())\n",
    "    \n",
    "    preds = torch.round(test_output.squeeze())\n",
    "    correct_tensor = preds.eq(labels.float().view_as(preds).to(device))\n",
    "    correct = np.squeeze(correct_tensor.cpu().detach().numpy())\n",
    "    num_correct += np.sum(correct)\n",
    "    \n",
    "print(\"Test Loss: {:.4f}\".format(np.mean(test_losses)))\n",
    "print(\"Test Accuracy: {:.2f}\".format(num_correct/len(test_loader.dataset)))"
   ]
  },
  {
   "cell_type": "markdown",
   "metadata": {},
   "source": [
    "## Testing Bengali Data on Hindi Classifier"
   ]
  },
  {
   "cell_type": "code",
<<<<<<< HEAD
   "execution_count": 12,
=======
   "execution_count": 25,
>>>>>>> origin/changes
   "metadata": {},
   "outputs": [
    {
     "name": "stdout",
     "output_type": "stream",
     "text": [
      "(4665, 3) (4665,)\n",
      "Number of sentences:  4665\n",
      "Total words: 64027\n",
      "Unique words: 14482\n",
      "<class 'numpy.ndarray'> <class 'numpy.ndarray'>\n",
      "Done\n"
     ]
    }
   ],
   "source": [
    "#Reading Bengali data\n",
    "bengali_data, labels = helper.get_bengali_data('data/bengali_hatespeech.csv')\n",
    "# print(bengali_data)\n",
    "print(bengali_data.shape, labels.shape)\n",
    "bengali_sentences = helper.apply_stopword_removal(bengali_data)\n",
    "print(\"Number of sentences: \" , len(bengali_sentences))\n",
    "\n",
    "## Building Vocabulary\n",
    "bengali_V, bengali_non_unique = helper.build_vocabulary(bengali_sentences)\n",
    "print('Total words:', len(bengali_non_unique))\n",
    "print('Unique words:', len(bengali_V))\n",
    "\n",
    "## Sentence to numeric array\n",
    "x_data_bengali, max_len_curr = helper.sentence_to_numeric_arr(bengali_sentences, bengali_V)\n",
    "\n",
    "## Apply Padding\n",
    "padded = np.array(helper.padding(x_data_bengali, max_len_curr))\n",
    "\n",
    "train_loader, test_loader = helper.split_data_train_valid_test(padded, labels, 64)\n",
    "print(\"Done\")"
   ]
  },
  {
   "cell_type": "code",
<<<<<<< HEAD
   "execution_count": 14,
=======
   "execution_count": 12,
>>>>>>> origin/changes
   "metadata": {},
   "outputs": [
    {
     "name": "stderr",
     "output_type": "stream",
     "text": [
<<<<<<< HEAD
      "<ipython-input-14-57f6c3914a4c>:25: UserWarning: torch.nn.utils.clip_grad_norm is now deprecated in favor of torch.nn.utils.clip_grad_norm_.\n",
=======
      "<ipython-input-12-fcf209974ed7>:25: UserWarning: torch.nn.utils.clip_grad_norm is now deprecated in favor of torch.nn.utils.clip_grad_norm_.\n",
>>>>>>> origin/changes
      "  nn.utils.clip_grad_norm(net.parameters(), clip)\n"
     ]
    },
    {
     "name": "stdout",
     "output_type": "stream",
     "text": [
<<<<<<< HEAD
      "Epoch: 1/60 Training Loss: 0.6735\n",
      "Epoch: 2/60 Training Loss: 0.3802\n",
      "Epoch: 3/60 Training Loss: 0.1621\n",
      "Epoch: 4/60 Training Loss: 0.0840\n",
      "Epoch: 5/60 Training Loss: 0.0507\n",
      "Epoch: 6/60 Training Loss: 0.0335\n",
      "Epoch: 7/60 Training Loss: 0.0224\n",
      "Epoch: 8/60 Training Loss: 0.0163\n",
      "Epoch: 9/60 Training Loss: 0.0135\n",
      "Epoch: 10/60 Training Loss: 0.0133\n",
      "Epoch: 11/60 Training Loss: 0.0100\n",
      "Epoch: 12/60 Training Loss: 0.0085\n",
      "Epoch: 13/60 Training Loss: 0.0085\n",
      "Epoch: 14/60 Training Loss: 0.0092\n",
      "Epoch: 15/60 Training Loss: 0.0079\n",
      "Epoch: 16/60 Training Loss: 0.0079\n",
      "Epoch: 17/60 Training Loss: 0.0071\n",
      "Epoch: 18/60 Training Loss: 0.0049\n",
      "Epoch: 19/60 Training Loss: 0.0058\n",
      "Epoch: 20/60 Training Loss: 0.0067\n",
      "Epoch: 21/60 Training Loss: 0.0064\n",
      "Epoch: 22/60 Training Loss: 0.0053\n",
      "Epoch: 23/60 Training Loss: 0.0057\n",
      "Epoch: 24/60 Training Loss: 0.0049\n",
      "Epoch: 25/60 Training Loss: 0.0131\n",
      "Epoch: 26/60 Training Loss: 0.0844\n",
      "Epoch: 27/60 Training Loss: 0.0358\n",
      "Epoch: 28/60 Training Loss: 0.0139\n",
      "Epoch: 29/60 Training Loss: 0.0083\n",
      "Epoch: 30/60 Training Loss: 0.0058\n",
      "Epoch: 31/60 Training Loss: 0.0054\n",
      "Epoch: 32/60 Training Loss: 0.0058\n",
      "Epoch: 33/60 Training Loss: 0.0043\n",
      "Epoch: 34/60 Training Loss: 0.0039\n",
      "Epoch: 35/60 Training Loss: 0.0032\n",
      "Epoch: 36/60 Training Loss: 0.0043\n",
      "Epoch: 37/60 Training Loss: 0.0038\n",
      "Epoch: 38/60 Training Loss: 0.0030\n",
      "Epoch: 39/60 Training Loss: 0.0033\n",
      "Epoch: 40/60 Training Loss: 0.0036\n",
      "Epoch: 41/60 Training Loss: 0.0046\n",
      "Epoch: 42/60 Training Loss: 0.0038\n",
      "Epoch: 43/60 Training Loss: 0.0033\n",
      "Epoch: 44/60 Training Loss: 0.0027\n",
      "Epoch: 45/60 Training Loss: 0.0026\n",
      "Epoch: 46/60 Training Loss: 0.0032\n",
      "Epoch: 47/60 Training Loss: 0.0035\n",
      "Epoch: 48/60 Training Loss: 0.0031\n",
      "Epoch: 49/60 Training Loss: 0.0022\n",
      "Epoch: 50/60 Training Loss: 0.0017\n",
      "Epoch: 51/60 Training Loss: 0.0023\n",
      "Epoch: 52/60 Training Loss: 0.0022\n",
      "Epoch: 53/60 Training Loss: 0.0019\n",
      "Epoch: 54/60 Training Loss: 0.0021\n",
      "Epoch: 55/60 Training Loss: 0.0028\n",
      "Epoch: 56/60 Training Loss: 0.0026\n",
      "Epoch: 57/60 Training Loss: 0.0021\n",
      "Epoch: 58/60 Training Loss: 0.0028\n",
      "Epoch: 59/60 Training Loss: 0.0020\n",
      "Epoch: 60/60 Training Loss: 0.0019\n",
=======
      "Epoch: 1/30 Training Loss: 0.6884\n",
      "Epoch: 2/30 Training Loss: 0.5121\n",
      "Epoch: 3/30 Training Loss: 0.2281\n",
      "Epoch: 4/30 Training Loss: 0.1111\n",
      "Epoch: 5/30 Training Loss: 0.0707\n",
      "Epoch: 6/30 Training Loss: 0.0484\n",
      "Epoch: 7/30 Training Loss: 0.0410\n",
      "Epoch: 8/30 Training Loss: 0.0292\n",
      "Epoch: 9/30 Training Loss: 0.0208\n",
      "Epoch: 10/30 Training Loss: 0.0159\n",
      "Epoch: 11/30 Training Loss: 0.0127\n",
      "Epoch: 12/30 Training Loss: 0.0115\n",
      "Epoch: 13/30 Training Loss: 0.0080\n",
      "Epoch: 14/30 Training Loss: 0.0071\n",
      "Epoch: 15/30 Training Loss: 0.0064\n",
      "Epoch: 16/30 Training Loss: 0.0058\n",
      "Epoch: 17/30 Training Loss: 0.0051\n",
      "Epoch: 18/30 Training Loss: 0.0052\n",
      "Epoch: 19/30 Training Loss: 0.0047\n",
      "Epoch: 20/30 Training Loss: 0.0063\n",
      "Epoch: 21/30 Training Loss: 0.0038\n",
      "Epoch: 22/30 Training Loss: 0.0035\n",
      "Epoch: 23/30 Training Loss: 0.0082\n",
      "Epoch: 24/30 Training Loss: 0.0251\n",
      "Epoch: 25/30 Training Loss: 0.0184\n",
      "Epoch: 26/30 Training Loss: 0.0187\n",
      "Epoch: 27/30 Training Loss: 0.0111\n",
      "Epoch: 28/30 Training Loss: 0.0066\n",
      "Epoch: 29/30 Training Loss: 0.0042\n",
      "Epoch: 30/30 Training Loss: 0.0049\n",
>>>>>>> origin/changes
      "Done\n"
     ]
    },
    {
     "data": {
<<<<<<< HEAD
      "image/png": "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\n",
=======
      "image/png": "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\n",
>>>>>>> origin/changes
      "text/plain": [
       "<Figure size 432x288 with 1 Axes>"
      ]
     },
     "metadata": {
      "needs_background": "light"
     },
     "output_type": "display_data"
    }
   ],
   "source": [
<<<<<<< HEAD
    "net, criterion = helper.initialize_SentimentLSTM_model_task3_bengali(len(V) + 1, batch_size, 600, 32, 1, 2, device, weights1)\n",
    "optimizer = torch.optim.Adam(net.parameters(), lr = 0.001, amsgrad=True)\n",
    "print_every = 100\n",
    "step = 0\n",
    "n_epochs = 60  # validation loss increases from ~ epoch 3 or 4\n",
=======
    "net, criterion = helper.initialize_SentimentLSTM_model_task3_bengali(len(V) + 1, batch_size, embedding_size, 32, 1, 2, device, weights1)\n",
    "optimizer = torch.optim.Adam(net.parameters(), lr = 0.001, amsgrad=True)\n",
    "print_every = 100\n",
    "step = 0\n",
    "n_epochs = 30  # validation loss increases from ~ epoch 3 or 4\n",
>>>>>>> origin/changes
    "clip = 5  # for gradient clip to prevent exploding gradient problem in LSTM/RNN\n",
    "\n",
    "\n",
    "training_loss_epoches = []\n",
    "for epoch in range(n_epochs):\n",
    "    h = net.init_hidden(batch_size, device)\n",
    "    training_loss = []\n",
    "    for i, (inputs, labels) in enumerate(train_loader):\n",
    "        step += 1\n",
    "        inputs, labels = inputs.to(device), labels.to(device)\n",
    "#         print(i, inputs.shape, labels.shape)\n",
    "        # making requires_grad = False for the latest set of h\n",
    "        h = tuple([each.data for each in h])   \n",
    "        \n",
    "        net.zero_grad()\n",
    "        output, h = net(inputs, batch_size)\n",
    "        loss = criterion(output.squeeze(), labels.float())\n",
    "        loss.backward()\n",
    "        training_loss.append(loss.item())\n",
    "        nn.utils.clip_grad_norm(net.parameters(), clip)\n",
    "        optimizer.step()\n",
    "        \n",
    "#         if (step % print_every) == 0:            \n",
    "#             ######################\n",
    "#             ##### VALIDATION #####\n",
    "#             ######################\n",
    "#             net.eval()\n",
    "#             valid_losses = []\n",
    "#             v_h = net.init_hidden(batch_size, device)\n",
    "            \n",
    "#             for v_inputs, v_labels in valid_loader:\n",
    "#                 v_inputs, v_labels = inputs.to(device), labels.to(device)\n",
    "        \n",
    "#                 v_h = tuple([each.data for each in v_h])\n",
    "                \n",
    "#                 v_output, v_h = net(v_inputs, batch_size)\n",
    "#                 v_loss = criterion(v_output.squeeze(), v_labels.float())\n",
    "#                 valid_losses.append(v_loss.item())\n",
    "\n",
    "#             print(\"Epoch: {}/{}\".format((epoch+1), n_epochs),\n",
    "#                   \"Step: {}\".format(step),\n",
    "#                   \"Training Loss: {:.4f}\".format(loss.item()),\n",
    "#                   \"Validation Loss: {:.4f}\".format(np.mean(valid_losses)))\n",
    "#             net.train()\n",
    "    training_loss_epoches.append(np.mean(training_loss))\n",
    "    print(\"Epoch: {}/{}\".format((epoch+1), n_epochs),\n",
    "          \"Training Loss: {:.4f}\".format(np.mean(training_loss)))\n",
    "\n",
    "plt.plot(np.linspace(1, len(training_loss_epoches), len(training_loss_epoches)).astype(int), training_loss_epoches)\n",
    "plt.savefig(\"Task3_transfer_learning.png\")\n",
    "print(\"Done\")"
   ]
  },
  {
   "cell_type": "markdown",
   "metadata": {},
   "source": [
    "### Testing"
   ]
  },
  {
   "cell_type": "code",
<<<<<<< HEAD
   "execution_count": 15,
=======
   "execution_count": 13,
>>>>>>> origin/changes
   "metadata": {},
   "outputs": [
    {
     "name": "stdout",
     "output_type": "stream",
     "text": [
<<<<<<< HEAD
      "Test Loss: 1.6290\n",
      "Test Accuracy: 0.74\n"
=======
      "Test Loss: 1.5072\n",
      "Test Accuracy: 0.75\n"
>>>>>>> origin/changes
     ]
    }
   ],
   "source": [
    "net.eval()\n",
    "\n",
    "test_losses = []\n",
    "num_correct = 0\n",
    "test_h = net.init_hidden(batch_size, device)\n",
    "\n",
    "for i, (inputs, labels) in enumerate(test_loader):\n",
    "    test_h = tuple([each.data for each in test_h])\n",
    "    try:\n",
    "        test_output, test_h = net(inputs.to(device), batch_size)\n",
    "    except IndexError:\n",
    "        print(inputs)\n",
    "#     print(labels.dtype, test_output.dtype)\n",
    "#     print(inputs)\n",
    "    loss = criterion(test_output.detach().to(device), labels.float().to(device))\n",
    "    test_losses.append(loss.item())\n",
    "    \n",
    "    preds = torch.round(test_output.squeeze())\n",
    "    correct_tensor = preds.eq(labels.float().view_as(preds).to(device))\n",
    "    correct = np.squeeze(correct_tensor.cpu().detach().numpy())\n",
    "    num_correct += np.sum(correct)\n",
    "    \n",
    "print(\"Test Loss: {:.4f}\".format(np.mean(test_losses)))\n",
    "print(\"Test Accuracy: {:.2f}\".format(num_correct/len(test_loader.dataset)))"
   ]
  },
  {
   "cell_type": "markdown",
   "metadata": {},
   "source": [
    "## Training classifier on Bengali embeddings"
   ]
  },
  {
   "cell_type": "code",
<<<<<<< HEAD
   "execution_count": 17,
=======
   "execution_count": null,
>>>>>>> origin/changes
   "metadata": {},
   "outputs": [
    {
     "name": "stderr",
     "output_type": "stream",
     "text": [
<<<<<<< HEAD
      "<ipython-input-17-7ce41e617dc0>:28: UserWarning: torch.nn.utils.clip_grad_norm is now deprecated in favor of torch.nn.utils.clip_grad_norm_.\n",
=======
      "<ipython-input-26-dc5aab19ce58>:23: UserWarning: torch.nn.utils.clip_grad_norm is now deprecated in favor of torch.nn.utils.clip_grad_norm_.\n",
>>>>>>> origin/changes
      "  nn.utils.clip_grad_norm(net.parameters(), clip)\n"
     ]
    },
    {
     "name": "stdout",
     "output_type": "stream",
     "text": [
<<<<<<< HEAD
      "Epoch: 1/100 Training Loss: 0.6911\n",
      "Epoch: 2/100 Training Loss: 0.6300\n",
      "Epoch: 3/100 Training Loss: 0.4340\n",
      "Epoch: 4/100 Training Loss: 0.2639\n",
      "Epoch: 5/100 Training Loss: 0.1620\n",
      "Epoch: 6/100 Training Loss: 0.1109\n",
      "Epoch: 7/100 Training Loss: 0.0776\n",
      "Epoch: 8/100 Training Loss: 0.0647\n",
      "Epoch: 9/100 Training Loss: 0.0513\n",
      "Epoch: 10/100 Training Loss: 0.0453\n",
      "Epoch: 11/100 Training Loss: 0.0417\n",
      "Epoch: 12/100 Training Loss: 0.0354\n",
      "Epoch: 13/100 Training Loss: 0.0276\n",
      "Epoch: 14/100 Training Loss: 0.0235\n",
      "Epoch: 15/100 Training Loss: 0.0219\n",
      "Epoch: 16/100 Training Loss: 0.0184\n",
      "Epoch: 17/100 Training Loss: 0.0135\n",
      "Epoch: 18/100 Training Loss: 0.0194\n",
      "Epoch: 19/100 Training Loss: 0.0140\n",
      "Epoch: 20/100 Training Loss: 0.0185\n",
      "Epoch: 21/100 Training Loss: 0.0224\n",
      "Epoch: 22/100 Training Loss: 0.0155\n",
      "Epoch: 23/100 Training Loss: 0.0146\n",
      "Epoch: 24/100 Training Loss: 0.0150\n",
      "Epoch: 25/100 Training Loss: 0.0155\n",
      "Epoch: 26/100 Training Loss: 0.0168\n",
      "Epoch: 27/100 Training Loss: 0.0111\n",
      "Epoch: 28/100 Training Loss: 0.0092\n",
      "Epoch: 29/100 Training Loss: 0.0092\n",
      "Epoch: 30/100 Training Loss: 0.0122\n",
      "Epoch: 31/100 Training Loss: 0.0069\n",
      "Epoch: 32/100 Training Loss: 0.0058\n",
      "Epoch: 33/100 Training Loss: 0.0115\n",
      "Epoch: 34/100 Training Loss: 0.0113\n",
      "Epoch: 35/100 Training Loss: 0.0159\n",
      "Epoch: 36/100 Training Loss: 0.0112\n",
      "Epoch: 37/100 Training Loss: 0.0098\n",
      "Epoch: 38/100 Training Loss: 0.0064\n",
      "Epoch: 39/100 Training Loss: 0.0065\n",
      "Epoch: 40/100 Training Loss: 0.0043\n",
      "Epoch: 41/100 Training Loss: 0.0060\n",
      "Epoch: 42/100 Training Loss: 0.0041\n",
      "Epoch: 43/100 Training Loss: 0.0055\n",
      "Epoch: 44/100 Training Loss: 0.0085\n",
      "Epoch: 45/100 Training Loss: 0.0066\n",
      "Epoch: 46/100 Training Loss: 0.0084\n",
      "Epoch: 47/100 Training Loss: 0.0077\n",
      "Epoch: 48/100 Training Loss: 0.0064\n",
      "Epoch: 49/100 Training Loss: 0.0055\n",
      "Epoch: 50/100 Training Loss: 0.0043\n",
      "Epoch: 51/100 Training Loss: 0.0081\n",
      "Epoch: 52/100 Training Loss: 0.0071\n",
      "Epoch: 53/100 Training Loss: 0.0054\n",
      "Epoch: 54/100 Training Loss: 0.0041\n",
      "Epoch: 55/100 Training Loss: 0.0070\n",
      "Epoch: 56/100 Training Loss: 0.0069\n",
      "Epoch: 57/100 Training Loss: 0.0061\n",
      "Epoch: 58/100 Training Loss: 0.0038\n",
      "Epoch: 59/100 Training Loss: 0.0052\n",
      "Epoch: 60/100 Training Loss: 0.0052\n",
      "Epoch: 61/100 Training Loss: 0.0050\n",
      "Epoch: 62/100 Training Loss: 0.0060\n",
      "Epoch: 63/100 Training Loss: 0.0051\n",
      "Epoch: 64/100 Training Loss: 0.0037\n",
      "Epoch: 65/100 Training Loss: 0.0055\n",
      "Epoch: 66/100 Training Loss: 0.0038\n",
      "Epoch: 67/100 Training Loss: 0.0068\n",
      "Epoch: 68/100 Training Loss: 0.0047\n",
      "Epoch: 69/100 Training Loss: 0.0053\n",
      "Epoch: 70/100 Training Loss: 0.0057\n",
      "Epoch: 71/100 Training Loss: 0.0046\n",
      "Epoch: 72/100 Training Loss: 0.0032\n",
      "Epoch: 73/100 Training Loss: 0.0046\n",
      "Epoch: 74/100 Training Loss: 0.0037\n",
      "Epoch: 75/100 Training Loss: 0.0051\n",
      "Epoch: 76/100 Training Loss: 0.0051\n",
      "Epoch: 77/100 Training Loss: 0.0031\n",
      "Epoch: 78/100 Training Loss: 0.0034\n",
      "Epoch: 79/100 Training Loss: 0.0025\n",
      "Epoch: 80/100 Training Loss: 0.0025\n",
      "Epoch: 81/100 Training Loss: 0.0029\n",
      "Epoch: 82/100 Training Loss: 0.0030\n",
      "Epoch: 83/100 Training Loss: 0.0032\n",
      "Epoch: 84/100 Training Loss: 0.0049\n",
      "Epoch: 85/100 Training Loss: 0.0027\n",
      "Epoch: 86/100 Training Loss: 0.0033\n",
      "Epoch: 87/100 Training Loss: 0.0030\n",
      "Epoch: 88/100 Training Loss: 0.0039\n",
      "Epoch: 89/100 Training Loss: 0.0044\n",
      "Epoch: 90/100 Training Loss: 0.0035\n",
      "Epoch: 91/100 Training Loss: 0.0024\n",
      "Epoch: 92/100 Training Loss: 0.0040\n",
      "Epoch: 93/100 Training Loss: 0.0033\n",
      "Epoch: 94/100 Training Loss: 0.0023\n",
      "Epoch: 95/100 Training Loss: 0.0024\n",
      "Epoch: 96/100 Training Loss: 0.0019\n",
      "Epoch: 97/100 Training Loss: 0.0028\n",
      "Epoch: 98/100 Training Loss: 0.0031\n",
      "Epoch: 99/100 Training Loss: 0.0027\n",
      "Epoch: 100/100 Training Loss: 0.0025\n",
      "Done\n"
     ]
    },
    {
     "data": {
      "image/png": "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\n",
      "text/plain": [
       "<Figure size 432x288 with 1 Axes>"
      ]
     },
     "metadata": {
      "needs_background": "light"
     },
     "output_type": "display_data"
    }
   ],
   "source": [
    "net, criterion = helper.initialize_SentimentLSTM_model_task3(len(bengali_V) + 1, batch_size, 600, 32, 1, 2, device)\n",
    "optimizer = torch.optim.Adam(net.parameters(), lr = 0.001, amsgrad=True)\n",
    "print_every = 100\n",
    "step = 0\n",
    "n_epochs = 100  # validation loss increases from ~ epoch 3 or 4\n",
=======
      "Epoch: 1/50 Training Loss: 0.6895\n",
      "Epoch: 2/50 Training Loss: 0.5946\n",
      "Epoch: 3/50 Training Loss: 0.3771\n",
      "Epoch: 4/50 Training Loss: 0.2356\n",
      "Epoch: 5/50 Training Loss: 0.1515\n",
      "Epoch: 6/50 Training Loss: 0.1064\n",
      "Epoch: 7/50 Training Loss: 0.0791\n",
      "Epoch: 8/50 Training Loss: 0.0661\n",
      "Epoch: 9/50 Training Loss: 0.0579\n",
      "Epoch: 10/50 Training Loss: 0.0411\n",
      "Epoch: 11/50 Training Loss: 0.0413\n",
      "Epoch: 12/50 Training Loss: 0.0342\n",
      "Epoch: 13/50 Training Loss: 0.0290\n",
      "Epoch: 14/50 Training Loss: 0.0206\n",
      "Epoch: 15/50 Training Loss: 0.0243\n",
      "Epoch: 16/50 Training Loss: 0.0210\n",
      "Epoch: 17/50 Training Loss: 0.0177\n",
      "Epoch: 18/50 Training Loss: 0.0166\n",
      "Epoch: 19/50 Training Loss: 0.0180\n",
      "Epoch: 20/50 Training Loss: 0.0222\n",
      "Epoch: 21/50 Training Loss: 0.0145\n",
      "Epoch: 22/50 Training Loss: 0.0177\n",
      "Epoch: 23/50 Training Loss: 0.0154\n",
      "Epoch: 24/50 Training Loss: 0.0098\n",
      "Epoch: 25/50 Training Loss: 0.0095\n",
      "Epoch: 26/50 Training Loss: 0.0088\n",
      "Epoch: 27/50 Training Loss: 0.0120\n",
      "Epoch: 28/50 Training Loss: 0.0094\n",
      "Epoch: 29/50 Training Loss: 0.0093\n",
      "Epoch: 30/50 Training Loss: 0.0103\n",
      "Epoch: 31/50 Training Loss: 0.0076\n",
      "Epoch: 32/50 Training Loss: 0.0106\n",
      "Epoch: 33/50 Training Loss: 0.0074\n",
      "Epoch: 34/50 Training Loss: 0.0075\n",
      "Epoch: 35/50 Training Loss: 0.0066\n",
      "Epoch: 36/50 Training Loss: 0.0086\n",
      "Epoch: 37/50 Training Loss: 0.0082\n",
      "Epoch: 38/50 Training Loss: 0.0063\n",
      "Epoch: 39/50 Training Loss: 0.0066\n",
      "Epoch: 40/50 Training Loss: 0.0046\n",
      "Epoch: 41/50 Training Loss: 0.0066\n",
      "Epoch: 42/50 Training Loss: 0.0073\n",
      "Epoch: 43/50 Training Loss: 0.0047\n",
      "Epoch: 44/50 Training Loss: 0.0094\n",
      "Epoch: 45/50 Training Loss: 0.0072\n",
      "Epoch: 46/50 Training Loss: 0.0080\n",
      "Epoch: 47/50 Training Loss: 0.0084\n",
      "Epoch: 48/50 Training Loss: 0.0065\n"
     ]
    }
   ],
   "source": [
    "net, criterion = helper.initialize_SentimentLSTM_model_task3(len(bengali_V) + 1, batch_size, embedding_size, 32, 1, 2, device)\n",
    "optimizer = torch.optim.Adam(net.parameters(), lr = 0.001, amsgrad=True)\n",
    "print_every = 100\n",
    "step = 0\n",
    "n_epochs = 50  # validation loss increases from ~ epoch 3 or 4\n",
>>>>>>> origin/changes
    "clip = 5  # for gradient clip to prevent exploding gradient problem in LSTM/RNN\n",
    "\n",
    "\n",
    "training_loss_epoches = []\n",
    "for epoch in range(n_epochs):\n",
    "    h = net.init_hidden(batch_size, device)\n",
    "    training_loss = []\n",
    "    for i, (inputs, labels) in enumerate(train_loader):\n",
    "        step += 1\n",
    "        inputs, labels = inputs.to(device), labels.to(device)\n",
    "        h = tuple([each.data for each in h])   \n",
    "        \n",
    "        net.zero_grad()\n",
    "        output, h = net(inputs, batch_size)\n",
    "        loss = criterion(output.squeeze(), labels.float())\n",
    "        loss.backward()\n",
    "        training_loss.append(loss.item())\n",
    "        nn.utils.clip_grad_norm(net.parameters(), clip)\n",
    "        optimizer.step()\n",
    "        \n",
    "#         if (step % print_every) == 0:            \n",
    "#             ######################\n",
    "#             ##### VALIDATION #####\n",
    "#             ######################\n",
    "#             net.eval()\n",
    "#             valid_losses = []\n",
    "#             v_h = net.init_hidden(batch_size, device)\n",
    "            \n",
    "#             for v_inputs, v_labels in valid_loader:\n",
    "#                 v_inputs, v_labels = inputs.to(device), labels.to(device)\n",
    "        \n",
    "#                 v_h = tuple([each.data for each in v_h])\n",
    "                \n",
    "#                 v_output, v_h = net(v_inputs, batch_size)\n",
    "#                 v_loss = criterion(v_output.squeeze(), v_labels.float())\n",
    "#                 valid_losses.append(v_loss.item())\n",
    "\n",
    "#             print(\"Epoch: {}/{}\".format((epoch+1), n_epochs),\n",
    "#                   \"Step: {}\".format(step),\n",
    "#                   \"Training Loss: {:.4f}\".format(loss.item()),\n",
    "#                   \"Validation Loss: {:.4f}\".format(np.mean(valid_losses)))\n",
    "#             net.train()\n",
    "    training_loss_epoches.append(np.mean(training_loss))\n",
    "    print(\"Epoch: {}/{}\".format((epoch+1), n_epochs),\n",
    "          \"Training Loss: {:.4f}\".format(np.mean(training_loss)))\n",
    "\n",
    "plt.plot(np.linspace(1, len(training_loss_epoches), len(training_loss_epoches)).astype(int), training_loss_epoches)\n",
<<<<<<< HEAD
    "plt.savefig(\"Task3_hindi.png\")\n",
=======
    "plt.savefig(\"Task3_bengali.png\")\n",
>>>>>>> origin/changes
    "print(\"Done\")"
   ]
  },
  {
   "cell_type": "code",
<<<<<<< HEAD
   "execution_count": 18,
=======
   "execution_count": 15,
>>>>>>> origin/changes
   "metadata": {},
   "outputs": [
    {
     "name": "stdout",
     "output_type": "stream",
     "text": [
<<<<<<< HEAD
      "Test Loss: 1.6809\n",
=======
      "Test Loss: 1.5006\n",
>>>>>>> origin/changes
      "Test Accuracy: 0.74\n"
     ]
    }
   ],
   "source": [
    "# import os \n",
    "# os.environ['CUDA_LAUNCH_BLOCKING'] = \"1\"\n",
    "net.eval()\n",
    "test_losses = []\n",
    "num_correct = 0\n",
    "test_h = net.init_hidden(batch_size, device)\n",
    "\n",
    "for i, (inputs, labels) in enumerate(test_loader):\n",
    "    test_h = tuple([each.data for each in test_h])\n",
    "    try:\n",
    "        test_output, test_h = net(inputs.to(device), batch_size)\n",
    "    except IndexError:\n",
    "        print(inputs)\n",
    "#     print(labels.dtype, test_output.dtype)\n",
    "#     print(inputs)\n",
    "    loss = criterion(test_output.detach().to(device), labels.float().to(device))\n",
    "    test_losses.append(loss.item())\n",
    "    \n",
    "    preds = torch.round(test_output.squeeze())\n",
    "    \n",
    "    \n",
    "    correct_tensor = preds.eq(labels.float().view_as(preds).to(device))\n",
    "    correct = np.squeeze(correct_tensor.cpu().detach().numpy())\n",
    "    num_correct += np.sum(correct)\n",
    "    \n",
    "print(\"Test Loss: {:.4f}\".format(np.mean(test_losses)))\n",
    "print(\"Test Accuracy: {:.2f}\".format(num_correct/len(test_loader.dataset)))"
   ]
  },
  {
<<<<<<< HEAD
=======
   "cell_type": "markdown",
   "metadata": {},
   "source": [
    "## Hyperopt Implementation\n",
    "### Note: Hyperopt was used for the selection of the model."
   ]
  },
  {
>>>>>>> origin/changes
   "cell_type": "code",
   "execution_count": null,
   "metadata": {},
   "outputs": [],
<<<<<<< HEAD
   "source": []
=======
   "source": [
    "def train_hyperopt(space)\n",
    "    learning_rate = space['learning_rate']\n",
    "    n_epochs = space['epochs']\n",
    "    optimizer = torch.optim.Adam(net.parameters(), lr = learning_rate, amsgrad=True)\n",
    "    clip = 5  # for gradient clip to prevent exploding gradient problem in LSTM/RNN\n",
    "    # device = 'cuda' if torch.cuda.is_available() else 'cpu'\n",
    "\n",
    "\n",
    "    training_loss_epoches = []\n",
    "    for epoch in range(n_epochs):\n",
    "        h = net.init_hidden(batch_size, device)\n",
    "        training_loss = []\n",
    "        for i, (inputs, labels) in enumerate(train_loader):\n",
    "            inputs, labels = inputs.to(device), labels.to(device)\n",
    "            h = tuple([each.data for each in h])\n",
    "            net.zero_grad()\n",
    "            output, h = net(inputs, batch_size)\n",
    "            loss = criterion(output.squeeze(), labels.float())\n",
    "            loss.backward()\n",
    "            training_loss.append(loss.item())\n",
    "            nn.utils.clip_grad_norm(net.parameters(), clip)\n",
    "            optimizer.step()\n",
    "            \n",
    "    net.eval()\n",
    "    valid_losses = []\n",
    "    v_h = net.init_hidden(batch_size, device)\n",
    "\n",
    "    for v_inputs, v_labels in valid_loader:\n",
    "        v_inputs, v_labels = inputs.to(device), labels.to(device)\n",
    "\n",
    "        v_h = tuple([each.data for each in v_h])\n",
    "\n",
    "        v_output, v_h = net(v_inputs, batch_size)\n",
    "        v_loss = criterion(v_output.squeeze(), v_labels.float())\n",
    "        valid_losses.append(v_loss.item())\n",
    "        \n",
    "        np.mean(valid_losses)\n",
    "        return {'loss': np.mean(valid_losses), 'model': net, 'status': STATUS_OK}\n",
    "\n",
    "space = {\n",
    "        'learning_rate': hp.quniform('learning_rate', 0.001, 0.04, 0.005),\n",
    "        'epochs': hp.quniform('epochs', 20, 200, 20),\n",
    "        'train': train_loader,\n",
    "        'y_train': y_train.to_numpy(),\n",
    "        'val': val_loader}\n",
    "\n",
    "    trials = Trials()\n",
    "    best = fmin(fn=train_hyperopt,\n",
    "                space=space,\n",
    "                algo=tpe.suggest,\n",
    "                max_evals=int(max_evals),\n",
    "                trials=trials)"
   ]
>>>>>>> origin/changes
  }
 ],
 "metadata": {
  "kernelspec": {
   "display_name": "Python 3",
   "language": "python",
   "name": "python3"
  },
  "language_info": {
   "codemirror_mode": {
    "name": "ipython",
    "version": 3
   },
   "file_extension": ".py",
   "mimetype": "text/x-python",
   "name": "python",
   "nbconvert_exporter": "python",
   "pygments_lexer": "ipython3",
   "version": "3.8.5"
  }
 },
 "nbformat": 4,
 "nbformat_minor": 4
}
