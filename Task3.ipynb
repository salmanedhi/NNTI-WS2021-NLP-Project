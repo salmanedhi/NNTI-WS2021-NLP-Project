{
 "cells": [
  {
   "cell_type": "code",
   "execution_count": 1,
   "metadata": {},
   "outputs": [
    {
     "name": "stdout",
     "output_type": "stream",
     "text": [
      "Done\n"
     ]
    }
   ],
   "source": [
    "# Imports\n",
    "import numpy as np\n",
    "import pandas as pd\n",
    "import nltk\n",
    "from nltk.corpus import stopwords\n",
    "import torch as torch\n",
    "from torch import nn\n",
    "from nltk.tokenize import word_tokenize\n",
    "import math as mt\n",
    "import time\n",
    "import random\n",
    "from joblib import Parallel, delayed\n",
    "from torch.autograd import Variable\n",
    "import matplotlib.pyplot as plt\n",
    "import torch.utils.data as data_utils\n",
    "from torch.utils.data import TensorDataset, DataLoader\n",
    "from sklearn.utils import shuffle\n",
    "import helper\n",
    "print(\"Done\")"
   ]
  },
  {
   "cell_type": "markdown",
   "metadata": {},
   "source": [
    "# Task 3.1: Classifier on Hindi Data"
   ]
  },
  {
   "cell_type": "code",
   "execution_count": 2,
   "metadata": {},
   "outputs": [
    {
     "name": "stdout",
     "output_type": "stream",
     "text": [
      "Done cuda:0\n"
     ]
    }
   ],
   "source": [
    "# Reading Hindi Data\n",
    "\n",
    "if torch.cuda.is_available():\n",
    "    device = \"cuda:0\"\n",
    "    dev = \"cuda:0\"\n",
    "else:\n",
    "    device = \"cpu\"\n",
    "    dev = \"cpu\"\n",
    "    \n",
    "url = 'data/hindi_hatespeech.tsv'\n",
    "data = pd.read_csv(url, sep='\\t')\n",
    "    \n",
    "data_development = shuffle(data)\n",
    "labels = data_development['task_2']\n",
    "# data_development = data\n",
    "type(data_development['task_1'])\n",
    "\n",
    "print(\"Done\", device)"
   ]
  },
  {
   "cell_type": "code",
   "execution_count": 3,
   "metadata": {},
   "outputs": [
    {
     "name": "stdout",
     "output_type": "stream",
     "text": [
      "Number of sentences:  4665\n",
      "Total words: 141550\n",
      "Unique words: 19836\n"
     ]
    }
   ],
   "source": [
    "#Removing stop words\n",
    "sentences = helper.apply_stopword_removal(data_development)\n",
    "print(\"Number of sentences: \" , len(sentences))\n",
    "\n",
    "#Building Vocabulary\n",
    "V, non_unique = helper.build_vocabulary(sentences)\n",
    "print('Total words:', len(non_unique))\n",
    "print('Unique words:', len(V))\n",
    "embedding_size = 640"
   ]
  },
  {
   "cell_type": "code",
   "execution_count": 4,
   "metadata": {},
   "outputs": [
    {
     "name": "stdout",
     "output_type": "stream",
     "text": [
      "Word2Vec(\n",
      "  (fc1): Linear(in_features=19836, out_features=640, bias=True)\n",
      "  (fc2): Linear(in_features=640, out_features=19836, bias=True)\n",
      ")\n",
      "torch.Size([19837, 640]) torch.Size([640, 19836])\n"
     ]
    }
   ],
   "source": [
    "#Load Word2Vec Hindi embeddings module\n",
    "weights1, weights2 = helper.load_word2vec_embeddings('model_param_hindi', device, len(V), embedding_size)\n",
    "#weights1 contain the trained embedding weights from task1\n",
    "print(weights1.shape, weights2.shape)"
   ]
  },
  {
   "cell_type": "markdown",
   "metadata": {},
   "source": [
    "### Create Dataset"
   ]
  },
  {
   "cell_type": "code",
   "execution_count": 5,
   "metadata": {},
   "outputs": [
    {
     "name": "stdout",
     "output_type": "stream",
     "text": [
      "Padded Data Shape:  (4665, 132)\n",
      "Encoded Labels Shape:  (4665,)\n"
     ]
    }
   ],
   "source": [
    "## create number array of sentences (replace each word with each numeric value)\n",
    "x_data, max_len_curr = helper.sentence_to_numeric_arr(sentences, V)\n",
    "\n",
    "## apply padding\n",
    "padded = np.array(helper.padding(x_data, max_len_curr))\n",
    "\n",
    "print(\"Padded Data Shape: \", padded.shape)\n",
    "encoded_labels = [0 if label == \"NONE\" else 1 for label in labels]\n",
    "encoded_labels = np.array(encoded_labels)\n",
    "print(\"Encoded Labels Shape: \",encoded_labels.shape)"
   ]
  },
  {
   "cell_type": "code",
   "execution_count": 6,
   "metadata": {},
   "outputs": [
    {
     "name": "stdout",
     "output_type": "stream",
     "text": [
      "Done\n"
     ]
    }
   ],
   "source": [
    "#split data into train & test set\n",
    "batch_size = 64\n",
    "train_loader, test_loader = helper.split_data_train_valid_test(padded, encoded_labels, batch_size)\n",
    "print(\"Done\")"
   ]
  },
  {
   "cell_type": "markdown",
   "metadata": {},
   "source": [
    "## Training Hindi Classfier\n"
   ]
  },
  {
   "cell_type": "code",
   "execution_count": 7,
   "metadata": {},
   "outputs": [
    {
     "name": "stderr",
     "output_type": "stream",
     "text": [
      "<ipython-input-7-04a06d16b05a>:26: UserWarning: torch.nn.utils.clip_grad_norm is now deprecated in favor of torch.nn.utils.clip_grad_norm_.\n",
      "  nn.utils.clip_grad_norm(net.parameters(), clip)\n"
     ]
    },
    {
     "name": "stdout",
     "output_type": "stream",
     "text": [
      "Epoch: 1/20 Training Loss: 0.6797\n",
      "Epoch: 2/20 Training Loss: 0.4752\n",
      "Epoch: 3/20 Training Loss: 0.2064\n",
      "Epoch: 4/20 Training Loss: 0.0895\n",
      "Epoch: 5/20 Training Loss: 0.0495\n",
      "Epoch: 6/20 Training Loss: 0.0312\n",
      "Epoch: 7/20 Training Loss: 0.0305\n",
      "Epoch: 8/20 Training Loss: 0.0195\n",
      "Epoch: 9/20 Training Loss: 0.0235\n",
      "Epoch: 10/20 Training Loss: 0.0157\n",
      "Epoch: 11/20 Training Loss: 0.0118\n",
      "Epoch: 12/20 Training Loss: 0.0098\n",
      "Epoch: 13/20 Training Loss: 0.0099\n",
      "Epoch: 14/20 Training Loss: 0.0111\n",
      "Epoch: 15/20 Training Loss: 0.0078\n",
      "Epoch: 16/20 Training Loss: 0.0102\n",
      "Epoch: 17/20 Training Loss: 0.0098\n",
      "Epoch: 18/20 Training Loss: 0.0057\n",
      "Epoch: 19/20 Training Loss: 0.0059\n",
      "Epoch: 20/20 Training Loss: 0.0052\n",
      "Done\n"
     ]
    },
    {
     "data": {
      "image/png": "[encoded data removed]",
      "text/plain": [
       "<Figure size 432x288 with 1 Axes>"
      ]
     },
     "metadata": {
      "needs_background": "light"
     },
     "output_type": "display_data"
    }
   ],
   "source": [
    "# Initialize LSTM Model\n",
    "net, criterion = helper.initialize_SentimentLSTM_model_task3(len(V) + 1, batch_size, embedding_size, 32, 1, 2, device, weights1)\n",
    "\n",
    "optimizer = torch.optim.Adam(net.parameters(), lr = 0.001, amsgrad=True)\n",
    "print_every = 100\n",
    "step = 0\n",
    "n_epochs = 20\n",
    "clip = 5  # for gradient clip to prevent exploding gradient problem in LSTM\n",
    "\n",
    "\n",
    "training_loss_epoches = []\n",
    "for epoch in range(n_epochs):\n",
    "    h = net.init_hidden(batch_size, device)\n",
    "    training_loss = []\n",
    "    for i, (inputs, labels) in enumerate(train_loader):\n",
    "        step += 1\n",
    "        inputs, labels = inputs.to(device), labels.to(device)\n",
    "        # making requires_grad = False for the latest set of h\n",
    "        h = tuple([each.data for each in h])   \n",
    "        \n",
    "        net.zero_grad()\n",
    "        output, h = net(inputs, batch_size)\n",
    "        loss = criterion(output.squeeze(), labels.float())\n",
    "        loss.backward()\n",
    "        training_loss.append(loss.item())\n",
    "        nn.utils.clip_grad_norm(net.parameters(), clip)\n",
    "        optimizer.step()\n",
    "        \n",
    "#         if (step % print_every) == 0:            \n",
    "#             ######################\n",
    "#             ##### VALIDATION #####\n",
    "#             ######################\n",
    "#             net.eval()\n",
    "#             valid_losses = []\n",
    "#             v_h = net.init_hidden(batch_size, device)\n",
    "            \n",
    "#             for v_inputs, v_labels in valid_loader:\n",
    "#                 v_inputs, v_labels = inputs.to(device), labels.to(device)\n",
    "        \n",
    "#                 v_h = tuple([each.data for each in v_h])\n",
    "                \n",
    "#                 v_output, v_h = net(v_inputs, batch_size)\n",
    "#                 v_loss = criterion(v_output.squeeze(), v_labels.float())\n",
    "#                 valid_losses.append(v_loss.item())\n",
    "\n",
    "#             print(\"Epoch: {}/{}\".format((epoch+1), n_epochs),\n",
    "#                   \"Step: {}\".format(step),\n",
    "#                   \"Training Loss: {:.4f}\".format(loss.item()),\n",
    "#                   \"Validation Loss: {:.4f}\".format(np.mean(valid_losses)))\n",
    "#             net.train()\n",
    "    training_loss_epoches.append(np.mean(training_loss))\n",
    "    print(\"Epoch: {}/{}\".format((epoch+1), n_epochs),\n",
    "          \"Training Loss: {:.4f}\".format(np.mean(training_loss)))\n",
    "plt.plot(np.linspace(1, len(training_loss_epoches), len(training_loss_epoches)).astype(int), training_loss_epoches)\n",
    "plt.savefig('Task3_hindi.png') \n",
    "    \n",
    "print(\"Done\")"
   ]
  },
  {
   "cell_type": "markdown",
   "metadata": {},
   "source": [
    "## Testing Hindi Classifier"
   ]
  },
  {
   "cell_type": "code",
   "execution_count": 9,
   "metadata": {},
   "outputs": [
    {
     "name": "stdout",
     "output_type": "stream",
     "text": [
      "Test Loss: 1.1328\n",
      "Test Accuracy: 0.72\n"
     ]
    }
   ],
   "source": [
    "net.eval()\n",
    "test_losses = []\n",
    "num_correct = 0\n",
    "test_h = net.init_hidden(batch_size, device)\n",
    "\n",
    "for i, (inputs, labels) in enumerate(test_loader):\n",
    "    test_h = tuple([each.data for each in test_h])\n",
    "    try:\n",
    "        test_output, test_h = net(inputs.to(device), batch_size)\n",
    "    except IndexError:\n",
    "        print(inputs)\n",
    "#     print(labels.dtype, test_output.dtype)\n",
    "#     print(inputs)\n",
    "    loss = criterion(test_output.detach().to(device), labels.float().to(device))\n",
    "    test_losses.append(loss.item())\n",
    "    \n",
    "    preds = torch.round(test_output.squeeze())\n",
    "    correct_tensor = preds.eq(labels.float().view_as(preds).to(device))\n",
    "    correct = np.squeeze(correct_tensor.cpu().detach().numpy())\n",
    "    num_correct += np.sum(correct)\n",
    "    \n",
    "print(\"Test Loss: {:.4f}\".format(np.mean(test_losses)))\n",
    "print(\"Test Accuracy: {:.2f}\".format(num_correct/len(test_loader.dataset)))"
   ]
  },
  {
   "cell_type": "markdown",
   "metadata": {},
   "source": [
    "# Task 3.2: Testing Bengali Data on Hindi Classifier (Transfer Learning)"
   ]
  },
  {
   "cell_type": "code",
   "execution_count": 25,
   "metadata": {},
   "outputs": [
    {
     "name": "stdout",
     "output_type": "stream",
     "text": [
      "(4665, 3) (4665,)\n",
      "Number of sentences:  4665\n",
      "Total words: 64027\n",
      "Unique words: 14482\n",
      "<class 'numpy.ndarray'> <class 'numpy.ndarray'>\n",
      "Done\n"
     ]
    }
   ],
   "source": [
    "#Reading Bengali data\n",
    "bengali_data, labels = helper.get_bengali_data('data/bengali_hatespeech.csv')\n",
    "\n",
    "print(bengali_data.shape, labels.shape)\n",
    "bengali_sentences = helper.apply_stopword_removal(bengali_data)\n",
    "print(\"Number of sentences: \" , len(bengali_sentences))\n",
    "\n",
    "## Building Vocabulary\n",
    "bengali_V, bengali_non_unique = helper.build_vocabulary(bengali_sentences)\n",
    "print('Total words:', len(bengali_non_unique))\n",
    "print('Unique words:', len(bengali_V))\n",
    "\n",
    "## Sentence to numeric array\n",
    "x_data_bengali, max_len_curr = helper.sentence_to_numeric_arr(bengali_sentences, bengali_V)\n",
    "\n",
    "## Apply Padding\n",
    "padded = np.array(helper.padding(x_data_bengali, max_len_curr))\n",
    "\n",
    "## Splitting data into train and test\n",
    "train_loader, test_loader = helper.split_data_train_valid_test(padded, labels, 64)\n",
    "print(\"Done\")"
   ]
  },
  {
   "cell_type": "markdown",
   "metadata": {},
   "source": [
    "### Training Classifier on Bengali data with trained Hindi embeddings (Transfer Learning)"
   ]
  },
  {
   "cell_type": "code",
   "execution_count": 12,
   "metadata": {},
   "outputs": [
    {
     "name": "stderr",
     "output_type": "stream",
     "text": [
      "<ipython-input-12-fcf209974ed7>:25: UserWarning: torch.nn.utils.clip_grad_norm is now deprecated in favor of torch.nn.utils.clip_grad_norm_.\n",
      "  nn.utils.clip_grad_norm(net.parameters(), clip)\n"
     ]
    },
    {
     "name": "stdout",
     "output_type": "stream",
     "text": [
      "Epoch: 1/30 Training Loss: 0.6884\n",
      "Epoch: 2/30 Training Loss: 0.5121\n",
      "Epoch: 3/30 Training Loss: 0.2281\n",
      "Epoch: 4/30 Training Loss: 0.1111\n",
      "Epoch: 5/30 Training Loss: 0.0707\n",
      "Epoch: 6/30 Training Loss: 0.0484\n",
      "Epoch: 7/30 Training Loss: 0.0410\n",
      "Epoch: 8/30 Training Loss: 0.0292\n",
      "Epoch: 9/30 Training Loss: 0.0208\n",
      "Epoch: 10/30 Training Loss: 0.0159\n",
      "Epoch: 11/30 Training Loss: 0.0127\n",
      "Epoch: 12/30 Training Loss: 0.0115\n",
      "Epoch: 13/30 Training Loss: 0.0080\n",
      "Epoch: 14/30 Training Loss: 0.0071\n",
      "Epoch: 15/30 Training Loss: 0.0064\n",
      "Epoch: 16/30 Training Loss: 0.0058\n",
      "Epoch: 17/30 Training Loss: 0.0051\n",
      "Epoch: 18/30 Training Loss: 0.0052\n",
      "Epoch: 19/30 Training Loss: 0.0047\n",
      "Epoch: 20/30 Training Loss: 0.0063\n",
      "Epoch: 21/30 Training Loss: 0.0038\n",
      "Epoch: 22/30 Training Loss: 0.0035\n",
      "Epoch: 23/30 Training Loss: 0.0082\n",
      "Epoch: 24/30 Training Loss: 0.0251\n",
      "Epoch: 25/30 Training Loss: 0.0184\n",
      "Epoch: 26/30 Training Loss: 0.0187\n",
      "Epoch: 27/30 Training Loss: 0.0111\n",
      "Epoch: 28/30 Training Loss: 0.0066\n",
      "Epoch: 29/30 Training Loss: 0.0042\n",
      "Epoch: 30/30 Training Loss: 0.0049\n",
      "Done\n"
     ]
    },
    {
     "data": {
      "image/png": "[encoded data removed]",
      "text/plain": [
       "<Figure size 432x288 with 1 Axes>"
      ]
     },
     "metadata": {
      "needs_background": "light"
     },
     "output_type": "display_data"
    }
   ],
   "source": [
    "net, criterion = helper.initialize_SentimentLSTM_model_task3_bengali(len(V) + 1, batch_size, embedding_size, 32, 1, 2, device, weights1)\n",
    "optimizer = torch.optim.Adam(net.parameters(), lr = 0.001, amsgrad=True)\n",
    "print_every = 100\n",
    "step = 0\n",
    "n_epochs = 30  # validation loss increases from ~ epoch 3 or 4\n",
    "clip = 5  # for gradient clip to prevent exploding gradient problem in LSTM/RNN\n",
    "\n",
    "\n",
    "training_loss_epoches = []\n",
    "for epoch in range(n_epochs):\n",
    "    h = net.init_hidden(batch_size, device)\n",
    "    training_loss = []\n",
    "    for i, (inputs, labels) in enumerate(train_loader):\n",
    "        step += 1\n",
    "        inputs, labels = inputs.to(device), labels.to(device)\n",
    "#         print(i, inputs.shape, labels.shape)\n",
    "        # making requires_grad = False for the latest set of h\n",
    "        h = tuple([each.data for each in h])   \n",
    "        \n",
    "        net.zero_grad()\n",
    "        output, h = net(inputs, batch_size)\n",
    "        loss = criterion(output.squeeze(), labels.float())\n",
    "        loss.backward()\n",
    "        training_loss.append(loss.item())\n",
    "        nn.utils.clip_grad_norm(net.parameters(), clip)\n",
    "        optimizer.step()\n",
    "        \n",
    "#         if (step % print_every) == 0:            \n",
    "#             ######################\n",
    "#             ##### VALIDATION #####\n",
    "#             ######################\n",
    "#             net.eval()\n",
    "#             valid_losses = []\n",
    "#             v_h = net.init_hidden(batch_size, device)\n",
    "            \n",
    "#             for v_inputs, v_labels in valid_loader:\n",
    "#                 v_inputs, v_labels = inputs.to(device), labels.to(device)\n",
    "        \n",
    "#                 v_h = tuple([each.data for each in v_h])\n",
    "                \n",
    "#                 v_output, v_h = net(v_inputs, batch_size)\n",
    "#                 v_loss = criterion(v_output.squeeze(), v_labels.float())\n",
    "#                 valid_losses.append(v_loss.item())\n",
    "\n",
    "#             print(\"Epoch: {}/{}\".format((epoch+1), n_epochs),\n",
    "#                   \"Step: {}\".format(step),\n",
    "#                   \"Training Loss: {:.4f}\".format(loss.item()),\n",
    "#                   \"Validation Loss: {:.4f}\".format(np.mean(valid_losses)))\n",
    "#             net.train()\n",
    "    training_loss_epoches.append(np.mean(training_loss))\n",
    "    print(\"Epoch: {}/{}\".format((epoch+1), n_epochs),\n",
    "          \"Training Loss: {:.4f}\".format(np.mean(training_loss)))\n",
    "\n",
    "plt.plot(np.linspace(1, len(training_loss_epoches), len(training_loss_epoches)).astype(int), training_loss_epoches)\n",
    "plt.savefig(\"Task3_transfer_learning.png\")\n",
    "print(\"Done\")"
   ]
  },
  {
   "cell_type": "markdown",
   "metadata": {},
   "source": [
    "### Testing Classifier"
   ]
  },
  {
   "cell_type": "code",
   "execution_count": 13,
   "metadata": {},
   "outputs": [
    {
     "name": "stdout",
     "output_type": "stream",
     "text": [
      "Test Loss: 1.5072\n",
      "Test Accuracy: 0.75\n"
     ]
    }
   ],
   "source": [
    "net.eval()\n",
    "\n",
    "test_losses = []\n",
    "num_correct = 0\n",
    "test_h = net.init_hidden(batch_size, device)\n",
    "\n",
    "for i, (inputs, labels) in enumerate(test_loader):\n",
    "    test_h = tuple([each.data for each in test_h])\n",
    "    try:\n",
    "        test_output, test_h = net(inputs.to(device), batch_size)\n",
    "    except IndexError:\n",
    "        print(inputs)\n",
    "#     print(labels.dtype, test_output.dtype)\n",
    "#     print(inputs)\n",
    "    loss = criterion(test_output.detach().to(device), labels.float().to(device))\n",
    "    test_losses.append(loss.item())\n",
    "    \n",
    "    preds = torch.round(test_output.squeeze())\n",
    "    correct_tensor = preds.eq(labels.float().view_as(preds).to(device))\n",
    "    correct = np.squeeze(correct_tensor.cpu().detach().numpy())\n",
    "    num_correct += np.sum(correct)\n",
    "    \n",
    "print(\"Test Loss: {:.4f}\".format(np.mean(test_losses)))\n",
    "print(\"Test Accuracy: {:.2f}\".format(num_correct/len(test_loader.dataset)))"
   ]
  },
  {
   "cell_type": "markdown",
   "metadata": {},
   "source": [
    "# Task 3.3: Training classifier on Bengali embeddings"
   ]
  },
  {
   "cell_type": "code",
   "execution_count": null,
   "metadata": {},
   "outputs": [],
   "source": [
    "#Reading Bengali Data\n",
    "bengali_data = pd.read_csv('data/bengali_hatespeech.csv')\n",
    "\n",
    "bengali_data_hate = bengali_data.loc[bengali_data['hate'] == 1]\n",
    "bengali_data_not_hate = bengali_data.loc[bengali_data['hate'] == 0]\n",
    "\n",
    "bengali_data_hate = bengali_data_hate.iloc[0:2332] \n",
    "bengali_data_not_hate = bengali_data_not_hate.iloc[0:2333]\n",
    "\n",
    "data_development = pd.concat([bengali_data_hate, bengali_data_not_hate])\n",
    "data_development = shuffle(data_development)\n",
    "data_development.columns = [\"text\", \"hate\", \"category\"]\n",
    "\n",
    "labels = data_development['hate']\n",
    "labels = np.array(labels)\n",
    "\n",
    "#Removing stop words\n",
    "sentences = helper.apply_stopword_removal(data_development)\n",
    "print(\"Number of sentences: \" , len(sentences))\n",
    "\n",
    "#Building Vocabulary\n",
    "V, non_unique = helper.build_vocabulary(sentences)\n",
    "print('Total words:', len(non_unique))\n",
    "print('Unique words:', len(V))"
   ]
  },
  {
   "cell_type": "code",
   "execution_count": null,
   "metadata": {},
   "outputs": [],
   "source": [
    "# Hyperparameters\n",
    "window_size = 4\n",
    "embedding_size = 640\n",
    "learning_rate = 0.001\n",
    "epochs =100"
   ]
  },
  {
   "cell_type": "code",
   "execution_count": null,
   "metadata": {},
   "outputs": [],
   "source": [
    "# Create model \n",
    "\n",
    "class Word2Vec(nn.Module):\n",
    "    def __init__(self, features, embedding_size):\n",
    "        super().__init__()\n",
    "        self.fc1 = nn.Linear(features, embedding_size)\n",
    "        self.fc2 = nn.Linear(embedding_size, features)\n",
    "\n",
    "\n",
    "    def forward(self, one_hot):\n",
    "        x = self.fc1(one_hot.float())\n",
    "        x = self.fc2(x)\n",
    "        log_softmax = torch.nn.functional.log_softmax(x, dim=1)\n",
    "        return log_softmax\n",
    "\n",
    "print(\"Done\")"
   ]
  },
  {
   "cell_type": "code",
   "execution_count": null,
   "metadata": {},
   "outputs": [],
   "source": [
    "#Creating target, context tuple\n",
    "x_train, y_train = helper.create_dataset(sentences, non_unique, V, window_size)\n",
    "print(x_train.shape)"
   ]
  },
  {
   "cell_type": "code",
   "execution_count": null,
   "metadata": {},
   "outputs": [],
   "source": [
    "x_train = np.load('x_train_bengali.npy')\n",
    "y_train = np.load('y_train_bengali.npy')"
   ]
  },
  {
   "cell_type": "code",
   "execution_count": null,
   "metadata": {},
   "outputs": [],
   "source": [
    "batch_size = 1000\n",
    "x_train = torch.from_numpy(x_train)\n",
    "y_train = torch.from_numpy(y_train)\n",
    "x_train = data_utils.TensorDataset(x_train, y_train)\n",
    "train_dl = DataLoader(x_train, batch_size=batch_size, shuffle=True)\n",
    "features = len(V)\n",
    "total_rows = len(y_train)\n",
    "print(total_rows)"
   ]
  },
  {
   "cell_type": "markdown",
   "metadata": {},
   "source": [
    "### Training Bengali Embeddings"
   ]
  },
  {
   "cell_type": "code",
   "execution_count": null,
   "metadata": {},
   "outputs": [],
   "source": [
    "# Define optimizer and loss\n",
    "net = Word2Vec(len(V), embedding_size)\n",
    "net.to(dev)\n",
    "optimizer = torch.optim.Adam(net.parameters(), lr=0.01)\n",
    "criterion = nn.NLLLoss()\n",
    "\n",
    "def train():\n",
    "    print(\"Started:\")\n",
    "    loss_vals=  []\n",
    "    for e in range(epochs):\n",
    "        epoch_loss= []\n",
    "        for i, (X_batch, y_batch) in enumerate(train_dl):\n",
    "            X_batch = np.eye(len(V))[X_batch]\n",
    "            y_batch = np.eye(len(V))[y_batch]\n",
    "            X_batch = torch.Tensor(X_batch).to(dev)\n",
    "            y_batch = torch.Tensor(y_batch).to(dev)\n",
    "            y_pred_torch = net(X_batch)\n",
    "            loss = criterion(y_pred_torch, torch.max(torch.tensor(y_batch), 1)[1])\n",
    "            optimizer.zero_grad()\n",
    "            loss.backward()\n",
    "            epoch_loss.append(loss.item())\n",
    "            optimizer.step()\n",
    "        loss_vals.append(sum(epoch_loss)/len(epoch_loss))\n",
    "        print('Epoch:', e,'\\tLoss:',loss_vals[e])\n",
    "#         break\n",
    "    plt.plot(np.linspace(1, epochs, epochs).astype(int), loss_vals)\n",
    "    plt.savefig('Task1_benali.png')\n",
    "    torch.save(net.state_dict(), 'model_param_bengali')\n",
    "train()\n",
    "\n",
    "print(\"Training finished\")"
   ]
  },
  {
   "cell_type": "code",
   "execution_count": null,
   "metadata": {},
   "outputs": [],
   "source": [
    "#Load Word2Vec embeddings module\n",
    "weights1, weights2 = helper.load_word2vec_embeddings('model_param_bengali', device, len(bengali_V), embedding_size)\n",
    "#weights1 contain the trained embedding weights from task1\n",
    "print(weights1.shape, weights2.shape)"
   ]
  },
  {
   "cell_type": "markdown",
   "metadata": {},
   "source": [
    "### Training Classifier"
   ]
  },
  {
   "cell_type": "code",
   "execution_count": null,
   "metadata": {},
   "outputs": [
    {
     "name": "stderr",
     "output_type": "stream",
     "text": [
      "<ipython-input-26-dc5aab19ce58>:23: UserWarning: torch.nn.utils.clip_grad_norm is now deprecated in favor of torch.nn.utils.clip_grad_norm_.\n",
      "  nn.utils.clip_grad_norm(net.parameters(), clip)\n"
     ]
    },
    {
     "name": "stdout",
     "output_type": "stream",
     "text": [
      "Epoch: 1/50 Training Loss: 0.6895\n",
      "Epoch: 2/50 Training Loss: 0.5946\n",
      "Epoch: 3/50 Training Loss: 0.3771\n",
      "Epoch: 4/50 Training Loss: 0.2356\n",
      "Epoch: 5/50 Training Loss: 0.1515\n",
      "Epoch: 6/50 Training Loss: 0.1064\n",
      "Epoch: 7/50 Training Loss: 0.0791\n",
      "Epoch: 8/50 Training Loss: 0.0661\n",
      "Epoch: 9/50 Training Loss: 0.0579\n",
      "Epoch: 10/50 Training Loss: 0.0411\n",
      "Epoch: 11/50 Training Loss: 0.0413\n",
      "Epoch: 12/50 Training Loss: 0.0342\n",
      "Epoch: 13/50 Training Loss: 0.0290\n",
      "Epoch: 14/50 Training Loss: 0.0206\n",
      "Epoch: 15/50 Training Loss: 0.0243\n",
      "Epoch: 16/50 Training Loss: 0.0210\n",
      "Epoch: 17/50 Training Loss: 0.0177\n",
      "Epoch: 18/50 Training Loss: 0.0166\n",
      "Epoch: 19/50 Training Loss: 0.0180\n",
      "Epoch: 20/50 Training Loss: 0.0222\n",
      "Epoch: 21/50 Training Loss: 0.0145\n",
      "Epoch: 22/50 Training Loss: 0.0177\n",
      "Epoch: 23/50 Training Loss: 0.0154\n",
      "Epoch: 24/50 Training Loss: 0.0098\n",
      "Epoch: 25/50 Training Loss: 0.0095\n",
      "Epoch: 26/50 Training Loss: 0.0088\n",
      "Epoch: 27/50 Training Loss: 0.0120\n",
      "Epoch: 28/50 Training Loss: 0.0094\n",
      "Epoch: 29/50 Training Loss: 0.0093\n",
      "Epoch: 30/50 Training Loss: 0.0103\n",
      "Epoch: 31/50 Training Loss: 0.0076\n",
      "Epoch: 32/50 Training Loss: 0.0106\n",
      "Epoch: 33/50 Training Loss: 0.0074\n",
      "Epoch: 34/50 Training Loss: 0.0075\n",
      "Epoch: 35/50 Training Loss: 0.0066\n",
      "Epoch: 36/50 Training Loss: 0.0086\n",
      "Epoch: 37/50 Training Loss: 0.0082\n",
      "Epoch: 38/50 Training Loss: 0.0063\n",
      "Epoch: 39/50 Training Loss: 0.0066\n",
      "Epoch: 40/50 Training Loss: 0.0046\n",
      "Epoch: 41/50 Training Loss: 0.0066\n",
      "Epoch: 42/50 Training Loss: 0.0073\n",
      "Epoch: 43/50 Training Loss: 0.0047\n",
      "Epoch: 44/50 Training Loss: 0.0094\n",
      "Epoch: 45/50 Training Loss: 0.0072\n",
      "Epoch: 46/50 Training Loss: 0.0080\n",
      "Epoch: 47/50 Training Loss: 0.0084\n",
      "Epoch: 48/50 Training Loss: 0.0065\n"
     ]
    }
   ],
   "source": [
    "net, criterion = helper.initialize_SentimentLSTM_model_task3_bengali(len(bengali_V) + 1, batch_size, embedding_size, 32, 1, 2, device, weights1)\n",
    "optimizer = torch.optim.Adam(net.parameters(), lr = 0.001, amsgrad=True)\n",
    "print_every = 100\n",
    "step = 0\n",
    "n_epochs = 50 \n",
    "clip = 5  # for gradient clip to prevent exploding gradient problem in LSTM\n",
    "\n",
    "\n",
    "training_loss_epoches = []\n",
    "for epoch in range(n_epochs):\n",
    "    h = net.init_hidden(batch_size, device)\n",
    "    training_loss = []\n",
    "    for i, (inputs, labels) in enumerate(train_loader):\n",
    "        step += 1\n",
    "        inputs, labels = inputs.to(device), labels.to(device)\n",
    "        h = tuple([each.data for each in h])   \n",
    "        \n",
    "        net.zero_grad()\n",
    "        output, h = net(inputs, batch_size)\n",
    "        loss = criterion(output.squeeze(), labels.float())\n",
    "        loss.backward()\n",
    "        training_loss.append(loss.item())\n",
    "        nn.utils.clip_grad_norm(net.parameters(), clip)\n",
    "        optimizer.step()\n",
    "        \n",
    "#         if (step % print_every) == 0:            \n",
    "#             ######################\n",
    "#             ##### VALIDATION #####\n",
    "#             ######################\n",
    "#             net.eval()\n",
    "#             valid_losses = []\n",
    "#             v_h = net.init_hidden(batch_size, device)\n",
    "            \n",
    "#             for v_inputs, v_labels in valid_loader:\n",
    "#                 v_inputs, v_labels = inputs.to(device), labels.to(device)\n",
    "        \n",
    "#                 v_h = tuple([each.data for each in v_h])\n",
    "                \n",
    "#                 v_output, v_h = net(v_inputs, batch_size)\n",
    "#                 v_loss = criterion(v_output.squeeze(), v_labels.float())\n",
    "#                 valid_losses.append(v_loss.item())\n",
    "\n",
    "#             print(\"Epoch: {}/{}\".format((epoch+1), n_epochs),\n",
    "#                   \"Step: {}\".format(step),\n",
    "#                   \"Training Loss: {:.4f}\".format(loss.item()),\n",
    "#                   \"Validation Loss: {:.4f}\".format(np.mean(valid_losses)))\n",
    "#             net.train()\n",
    "    training_loss_epoches.append(np.mean(training_loss))\n",
    "    print(\"Epoch: {}/{}\".format((epoch+1), n_epochs),\n",
    "          \"Training Loss: {:.4f}\".format(np.mean(training_loss)))\n",
    "\n",
    "plt.plot(np.linspace(1, len(training_loss_epoches), len(training_loss_epoches)).astype(int), training_loss_epoches)\n",
    "plt.savefig(\"Task3_bengali.png\")\n",
    "print(\"Done\")"
   ]
  },
  {
   "cell_type": "markdown",
   "metadata": {},
   "source": [
    "### Testing Classifier"
   ]
  },
  {
   "cell_type": "code",
   "execution_count": 15,
   "metadata": {},
   "outputs": [
    {
     "name": "stdout",
     "output_type": "stream",
     "text": [
      "Test Loss: 1.5006\n",
      "Test Accuracy: 0.74\n"
     ]
    }
   ],
   "source": [
    "# import os \n",
    "# os.environ['CUDA_LAUNCH_BLOCKING'] = \"1\"\n",
    "net.eval()\n",
    "test_losses = []\n",
    "num_correct = 0\n",
    "test_h = net.init_hidden(batch_size, device)\n",
    "\n",
    "for i, (inputs, labels) in enumerate(test_loader):\n",
    "    test_h = tuple([each.data for each in test_h])\n",
    "    try:\n",
    "        test_output, test_h = net(inputs.to(device), batch_size)\n",
    "    except IndexError:\n",
    "        print(inputs)\n",
    "#     print(labels.dtype, test_output.dtype)\n",
    "#     print(inputs)\n",
    "    loss = criterion(test_output.detach().to(device), labels.float().to(device))\n",
    "    test_losses.append(loss.item())\n",
    "    \n",
    "    preds = torch.round(test_output.squeeze())\n",
    "    \n",
    "    \n",
    "    correct_tensor = preds.eq(labels.float().view_as(preds).to(device))\n",
    "    correct = np.squeeze(correct_tensor.cpu().detach().numpy())\n",
    "    num_correct += np.sum(correct)\n",
    "    \n",
    "print(\"Test Loss: {:.4f}\".format(np.mean(test_losses)))\n",
    "print(\"Test Accuracy: {:.2f}\".format(num_correct/len(test_loader.dataset)))"
   ]
  },
  {
   "cell_type": "markdown",
   "metadata": {},
   "source": [
    "## Hyperopt Implementation\n",
    "### Note: Hyperopt was used for the selection of the model."
   ]
  },
  {
   "cell_type": "code",
   "execution_count": null,
   "metadata": {},
   "outputs": [],
   "source": [
    "def train_hyperopt(space)\n",
    "    learning_rate = space['learning_rate']\n",
    "    n_epochs = space['epochs']\n",
    "    optimizer = torch.optim.Adam(net.parameters(), lr = learning_rate, amsgrad=True)\n",
    "    clip = 5  # for gradient clip to prevent exploding gradient problem in LSTM/RNN\n",
    "    # device = 'cuda' if torch.cuda.is_available() else 'cpu'\n",
    "\n",
    "\n",
    "    training_loss_epoches = []\n",
    "    for epoch in range(n_epochs):\n",
    "        h = net.init_hidden(batch_size, device)\n",
    "        training_loss = []\n",
    "        for i, (inputs, labels) in enumerate(train_loader):\n",
    "            inputs, labels = inputs.to(device), labels.to(device)\n",
    "            h = tuple([each.data for each in h])\n",
    "            net.zero_grad()\n",
    "            output, h = net(inputs, batch_size)\n",
    "            loss = criterion(output.squeeze(), labels.float())\n",
    "            loss.backward()\n",
    "            training_loss.append(loss.item())\n",
    "            nn.utils.clip_grad_norm(net.parameters(), clip)\n",
    "            optimizer.step()\n",
    "            \n",
    "    net.eval()\n",
    "    valid_losses = []\n",
    "    v_h = net.init_hidden(batch_size, device)\n",
    "\n",
    "    for v_inputs, v_labels in valid_loader:\n",
    "        v_inputs, v_labels = inputs.to(device), labels.to(device)\n",
    "\n",
    "        v_h = tuple([each.data for each in v_h])\n",
    "\n",
    "        v_output, v_h = net(v_inputs, batch_size)\n",
    "        v_loss = criterion(v_output.squeeze(), v_labels.float())\n",
    "        valid_losses.append(v_loss.item())\n",
    "        \n",
    "        np.mean(valid_losses)\n",
    "        return {'loss': np.mean(valid_losses), 'model': net, 'status': STATUS_OK}\n",
    "\n",
    "space = {\n",
    "        'learning_rate': hp.quniform('learning_rate', 0.001, 0.04, 0.005),\n",
    "        'epochs': hp.quniform('epochs', 20, 200, 20),\n",
    "        'train': train_loader,\n",
    "        'y_train': y_train.to_numpy(),\n",
    "        'val': val_loader}\n",
    "\n",
    "    trials = Trials()\n",
    "    best = fmin(fn=train_hyperopt,\n",
    "                space=space,\n",
    "                algo=tpe.suggest,\n",
    "                max_evals=int(max_evals),\n",
    "                trials=trials)"
   ]
  }
 ],
 "metadata": {
  "kernelspec": {
   "display_name": "Python 3",
   "language": "python",
   "name": "python3"
  },
  "language_info": {
   "codemirror_mode": {
    "name": "ipython",
    "version": 3
   },
   "file_extension": ".py",
   "mimetype": "text/x-python",
   "name": "python",
   "nbconvert_exporter": "python",
   "pygments_lexer": "ipython3",
   "version": "3.8.5"
  }
 },
 "nbformat": 4,
 "nbformat_minor": 4
}
