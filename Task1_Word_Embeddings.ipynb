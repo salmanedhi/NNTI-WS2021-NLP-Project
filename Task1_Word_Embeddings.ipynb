{
 "cells": [
  {
   "cell_type": "markdown",
   "metadata": {
    "id": "_VZXi_KGi0UR"
   },
   "source": [
    "# Task 1: Word Embeddings (10 points)\n",
    "\n",
    "This notebook will guide you through all steps necessary to train a word2vec model (Detailed description in the PDF)."
   ]
  },
  {
   "cell_type": "markdown",
   "metadata": {
    "id": "48t-II1vkuau"
   },
   "source": [
    "## Imports\n",
    "\n",
    "This code block is reserved for your imports. \n",
    "\n",
    "You are free to use the following packages: \n",
    "\n",
    "(List of packages)"
   ]
  },
  {
   "cell_type": "code",
   "execution_count": 1,
   "metadata": {
    "id": "4kh6nh84-AOL"
   },
   "outputs": [
    {
     "name": "stdout",
     "output_type": "stream",
     "text": [
      "Done\n"
     ]
    }
   ],
   "source": [
    "# Imports\n",
    "import numpy as np\n",
    "import pandas as pd\n",
    "import nltk\n",
    "from nltk.corpus import stopwords\n",
    "import torch as torch\n",
    "from torch import nn\n",
    "from nltk.tokenize import word_tokenize\n",
    "import math as mt\n",
    "import time\n",
    "import random\n",
    "from joblib import Parallel, delayed\n",
    "from torch.autograd import Variable\n",
    "import matplotlib.pyplot as plt\n",
    "from sklearn.utils import shuffle\n",
    "import torch.utils.data as data_utils\n",
    "from torch.utils.data import DataLoader\n",
    "print(\"Done\")"
   ]
  },
  {
   "cell_type": "markdown",
   "metadata": {
    "id": "NWmk3hVllEcU"
   },
   "source": [
    "# 1.1 Get the data (0.5 points)\n",
    "\n",
    "The Hindi portion HASOC corpus from [github.io](https://hasocfire.github.io/hasoc/2019/dataset.html) is already available in the repo, at data/hindi_hatespeech.tsv . Load it into a data structure of your choice. Then, split off a small part of the corpus as a development set (~100 data points).\n",
    "\n",
    "If you are using Colab the first two lines will let you upload folders or files from your local file system."
   ]
  },
  {
   "cell_type": "code",
   "execution_count": 2,
   "metadata": {
    "id": "XtI7DJ-0-AOP"
   },
   "outputs": [
    {
     "name": "stdout",
     "output_type": "stream",
     "text": [
      "Done cuda:0\n"
     ]
    }
   ],
   "source": [
    "# Selecting GPU if available\n",
    "if torch.cuda.is_available():\n",
    "    dev = \"cuda:0\"\n",
    "else:\n",
    "    dev = \"cpu\"\n",
    "    \n",
    "url = 'https://raw.githubusercontent.com/salmanedhi/NNTI-WS2021-NLP-Project/main/data/hindi_hatespeech.tsv'\n",
    "\n",
    "print(\"Done\", dev)"
   ]
  },
  {
   "cell_type": "code",
   "execution_count": 9,
   "metadata": {},
   "outputs": [
    {
     "name": "stdout",
     "output_type": "stream",
     "text": [
      "            text_id                                               text task_1  \\\n",
      "0     hasoc_hi_5556  बांग्लादेश की शानदार वापसी, भारत को 314 रन पर ...    NOT   \n",
      "1     hasoc_hi_5648  सब रंडी नाच देखने मे व्यस्त जैसे ही कोई #शांती...    HOF   \n",
      "2      hasoc_hi_164  तुम जैसे हरामियों के लिए बस जूतों की कमी है शु...    HOF   \n",
      "3     hasoc_hi_3530  बीजेपी MLA आकाश विजयवर्गीय जेल से रिहा, जमानत ...    NOT   \n",
      "4     hasoc_hi_5206  चमकी बुखार: विधानसभा परिसर में आरजेडी का प्रदर...    NOT   \n",
      "...             ...                                                ...    ...   \n",
      "4660  hasoc_hi_6606  पाकिस्तान ने हिंदुओं के ख़िलाफ़ बोलने वाले को ...    NOT   \n",
      "4661  hasoc_hi_4931  कोहली है #नेहरू नहीं जो अंग्रेजों के तलवे चाटन...    HOF   \n",
      "4662  hasoc_hi_1059      परशुराम? वही जिसने अपनी मां की हत्या की थीं?     NOT   \n",
      "4663  hasoc_hi_5429  जिस देश में #कन्हैया_कुमार जैसा पढ़ा लिखा युवा...    HOF   \n",
      "4664  hasoc_hi_1656  इनके बापों मैं भी दम नहीं जो भारत को इस्लामिक ...    HOF   \n",
      "\n",
      "     task_2 task_3  \n",
      "0      NONE   NONE  \n",
      "1      PRFN    UNT  \n",
      "2      PRFN    TIN  \n",
      "3      NONE   NONE  \n",
      "4      NONE   NONE  \n",
      "...     ...    ...  \n",
      "4660   NONE   NONE  \n",
      "4661   PRFN    TIN  \n",
      "4662   NONE   NONE  \n",
      "4663   HATE    TIN  \n",
      "4664   HATE    TIN  \n",
      "\n",
      "[4665 rows x 5 columns]\n"
     ]
    }
   ],
   "source": [
    "# Getting complete Hindi Dataset\n",
    "url = 'https://raw.githubusercontent.com/salmanedhi/NNTI-WS2021-NLP-Project/main/data/hindi_hatespeech.tsv'\n",
    "\n",
    "data = pd.read_csv(url, sep='\\t')\n",
    "data_development = data\n",
    "type(data_development['task_1'])\n",
    "\n",
    "print(data_development)"
   ]
  },
  {
   "cell_type": "markdown",
   "metadata": {
    "id": "D-mSJ8nUlupB"
   },
   "source": [
    "## 1.2 Data preparation (0.5 + 0.5 points)\n",
    "\n",
    "* Prepare the data by removing everything that does not contain information. \n",
    "User names (starting with '@') and punctuation symbols clearly do not convey information, but we also want to get rid of so-called [stopwords](https://en.wikipedia.org/wiki/Stop_word), i. e. words that have little to no semantic content (and, but, yes, the...). Hindi stopwords can be found [here](https://github.com/stopwords-iso/stopwords-hi/blob/master/stopwords-hi.txt) Then, standardize the spelling by lowercasing all words.\n",
    "Do this for the development section of the corpus for now.\n",
    "\n",
    "* What about hashtags (starting with '#') and emojis? Should they be removed too? Justify your answer in the report, and explain how you accounted for this in your implementation."
   ]
  },
  {
   "cell_type": "code",
   "execution_count": 4,
   "metadata": {
    "id": "CHcNeyKi-AOQ"
   },
   "outputs": [
    {
     "name": "stdout",
     "output_type": "stream",
     "text": [
      "Done\n"
     ]
    }
   ],
   "source": [
    "# Removing stopwords\n",
    "\n",
    "hindi_stopword_file = open('data/stopwords-hi.txt', encoding=\"utf8\")\n",
    "\n",
    "sw_list = ['#', '?', '!', ';', ',', ':', \"\\'\", '-', '=', '(', ')', '[', ']' , '{', '}', '\"', '*', '@', '  ', '\\\\', '/', '..', '...', '....', '%'\n",
    "          ,'0', '1', '2', '3', '4', '5', '6', '7', '8', '9', '\\t']\n",
    "sw_list_string = ''\n",
    "for i in sw_list:\n",
    "    sw_list_string+=i\n",
    "hindi_stopwords = []\n",
    "for x in hindi_stopword_file:\n",
    "    hindi_stopwords.append(x.rstrip())\n",
    "\n",
    "hindi_stopwords.extend(sw_list)\n",
    "sentences = []\n",
    "for text in data_development['text']:\n",
    "    text_array = text.split(' ')\n",
    "    new_array = []\n",
    "    for j in text_array:\n",
    "        if '@' not in j and len(j) < 20:\n",
    "            for char in sw_list:\n",
    "                j = j.replace(char, '')\n",
    "            new_array.append(j.lower())\n",
    "    sentences.append(' '.join(new_array))\n",
    "\n",
    "print(\"Done\")"
   ]
  },
  {
   "cell_type": "markdown",
   "metadata": {
    "id": "Je09nozLmmMm"
   },
   "source": [
    "## 1.3 Build the vocabulary (0.5 + 0.5 points)\n",
    "\n",
    "The input to the first layer of word2vec is an one-hot encoding of the current word. The output od the model is then compared to a numeric class label of the words within the size of the skip-gram window. Now\n",
    "\n",
    "* Compile a list of all words in the development section of your corpus and save it in a variable ```V```."
   ]
  },
  {
   "cell_type": "code",
   "execution_count": 5,
   "metadata": {
    "id": "VpoGmTKx-AOQ"
   },
   "outputs": [
    {
     "name": "stdout",
     "output_type": "stream",
     "text": [
      "Total words: 141550\n",
      "Unique words: 19836\n"
     ]
    }
   ],
   "source": [
    "# Creating vocabulary of words\n",
    "temp_unique = [] # For unique words\n",
    "temp_nounique = []\n",
    "for j in sentences:\n",
    "    temp2 = j.split(' ')\n",
    "    for k in temp2:\n",
    "        if k not in temp_unique:\n",
    "            temp_unique.append(k)\n",
    "        temp_nounique.append(k)\n",
    "V = temp_unique\n",
    "non_unique = temp_nounique\n",
    "print('Total words:', len(non_unique))\n",
    "print('Unique words:', len(V))"
   ]
  },
  {
   "cell_type": "markdown",
   "metadata": {
    "id": "WiaVglVNoENY"
   },
   "source": [
    "* Then, write a function ```word_to_one_hot``` that returns a one-hot encoding of an arbitrary word in the vocabulary. The size of the one-hot encoding should be ```len(v)```."
   ]
  },
  {
   "cell_type": "code",
   "execution_count": 6,
   "metadata": {
    "id": "yqPNw6IT-AOQ"
   },
   "outputs": [],
   "source": [
    "\n",
    "# takes word as input and total number of words, and created one hot encoding of that word\n",
    "def word_to_one_hot(word, features):\n",
    "    if word in V:\n",
    "        index = V.index(word)\n",
    "        encoding = np.zeros(features)\n",
    "        encoding[index]= 1\n",
    "        return encoding.astype(np.uint8)\n",
    "    return False\n",
    "\n",
    "# Returns index of word in vocabulary\n",
    "def not_word_to_one_hot(word, features):\n",
    "    if word in V:\n",
    "        index = V.index(word)\n",
    "        return index\n",
    "    return False"
   ]
  },
  {
   "cell_type": "markdown",
   "metadata": {
    "id": "gKD8zBlxVclh"
   },
   "source": [
    "## 1.4 Subsampling (0.5 points)\n",
    "\n",
    "The probability to keep a word in a context is given by:\n",
    "\n",
    "$P_{keep}(w_i) = \\Big(\\sqrt{\\frac{z(w_i)}{0.001}}+1\\Big) \\cdot \\frac{0.001}{z(w_i)}$\n",
    "\n",
    "Where $z(w_i)$ is the relative frequency of the word $w_i$ in the corpus. Now,\n",
    "* Calculate word frequencies\n",
    "* Define a function ```sampling_prob``` that takes a word (string) as input and returns the probabiliy to **keep** the word in a context."
   ]
  },
  {
   "cell_type": "code",
   "execution_count": 7,
   "metadata": {
    "id": "Mj4sDOVMMr0b"
   },
   "outputs": [],
   "source": [
    "def sampling_prob(word):\n",
    "    z_wi = non_unique.count(word) / len(non_unique)\n",
    "    try:\n",
    "        p_wi = (mt.sqrt(z_wi / 0.001) + 1) * (0.001 / z_wi)\n",
    "        return p_wi\n",
    "    except ZeroDivisionError:\n",
    "        print(\"Word doesn't exist in corpus\")\n",
    "    pass"
   ]
  },
  {
   "cell_type": "code",
   "execution_count": 10,
   "metadata": {},
   "outputs": [
    {
     "name": "stdout",
     "output_type": "stream",
     "text": [
      "(19836,)\n",
      "[1 0 0 ... 0 0 0]\n"
     ]
    }
   ],
   "source": [
    "# Just for testing\n",
    "sampling_prob('बांग्लादेश')\n",
    "sample_onehot = word_to_one_hot('बांग्लादेश', len(V))\n",
    "print(sample_onehot.shape)\n",
    "print(sample_onehot)"
   ]
  },
  {
   "cell_type": "markdown",
   "metadata": {
    "id": "kxV1P90zplxu"
   },
   "source": [
    "# 1.5 Skip-Grams (1 point)\n",
    "\n",
    "Now that you have the vocabulary and one-hot encodings at hand, you can start to do the actual work. The skip gram model requires training data of the shape ```(current_word, context)```, with ```context``` being the words before and/or after ```current_word``` within ```window_size```. \n",
    "\n",
    "* Have closer look on the original paper. If you feel to understand how skip-gram works, implement a function ```get_target_context``` that takes a sentence as input and [yield](https://docs.python.org/3.9/reference/simple_stmts.html#the-yield-statement)s a ```(current_word, context)```.\n",
    "\n",
    "* Use your ```sampling_prob``` function to drop words from contexts as you sample them. "
   ]
  },
  {
   "cell_type": "code",
   "execution_count": 11,
   "metadata": {
    "id": "r8CCTpVy-AOR"
   },
   "outputs": [
    {
     "name": "stdout",
     "output_type": "stream",
     "text": [
      "Done\n"
     ]
    }
   ],
   "source": [
    "# Takes in window size and sentence to create target and context tuple\n",
    "def get_target_context(sentence, window_size):\n",
    "    word = ''\n",
    "    words_in_sentence = sentence.split(' ')\n",
    "    for i in range(len(words_in_sentence)):\n",
    "        context = []\n",
    "        randd = random.random()\n",
    "        if randd <= sampling_prob(words_in_sentence[i]):\n",
    "            word = words_in_sentence[i]\n",
    "            upper_bound = i + window_size + 1\n",
    "            lower_bound = i - window_size\n",
    "            for j in range(lower_bound, upper_bound):\n",
    "                rand2 = random.random()\n",
    "                if i != j and j>=0 and j<len(words_in_sentence):\n",
    "                    if rand2 <= sampling_prob(words_in_sentence[j]):\n",
    "                        context.append(words_in_sentence[j])\n",
    "        if len(word) > 0 and len(context) > 0:\n",
    "            yield(word, context)\n",
    "\n",
    "print(\"Done\")"
   ]
  },
  {
   "cell_type": "markdown",
   "metadata": {
    "id": "gfEFgtkmuDjL"
   },
   "source": [
    "# 1.6 Hyperparameters (0.5 points)\n",
    "\n",
    "According to the word2vec paper, what would be a good choice for the following hyperparameters? \n",
    "\n",
    "* Embedding dimension\n",
    "* Window size\n",
    "\n",
    "Initialize them in a dictionary or as independent variables in the code block below. "
   ]
  },
  {
   "cell_type": "code",
   "execution_count": 12,
   "metadata": {
    "id": "d7xSKuFJcYoD"
   },
   "outputs": [],
   "source": [
    "window_size = 4\n",
    "embedding_size = 640\n",
    "\n",
    "# More hyperparameters\n",
    "learning_rate = 0.01\n",
    "epochs = 50"
   ]
  },
  {
   "cell_type": "markdown",
   "metadata": {
    "id": "xiM2zq-YunPx"
   },
   "source": [
    "# 1.7 Pytorch Module (0.5 + 0.5 + 0.5 points)\n",
    "\n",
    "Pytorch provides a wrapper for your fancy and super-complex models: [torch.nn.Module](https://pytorch.org/docs/stable/generated/torch.nn.Module.html). The code block below contains a skeleton for such a wrapper. Now,\n",
    "\n",
    "* Initialize the two weight matrices of word2vec as fields of the class.\n",
    "\n",
    "* Override the ```forward``` method of this class. It should take a one-hot encoding as input, perform the matrix multiplications, and finally apply a log softmax on the output layer.\n",
    "\n",
    "* Initialize the model and save its weights in a variable. The Pytorch documentation will tell you how to do that."
   ]
  },
  {
   "cell_type": "code",
   "execution_count": 13,
   "metadata": {
    "colab": {
     "base_uri": "https://localhost:8080/"
    },
    "id": "D9sGNytYhwxS",
    "outputId": "41645b64-e4ed-4e6a-e10f-74cb39b92230"
   },
   "outputs": [
    {
     "name": "stdout",
     "output_type": "stream",
     "text": [
      "Done\n"
     ]
    }
   ],
   "source": [
    "# Create model \n",
    "\n",
    "class Word2Vec(nn.Module):\n",
    "    def __init__(self, features, embedding_size):\n",
    "        super().__init__()\n",
    "        self.fc1 = nn.Linear(features, embedding_size)\n",
    "        self.fc2 = nn.Linear(embedding_size, features)\n",
    "\n",
    "\n",
    "    def forward(self, one_hot):\n",
    "        x = self.fc1(one_hot.float())\n",
    "        x = self.fc2(x)\n",
    "        log_softmax = torch.nn.functional.log_softmax(x, dim=1)\n",
    "        return log_softmax\n",
    "#     pass\n",
    "\n",
    "print(\"Done\")"
   ]
  },
  {
   "cell_type": "markdown",
   "metadata": {
    "id": "XefIDMMHv5zJ"
   },
   "source": [
    "# 1.8 Loss function and optimizer (0.5 points)\n",
    "\n",
    "Initialize variables with [optimizer](https://pytorch.org/docs/stable/optim.html#module-torch.optim) and loss function. You can take what is used in the word2vec paper, but you can use alternative optimizers/loss functions if you explain your choice in the report."
   ]
  },
  {
   "cell_type": "markdown",
   "metadata": {},
   "source": [
    "### Creating target, context tuple"
   ]
  },
  {
   "cell_type": "code",
   "execution_count": 16,
   "metadata": {},
   "outputs": [
    {
     "name": "stdout",
     "output_type": "stream",
     "text": [
      "4665\n",
      "started\n",
      "INDEX: 49 Length: 5763\n",
      "INDEX: 99 Length: 11801\n",
      "INDEX: 149 Length: 18074\n",
      "INDEX: 199 Length: 23901\n",
      "INDEX: 249 Length: 29182\n",
      "INDEX: 299 Length: 36056\n",
      "INDEX: 349 Length: 43026\n",
      "INDEX: 399 Length: 49027\n",
      "INDEX: 449 Length: 54513\n",
      "INDEX: 499 Length: 61058\n",
      "INDEX: 549 Length: 67488\n",
      "INDEX: 599 Length: 74382\n",
      "INDEX: 649 Length: 81213\n",
      "INDEX: 699 Length: 87837\n",
      "INDEX: 749 Length: 94357\n",
      "INDEX: 799 Length: 101828\n",
      "INDEX: 849 Length: 107540\n",
      "INDEX: 899 Length: 113735\n",
      "INDEX: 949 Length: 121055\n",
      "INDEX: 999 Length: 126681\n",
      "INDEX: 1049 Length: 133371\n",
      "INDEX: 1099 Length: 139038\n",
      "INDEX: 1149 Length: 145709\n",
      "INDEX: 1199 Length: 152016\n",
      "INDEX: 1249 Length: 157403\n",
      "INDEX: 1299 Length: 162902\n",
      "INDEX: 1349 Length: 167591\n",
      "INDEX: 1399 Length: 172549\n",
      "INDEX: 1449 Length: 178246\n",
      "INDEX: 1499 Length: 183985\n",
      "INDEX: 1549 Length: 188529\n",
      "INDEX: 1599 Length: 194461\n",
      "INDEX: 1649 Length: 199520\n",
      "INDEX: 1699 Length: 205833\n",
      "INDEX: 1749 Length: 210883\n",
      "INDEX: 1799 Length: 217149\n",
      "INDEX: 1849 Length: 222267\n",
      "INDEX: 1899 Length: 227599\n",
      "INDEX: 1949 Length: 233943\n",
      "INDEX: 1999 Length: 240945\n",
      "INDEX: 2049 Length: 247152\n",
      "INDEX: 2099 Length: 253122\n",
      "INDEX: 2149 Length: 260200\n",
      "INDEX: 2199 Length: 266506\n",
      "INDEX: 2249 Length: 273311\n",
      "INDEX: 2299 Length: 280574\n",
      "INDEX: 2349 Length: 287088\n",
      "INDEX: 2399 Length: 293509\n",
      "INDEX: 2449 Length: 300253\n",
      "INDEX: 2499 Length: 306338\n",
      "INDEX: 2549 Length: 313057\n",
      "INDEX: 2599 Length: 320108\n",
      "INDEX: 2649 Length: 327028\n",
      "INDEX: 2699 Length: 333991\n",
      "INDEX: 2749 Length: 340700\n",
      "INDEX: 2799 Length: 348317\n",
      "INDEX: 2849 Length: 356074\n",
      "INDEX: 2899 Length: 363146\n",
      "INDEX: 2949 Length: 368979\n",
      "INDEX: 2999 Length: 375919\n",
      "INDEX: 3049 Length: 382735\n",
      "INDEX: 3099 Length: 389262\n",
      "INDEX: 3149 Length: 396525\n",
      "INDEX: 3199 Length: 404098\n",
      "INDEX: 3249 Length: 411412\n",
      "INDEX: 3299 Length: 417375\n",
      "INDEX: 3349 Length: 425355\n",
      "INDEX: 3399 Length: 433213\n",
      "INDEX: 3449 Length: 440678\n",
      "INDEX: 3499 Length: 448699\n",
      "INDEX: 3549 Length: 455946\n",
      "INDEX: 3599 Length: 463077\n",
      "INDEX: 3649 Length: 470390\n",
      "INDEX: 3699 Length: 475940\n",
      "INDEX: 3749 Length: 482329\n",
      "INDEX: 3799 Length: 488947\n",
      "INDEX: 3849 Length: 496966\n",
      "INDEX: 3899 Length: 504264\n",
      "INDEX: 3949 Length: 511468\n",
      "INDEX: 3999 Length: 518772\n",
      "INDEX: 4049 Length: 526271\n",
      "INDEX: 4099 Length: 534543\n",
      "INDEX: 4149 Length: 542706\n",
      "INDEX: 4199 Length: 549647\n",
      "INDEX: 4249 Length: 555715\n",
      "INDEX: 4299 Length: 563559\n",
      "INDEX: 4349 Length: 570853\n",
      "INDEX: 4399 Length: 578316\n",
      "INDEX: 4449 Length: 585219\n",
      "INDEX: 4499 Length: 591780\n",
      "INDEX: 4549 Length: 598111\n",
      "INDEX: 4599 Length: 605813\n",
      "INDEX: 4649 Length: 612270\n",
      "(614572,)\n"
     ]
    }
   ],
   "source": [
    "# Creating x and y pair for training and saving them for future use\n",
    "\n",
    "def create_dataset(sentences):\n",
    "    x_train = []\n",
    "    y_train = []\n",
    "    count = 0\n",
    "    print(\"started\")\n",
    "    for j, i in enumerate(sentences):\n",
    "        if (j + 1) % 50 == 0:\n",
    "            print(\"INDEX:\", j, \"Length:\",len(x_train))\n",
    "        word_context = get_target_context(i, window_size)\n",
    "        for word, context in word_context:\n",
    "            input_vec = not_word_to_one_hot(word, len(V))\n",
    "            for j in context:\n",
    "                output_vec = not_word_to_one_hot(j, len(V))\n",
    "                x_train.append(input_vec)\n",
    "                y_train.append(output_vec)\n",
    "    x_train = np.array(x_train)\n",
    "    y_train = np.array(y_train)\n",
    "    np.save('x_train_hindi', x_train)\n",
    "    np.save('y_train_hindi', y_train)\n",
    "    return x_train, y_train\n",
    "print(len(sentences))\n",
    "x_train, y_train = create_dataset(sentences)\n",
    "print(x_train.shape)"
   ]
  },
  {
   "cell_type": "markdown",
   "metadata": {},
   "source": [
    "### Loading to dataloader"
   ]
  },
  {
   "cell_type": "code",
   "execution_count": 18,
   "metadata": {},
   "outputs": [
    {
     "name": "stdout",
     "output_type": "stream",
     "text": [
      "(614572,)\n",
      "19835\n",
      "Done\n"
     ]
    }
   ],
   "source": [
    "# Loading presaved numpy array (data).\n",
    "x_train = np.load('x_train_hindi.npy')\n",
    "y_train = np.load('y_train_hindi.npy')\n",
    "print(x_train.shape)\n",
    "print(max(x_train))\n",
    "print(\"Done\")"
   ]
  },
  {
   "cell_type": "code",
   "execution_count": 19,
   "metadata": {},
   "outputs": [
    {
     "name": "stdout",
     "output_type": "stream",
     "text": [
      "2\n",
      "614572\n"
     ]
    }
   ],
   "source": [
    "print(y_train[0])\n",
    "batch_size = 1000\n",
    "x_train = torch.from_numpy(x_train)\n",
    "y_train = torch.from_numpy(y_train)\n",
    "x_train = data_utils.TensorDataset(x_train, y_train)\n",
    "train_dl = DataLoader(x_train, batch_size=batch_size, shuffle=True)\n",
    "features = len(V)\n",
    "total_rows = len(y_train)\n",
    "print(total_rows)"
   ]
  },
  {
   "cell_type": "markdown",
   "metadata": {
    "id": "ckTfK78Ew8wI"
   },
   "source": [
    "# 1.9 Training the model (3 points)\n",
    "\n",
    "As everything is prepared, implement a training loop that performs several passes of the data set through the model. You are free to do this as you please, but your code should:\n",
    "\n",
    "* Load the weights saved in 1.6 at the start of every execution of the code block\n",
    "* Print the accumulated loss at least after every epoch (the accumulate loss should be reset after every epoch)\n",
    "* Define a criterion for the training procedure to terminate if a certain loss value is reached. You can find the threshold by observing the loss for the development set.\n",
    "\n",
    "You can play around with the number of epochs and the learning rate."
   ]
  },
  {
   "cell_type": "code",
   "execution_count": 21,
   "metadata": {},
   "outputs": [
    {
     "name": "stdout",
     "output_type": "stream",
     "text": [
      "Started:\n"
     ]
    },
    {
     "name": "stderr",
     "output_type": "stream",
     "text": [
      "<ipython-input-21-00d9cc051eae>:28: UserWarning: To copy construct from a tensor, it is recommended to use sourceTensor.clone().detach() or sourceTensor.clone().detach().requires_grad_(True), rather than torch.tensor(sourceTensor).\n",
      "  loss = criterion(y_pred_torch, torch.max(torch.tensor(y_batch), 1)[1])\n"
     ]
    },
    {
     "name": "stdout",
     "output_type": "stream",
     "text": [
      "Epoch: 0 \tLoss: 8.19541756389587\n",
      "Epoch: 1 \tLoss: 7.428822573219858\n",
      "Epoch: 2 \tLoss: 7.192678070068359\n",
      "Epoch: 3 \tLoss: 7.059873238230139\n",
      "Epoch: 4 \tLoss: 6.969899367510788\n",
      "Epoch: 5 \tLoss: 6.905386175760409\n",
      "Epoch: 6 \tLoss: 6.853943573556295\n",
      "Epoch: 7 \tLoss: 6.813107047817572\n",
      "Epoch: 8 \tLoss: 6.776615404113522\n",
      "Epoch: 9 \tLoss: 6.738992171558907\n",
      "Epoch: 10 \tLoss: 6.7100015585984645\n",
      "Epoch: 11 \tLoss: 6.68120086793977\n",
      "Epoch: 12 \tLoss: 6.6599945928992295\n",
      "Epoch: 13 \tLoss: 6.636457968921196\n",
      "Epoch: 14 \tLoss: 6.61482912621847\n",
      "Epoch: 15 \tLoss: 6.605704022229203\n",
      "Epoch: 16 \tLoss: 6.585478501978929\n",
      "Epoch: 17 \tLoss: 6.57417120041886\n",
      "Epoch: 18 \tLoss: 6.563918624660833\n",
      "Epoch: 19 \tLoss: 6.55483085973476\n",
      "Epoch: 20 \tLoss: 6.539381245093617\n",
      "Epoch: 21 \tLoss: 6.534014508782364\n",
      "Epoch: 22 \tLoss: 6.530230622950608\n",
      "Epoch: 23 \tLoss: 6.524380659087886\n",
      "Epoch: 24 \tLoss: 6.514771000931902\n",
      "Epoch: 25 \tLoss: 6.509192520234643\n",
      "Epoch: 26 \tLoss: 6.501413726031296\n",
      "Epoch: 27 \tLoss: 6.4997447711665455\n",
      "Epoch: 28 \tLoss: 6.4984660311443045\n",
      "Epoch: 29 \tLoss: 6.496761468561684\n",
      "Epoch: 30 \tLoss: 6.487117692900867\n",
      "Epoch: 31 \tLoss: 6.488458316306757\n",
      "Epoch: 32 \tLoss: 6.483347486480465\n",
      "Epoch: 33 \tLoss: 6.482110765503674\n",
      "Epoch: 34 \tLoss: 6.478730581640228\n",
      "Epoch: 35 \tLoss: 6.475137358564671\n",
      "Epoch: 36 \tLoss: 6.472839951709034\n",
      "Epoch: 37 \tLoss: 6.471963286206005\n",
      "Epoch: 38 \tLoss: 6.4697350889686644\n",
      "Epoch: 39 \tLoss: 6.4699951055573255\n",
      "Epoch: 40 \tLoss: 6.468020692685755\n",
      "Epoch: 41 \tLoss: 6.460639488406297\n",
      "Epoch: 42 \tLoss: 6.461678222718278\n",
      "Epoch: 43 \tLoss: 6.457377637692583\n",
      "Epoch: 44 \tLoss: 6.46148484547933\n",
      "Epoch: 45 \tLoss: 6.459395765289059\n",
      "Epoch: 46 \tLoss: 6.456205212972997\n",
      "Epoch: 47 \tLoss: 6.452697782594014\n",
      "Epoch: 48 \tLoss: 6.456095764501308\n",
      "Epoch: 49 \tLoss: 6.4489315878085005\n",
      "Training finished\n"
     ]
    },
    {
     "data": {
      "image/png": "[encoded data removed]",
      "text/plain": [
       "<Figure size 432x288 with 1 Axes>"
      ]
     },
     "metadata": {
      "needs_background": "light"
     },
     "output_type": "display_data"
    }
   ],
   "source": [
    "# Define optimizer and loss\n",
    "\n",
    "net = Word2Vec(len(V), embedding_size)\n",
    "net.to(dev)\n",
    "optimizer = torch.optim.Adam(net.parameters(), lr=0.01)\n",
    "criterion = nn.NLLLoss()\n",
    "\n",
    "def train():\n",
    "    print(\"Started:\")\n",
    "    loss_vals=  []\n",
    "    for e in range(epochs):\n",
    "        epoch_loss= []\n",
    "        for i, (X_batch, y_batch) in enumerate(train_dl):\n",
    "            X_batch = np.eye(len(V))[X_batch]\n",
    "            y_batch = np.eye(len(V))[y_batch]\n",
    "            X_batch = torch.Tensor(X_batch).to(dev)\n",
    "            y_batch = torch.Tensor(y_batch).to(dev)\n",
    "            y_pred_torch = net(X_batch)\n",
    "            loss = criterion(y_pred_torch, torch.max(torch.tensor(y_batch), 1)[1])\n",
    "            optimizer.zero_grad()\n",
    "            loss.backward()\n",
    "            epoch_loss.append(loss.item())\n",
    "            optimizer.step()\n",
    "        loss_vals.append(sum(epoch_loss)/len(epoch_loss))\n",
    "        print('Epoch:', e,'\\tLoss:',loss_vals[e])\n",
    "    torch.save(net.state_dict(), 'model_param_hindi')\n",
    "    plt.plot(np.linspace(1, epochs, epochs).astype(int), loss_vals)\n",
    "    plt.savefig('Task1_hindi.png')\n",
    "train()\n",
    "\n",
    "print(\"Training finished\")"
   ]
  },
  {
   "cell_type": "code",
   "execution_count": null,
   "metadata": {},
   "outputs": [],
   "source": [
    "print(y_train.shape)"
   ]
  },
  {
   "cell_type": "markdown",
   "metadata": {
    "id": "BgQkaYstyj0Q"
   },
   "source": [
    "# 1.10 Train on the full dataset (0.5 points)\n",
    "\n",
    "Now, go back to 1.1 and remove the restriction on the number of sentences in your corpus. Then, reexecute code blocks 1.2, 1.3 and 1.6 (or those relevant if you created additional ones). \n",
    "\n",
    "* Then, retrain your model on the complete dataset.\n",
    "\n",
    "* Now, the input weights of the model contain the desired word embeddings! Save them together with the corresponding vocabulary items (Pytorch provides a nice [functionality](https://pytorch.org/tutorials/beginner/saving_loading_models.html) for this)."
   ]
  },
  {
   "cell_type": "code",
   "execution_count": null,
   "metadata": {
    "id": "4x8hQP_bg4_g"
   },
   "outputs": [],
   "source": [
    "torch.save(net, 'model_finalised_bengali')"
   ]
  },
  {
   "cell_type": "code",
   "execution_count": null,
   "metadata": {},
   "outputs": [],
   "source": [
    "torch.load('model_finalised_bengali')"
   ]
  },
  {
   "cell_type": "code",
   "execution_count": null,
   "metadata": {},
   "outputs": [],
   "source": [
    "torch.save(net.state_dict(), 'model_param_finalised_bengali')"
   ]
  },
  {
   "cell_type": "markdown",
   "metadata": {},
   "source": [
    "###### "
   ]
  }
 ],
 "metadata": {
  "accelerator": "GPU",
  "colab": {
   "collapsed_sections": [],
   "name": "NNTI_final_project_task_1.ipynb",
   "provenance": []
  },
  "kernelspec": {
   "display_name": "Python 3",
   "language": "python",
   "name": "python3"
  },
  "language_info": {
   "codemirror_mode": {
    "name": "ipython",
    "version": 3
   },
   "file_extension": ".py",
   "mimetype": "text/x-python",
   "name": "python",
   "nbconvert_exporter": "python",
   "pygments_lexer": "ipython3",
   "version": "3.8.5"
  }
 },
 "nbformat": 4,
 "nbformat_minor": 4
}
